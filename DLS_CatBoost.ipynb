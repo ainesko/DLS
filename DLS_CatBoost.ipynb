{
  "nbformat": 4,
  "nbformat_minor": 0,
  "metadata": {
    "colab": {
      "provenance": [],
      "authorship_tag": "ABX9TyOa2snO35SpduTpa2WUBZ4V",
      "include_colab_link": true
    },
    "kernelspec": {
      "name": "python3",
      "display_name": "Python 3"
    },
    "language_info": {
      "name": "python"
    },
    "widgets": {
      "application/vnd.jupyter.widget-state+json": {
        "f7a68e63c37f4c13886befcb6baf18dc": {
          "model_module": "catboost-widget",
          "model_name": "CatboostWidgetModel",
          "model_module_version": "^1.0.0",
          "state": {
            "_dom_classes": [],
            "_model_module": "catboost-widget",
            "_model_module_version": "^1.0.0",
            "_model_name": "CatboostWidgetModel",
            "_view_count": null,
            "_view_module": "catboost-widget",
            "_view_module_version": "^1.0.0",
            "_view_name": "CatboostWidgetView",
            "data": {
              "catboost_info": {
                "path": "catboost_info",
                "name": "catboost_info",
                "content": {
                  "passed_iterations": 143,
                  "total_iterations": 144,
                  "data": {
                    "iterations": [
                      {
                        "parameters": [
                          {
                            "min_data_in_leaf": 50,
                            "random_strength": 5,
                            "depth": 3,
                            "learning_rate": 0.03,
                            "iterations": 100
                          }
                        ],
                        "learn": [
                          0.839669116,
                          0.4320556126
                        ],
                        "iteration": 0,
                        "passed_time": 0.6177943808,
                        "remaining_time": 88.34459646,
                        "test": [
                          0.8603566408,
                          0.3977623543
                        ]
                      },
                      {
                        "parameters": [
                          {
                            "min_data_in_leaf": 50,
                            "random_strength": 5,
                            "depth": 3,
                            "learning_rate": 0.05,
                            "iterations": 100
                          }
                        ],
                        "learn": [
                          0.8428899766,
                          0.424377862
                        ],
                        "iteration": 1,
                        "passed_time": 1.266559294,
                        "remaining_time": 89.92570988,
                        "test": [
                          0.8612855977,
                          0.3898132583
                        ]
                      },
                      {
                        "parameters": [
                          {
                            "min_data_in_leaf": 50,
                            "random_strength": 5,
                            "depth": 3,
                            "learning_rate": 0.07,
                            "iterations": 100
                          }
                        ],
                        "learn": [
                          0.8450294317,
                          0.4195299316
                        ],
                        "iteration": 2,
                        "passed_time": 1.877046683,
                        "remaining_time": 88.22119408,
                        "test": [
                          0.864519744,
                          0.3845611007
                        ]
                      },
                      {
                        "parameters": [
                          {
                            "min_data_in_leaf": 50,
                            "random_strength": 5,
                            "depth": 3,
                            "learning_rate": 0.03,
                            "iterations": 150
                          }
                        ],
                        "learn": [
                          0.84173578,
                          0.4256214283
                        ],
                        "iteration": 3,
                        "passed_time": 2.803838916,
                        "remaining_time": 98.13436205,
                        "test": [
                          0.8617869396,
                          0.3903094121
                        ]
                      },
                      {
                        "parameters": [
                          {
                            "min_data_in_leaf": 50,
                            "random_strength": 5,
                            "depth": 3,
                            "learning_rate": 0.05,
                            "iterations": 150
                          }
                        ],
                        "learn": [
                          0.8456915723,
                          0.4189223365
                        ],
                        "iteration": 4,
                        "passed_time": 3.716266956,
                        "remaining_time": 103.3122214,
                        "test": [
                          0.8627232691,
                          0.3855387816
                        ]
                      },
                      {
                        "parameters": [
                          {
                            "min_data_in_leaf": 50,
                            "random_strength": 5,
                            "depth": 3,
                            "learning_rate": 0.07,
                            "iterations": 150
                          }
                        ],
                        "learn": [
                          0.8523359049,
                          0.409296521
                        ],
                        "iteration": 5,
                        "passed_time": 4.624874466,
                        "remaining_time": 106.3721127,
                        "test": [
                          0.8659205521,
                          0.3793426295
                        ]
                      },
                      {
                        "parameters": [
                          {
                            "min_data_in_leaf": 50,
                            "random_strength": 5,
                            "depth": 3,
                            "learning_rate": 0.03,
                            "iterations": 200
                          }
                        ],
                        "learn": [
                          0.8440847242,
                          0.4214749696
                        ],
                        "iteration": 6,
                        "passed_time": 5.832336877,
                        "remaining_time": 114.1471646,
                        "test": [
                          0.8631263086,
                          0.3866813797
                        ]
                      },
                      {
                        "parameters": [
                          {
                            "min_data_in_leaf": 50,
                            "random_strength": 5,
                            "depth": 3,
                            "learning_rate": 0.05,
                            "iterations": 200
                          }
                        ],
                        "learn": [
                          0.8505671397,
                          0.4120900989
                        ],
                        "iteration": 7,
                        "passed_time": 7.048511879,
                        "remaining_time": 119.8247019,
                        "test": [
                          0.8641240772,
                          0.3818872161
                        ]
                      },
                      {
                        "parameters": [
                          {
                            "min_data_in_leaf": 50,
                            "random_strength": 5,
                            "depth": 3,
                            "learning_rate": 0.07,
                            "iterations": 200
                          }
                        ],
                        "learn": [
                          0.8602790133,
                          0.399272018
                        ],
                        "iteration": 8,
                        "passed_time": 8.258862409,
                        "remaining_time": 123.8829361,
                        "test": [
                          0.8661368172,
                          0.3783525387
                        ]
                      },
                      {
                        "parameters": [
                          {
                            "min_data_in_leaf": 50,
                            "random_strength": 5,
                            "depth": 3,
                            "learning_rate": 0.03,
                            "iterations": 250
                          }
                        ],
                        "learn": [
                          0.8458467548,
                          0.418655937
                        ],
                        "iteration": 9,
                        "passed_time": 9.796384561,
                        "remaining_time": 131.2715531,
                        "test": [
                          0.863863576,
                          0.3845507993
                        ]
                      },
                      {
                        "parameters": [
                          {
                            "min_data_in_leaf": 50,
                            "random_strength": 5,
                            "depth": 3,
                            "learning_rate": 0.05,
                            "iterations": 250
                          }
                        ],
                        "learn": [
                          0.8585032269,
                          0.4015799583
                        ],
                        "iteration": 10,
                        "passed_time": 11.33956018,
                        "remaining_time": 137.1055913,
                        "test": [
                          0.8651169306,
                          0.3801135626
                        ]
                      },
                      {
                        "parameters": [
                          {
                            "min_data_in_leaf": 50,
                            "random_strength": 5,
                            "depth": 3,
                            "learning_rate": 0.07,
                            "iterations": 250
                          }
                        ],
                        "learn": [
                          0.8643878387,
                          0.3939097763
                        ],
                        "iteration": 11,
                        "passed_time": 12.84921548,
                        "remaining_time": 141.3413703,
                        "test": [
                          0.8657067445,
                          0.378848446
                        ]
                      },
                      {
                        "parameters": [
                          {
                            "min_data_in_leaf": 50,
                            "random_strength": 5,
                            "depth": 5,
                            "learning_rate": 0.03,
                            "iterations": 100
                          }
                        ],
                        "learn": [
                          0.8448597769,
                          0.4252979278
                        ],
                        "iteration": 12,
                        "passed_time": 13.8098123,
                        "remaining_time": 139.1604162,
                        "test": [
                          0.8601403757,
                          0.3952224256
                        ]
                      },
                      {
                        "parameters": [
                          {
                            "min_data_in_leaf": 50,
                            "random_strength": 5,
                            "depth": 5,
                            "learning_rate": 0.05,
                            "iterations": 100
                          }
                        ],
                        "learn": [
                          0.8482531581,
                          0.416761038
                        ],
                        "iteration": 13,
                        "passed_time": 14.76513292,
                        "remaining_time": 137.1048057,
                        "test": [
                          0.8625192918,
                          0.3868915841
                        ]
                      },
                      {
                        "parameters": [
                          {
                            "min_data_in_leaf": 50,
                            "random_strength": 5,
                            "depth": 5,
                            "learning_rate": 0.07,
                            "iterations": 100
                          }
                        ],
                        "learn": [
                          0.8527207804,
                          0.4100933384
                        ],
                        "iteration": 14,
                        "passed_time": 15.75186566,
                        "remaining_time": 135.4660447,
                        "test": [
                          0.8660458875,
                          0.3811140274
                        ]
                      },
                      {
                        "parameters": [
                          {
                            "min_data_in_leaf": 50,
                            "random_strength": 5,
                            "depth": 5,
                            "learning_rate": 0.03,
                            "iterations": 150
                          }
                        ],
                        "learn": [
                          0.8479413602,
                          0.4178697916
                        ],
                        "iteration": 15,
                        "passed_time": 17.15146468,
                        "remaining_time": 137.2117174,
                        "test": [
                          0.8621088796,
                          0.3879066557
                        ]
                      },
                      {
                        "parameters": [
                          {
                            "min_data_in_leaf": 50,
                            "random_strength": 5,
                            "depth": 5,
                            "learning_rate": 0.05,
                            "iterations": 150
                          }
                        ],
                        "learn": [
                          0.8522748636,
                          0.4107323323
                        ],
                        "iteration": 16,
                        "passed_time": 18.51630523,
                        "remaining_time": 138.327692,
                        "test": [
                          0.8638095098,
                          0.3830689714
                        ]
                      },
                      {
                        "parameters": [
                          {
                            "min_data_in_leaf": 50,
                            "random_strength": 5,
                            "depth": 5,
                            "learning_rate": 0.07,
                            "iterations": 150
                          }
                        ],
                        "learn": [
                          0.8609391478,
                          0.3990127705
                        ],
                        "iteration": 17,
                        "passed_time": 19.88945101,
                        "remaining_time": 139.2261571,
                        "test": [
                          0.8667929851,
                          0.3786149557
                        ]
                      },
                      {
                        "parameters": [
                          {
                            "min_data_in_leaf": 50,
                            "random_strength": 5,
                            "depth": 5,
                            "learning_rate": 0.03,
                            "iterations": 200
                          }
                        ],
                        "learn": [
                          0.8504396121,
                          0.4134677163
                        ],
                        "iteration": 18,
                        "passed_time": 21.75786502,
                        "remaining_time": 143.1438488,
                        "test": [
                          0.8636964621,
                          0.3841718581
                        ]
                      },
                      {
                        "parameters": [
                          {
                            "min_data_in_leaf": 50,
                            "random_strength": 5,
                            "depth": 5,
                            "learning_rate": 0.05,
                            "iterations": 200
                          }
                        ],
                        "learn": [
                          0.8585148333,
                          0.4021777888
                        ],
                        "iteration": 19,
                        "passed_time": 23.61429777,
                        "remaining_time": 146.4086461,
                        "test": [
                          0.8652668416,
                          0.380071787
                        ]
                      },
                      {
                        "parameters": [
                          {
                            "min_data_in_leaf": 50,
                            "random_strength": 5,
                            "depth": 5,
                            "learning_rate": 0.07,
                            "iterations": 200
                          }
                        ],
                        "learn": [
                          0.8761165115,
                          0.3800875233
                        ],
                        "iteration": 20,
                        "passed_time": 25.44755287,
                        "remaining_time": 149.0499525,
                        "test": [
                          0.8640503504,
                          0.3808915612
                        ]
                      },
                      {
                        "parameters": [
                          {
                            "min_data_in_leaf": 50,
                            "random_strength": 5,
                            "depth": 5,
                            "learning_rate": 0.03,
                            "iterations": 250
                          }
                        ],
                        "learn": [
                          0.8529958962,
                          0.4098922918
                        ],
                        "iteration": 21,
                        "passed_time": 27.71921589,
                        "remaining_time": 153.7156517,
                        "test": [
                          0.8644214417,
                          0.382202281
                        ]
                      },
                      {
                        "parameters": [
                          {
                            "min_data_in_leaf": 50,
                            "random_strength": 5,
                            "depth": 5,
                            "learning_rate": 0.05,
                            "iterations": 250
                          }
                        ],
                        "learn": [
                          0.8717812887,
                          0.3855093673
                        ],
                        "iteration": 22,
                        "passed_time": 30.02280474,
                        "remaining_time": 157.9460597,
                        "test": [
                          0.8639864539,
                          0.3810628559
                        ]
                      },
                      {
                        "parameters": [
                          {
                            "min_data_in_leaf": 50,
                            "random_strength": 5,
                            "depth": 5,
                            "learning_rate": 0.07,
                            "iterations": 250
                          }
                        ],
                        "learn": [
                          0.8853601151,
                          0.3683545421
                        ],
                        "iteration": 23,
                        "passed_time": 32.26869974,
                        "remaining_time": 161.3434987,
                        "test": [
                          0.862418532,
                          0.3825887924
                        ]
                      },
                      {
                        "parameters": [
                          {
                            "min_data_in_leaf": 50,
                            "random_strength": 5,
                            "depth": 7,
                            "learning_rate": 0.03,
                            "iterations": 100
                          }
                        ],
                        "learn": [
                          0.8480438122,
                          0.4206059269
                        ],
                        "iteration": 24,
                        "passed_time": 33.58782097,
                        "remaining_time": 159.8780278,
                        "test": [
                          0.861022639,
                          0.392195069
                        ]
                      },
                      {
                        "parameters": [
                          {
                            "min_data_in_leaf": 50,
                            "random_strength": 5,
                            "depth": 7,
                            "learning_rate": 0.05,
                            "iterations": 100
                          }
                        ],
                        "learn": [
                          0.8532098274,
                          0.4105060785
                        ],
                        "iteration": 25,
                        "passed_time": 34.86799258,
                        "remaining_time": 158.2470433,
                        "test": [
                          0.8627281843,
                          0.3852117786
                        ]
                      },
                      {
                        "parameters": [
                          {
                            "min_data_in_leaf": 50,
                            "random_strength": 5,
                            "depth": 7,
                            "learning_rate": 0.07,
                            "iterations": 100
                          }
                        ],
                        "learn": [
                          0.8570029862,
                          0.4053429796
                        ],
                        "iteration": 26,
                        "passed_time": 36.12924061,
                        "remaining_time": 156.5600426,
                        "test": [
                          0.8630501244,
                          0.383743443
                        ]
                      },
                      {
                        "parameters": [
                          {
                            "min_data_in_leaf": 50,
                            "random_strength": 5,
                            "depth": 7,
                            "learning_rate": 0.03,
                            "iterations": 150
                          }
                        ],
                        "learn": [
                          0.8513602469,
                          0.4135078755
                        ],
                        "iteration": 27,
                        "passed_time": 38.05768841,
                        "remaining_time": 157.6675663,
                        "test": [
                          0.8624578529,
                          0.3866124698
                        ]
                      },
                      {
                        "parameters": [
                          {
                            "min_data_in_leaf": 50,
                            "random_strength": 5,
                            "depth": 7,
                            "learning_rate": 0.05,
                            "iterations": 150
                          }
                        ],
                        "learn": [
                          0.8589945665,
                          0.4025859636
                        ],
                        "iteration": 28,
                        "passed_time": 39.96093507,
                        "remaining_time": 158.465777,
                        "test": [
                          0.8643993237,
                          0.3817278231
                        ]
                      },
                      {
                        "parameters": [
                          {
                            "min_data_in_leaf": 50,
                            "random_strength": 5,
                            "depth": 7,
                            "learning_rate": 0.07,
                            "iterations": 150
                          }
                        ],
                        "learn": [
                          0.8704029873,
                          0.3879265105
                        ],
                        "iteration": 29,
                        "passed_time": 41.87433332,
                        "remaining_time": 159.1224666,
                        "test": [
                          0.8633794371,
                          0.3810700933
                        ]
                      },
                      {
                        "parameters": [
                          {
                            "min_data_in_leaf": 50,
                            "random_strength": 5,
                            "depth": 7,
                            "learning_rate": 0.03,
                            "iterations": 200
                          }
                        ],
                        "learn": [
                          0.8551829233,
                          0.4078237351
                        ],
                        "iteration": 30,
                        "passed_time": 44.4250964,
                        "remaining_time": 161.9366417,
                        "test": [
                          0.8635121453,
                          0.3834529648
                        ]
                      },
                      {
                        "parameters": [
                          {
                            "min_data_in_leaf": 50,
                            "random_strength": 5,
                            "depth": 7,
                            "learning_rate": 0.05,
                            "iterations": 200
                          }
                        ],
                        "learn": [
                          0.8660157504,
                          0.393538998
                        ],
                        "iteration": 31,
                        "passed_time": 46.9662738,
                        "remaining_time": 164.3819583,
                        "test": [
                          0.865281587,
                          0.3799485203
                        ]
                      },
                      {
                        "parameters": [
                          {
                            "min_data_in_leaf": 50,
                            "random_strength": 5,
                            "depth": 7,
                            "learning_rate": 0.07,
                            "iterations": 200
                          }
                        ],
                        "learn": [
                          0.8948539021,
                          0.3570853172
                        ],
                        "iteration": 32,
                        "passed_time": 49.48581918,
                        "remaining_time": 166.4523009,
                        "test": [
                          0.8589902386,
                          0.3852925216
                        ]
                      },
                      {
                        "parameters": [
                          {
                            "min_data_in_leaf": 50,
                            "random_strength": 5,
                            "depth": 7,
                            "learning_rate": 0.03,
                            "iterations": 250
                          }
                        ],
                        "learn": [
                          0.858312222,
                          0.4035226143
                        ],
                        "iteration": 33,
                        "passed_time": 52.62131753,
                        "remaining_time": 170.2454391,
                        "test": [
                          0.8638144249,
                          0.3820255014
                        ]
                      },
                      {
                        "parameters": [
                          {
                            "min_data_in_leaf": 50,
                            "random_strength": 5,
                            "depth": 7,
                            "learning_rate": 0.05,
                            "iterations": 250
                          }
                        ],
                        "learn": [
                          0.8863581262,
                          0.3684404663
                        ],
                        "iteration": 34,
                        "passed_time": 55.79059979,
                        "remaining_time": 173.7478679,
                        "test": [
                          0.863458079,
                          0.3807804924
                        ]
                      },
                      {
                        "parameters": [
                          {
                            "min_data_in_leaf": 50,
                            "random_strength": 5,
                            "depth": 7,
                            "learning_rate": 0.07,
                            "iterations": 250
                          }
                        ],
                        "learn": [
                          0.9100463112,
                          0.3370431037
                        ],
                        "iteration": 35,
                        "passed_time": 58.8815138,
                        "remaining_time": 176.6445414,
                        "test": [
                          0.8555398272,
                          0.3896332828
                        ]
                      },
                      {
                        "parameters": [
                          {
                            "min_data_in_leaf": 50,
                            "random_strength": 5,
                            "depth": 10,
                            "learning_rate": 0.03,
                            "iterations": 100
                          }
                        ],
                        "learn": [
                          0.8497038207,
                          0.418726994
                        ],
                        "iteration": 36,
                        "passed_time": 60.41187334,
                        "remaining_time": 174.7046067,
                        "test": [
                          0.8612733099,
                          0.3917747525
                        ]
                      },
                      {
                        "parameters": [
                          {
                            "min_data_in_leaf": 50,
                            "random_strength": 5,
                            "depth": 10,
                            "learning_rate": 0.05,
                            "iterations": 100
                          }
                        ],
                        "learn": [
                          0.8553071553,
                          0.4086517074
                        ],
                        "iteration": 37,
                        "passed_time": 61.91137092,
                        "remaining_time": 172.7001399,
                        "test": [
                          0.8644263568,
                          0.3839066342
                        ]
                      },
                      {
                        "parameters": [
                          {
                            "min_data_in_leaf": 50,
                            "random_strength": 5,
                            "depth": 10,
                            "learning_rate": 0.07,
                            "iterations": 100
                          }
                        ],
                        "learn": [
                          0.8594654157,
                          0.402224906
                        ],
                        "iteration": 38,
                        "passed_time": 63.39250843,
                        "remaining_time": 170.6721381,
                        "test": [
                          0.8662105439,
                          0.3795211181
                        ]
                      },
                      {
                        "parameters": [
                          {
                            "min_data_in_leaf": 50,
                            "random_strength": 5,
                            "depth": 10,
                            "learning_rate": 0.03,
                            "iterations": 150
                          }
                        ],
                        "learn": [
                          0.8544084438,
                          0.409816477
                        ],
                        "iteration": 39,
                        "passed_time": 65.60960874,
                        "remaining_time": 170.5849827,
                        "test": [
                          0.8638684912,
                          0.3847180754
                        ]
                      },
                      {
                        "parameters": [
                          {
                            "min_data_in_leaf": 50,
                            "random_strength": 5,
                            "depth": 10,
                            "learning_rate": 0.05,
                            "iterations": 150
                          }
                        ],
                        "learn": [
                          0.8618722488,
                          0.399637724
                        ],
                        "iteration": 40,
                        "passed_time": 67.82975334,
                        "remaining_time": 170.4015755,
                        "test": [
                          0.8659525003,
                          0.3801004606
                        ]
                      },
                      {
                        "parameters": [
                          {
                            "min_data_in_leaf": 50,
                            "random_strength": 5,
                            "depth": 10,
                            "learning_rate": 0.07,
                            "iterations": 150
                          }
                        ],
                        "learn": [
                          0.8730660221,
                          0.3848828338
                        ],
                        "iteration": 41,
                        "passed_time": 71.31332055,
                        "remaining_time": 173.1894928,
                        "test": [
                          0.8661122416,
                          0.3784146379
                        ]
                      },
                      {
                        "parameters": [
                          {
                            "min_data_in_leaf": 50,
                            "random_strength": 5,
                            "depth": 10,
                            "learning_rate": 0.03,
                            "iterations": 200
                          }
                        ],
                        "learn": [
                          0.8584847425,
                          0.4038627316
                        ],
                        "iteration": 42,
                        "passed_time": 74.86559853,
                        "remaining_time": 175.8471035,
                        "test": [
                          0.864814651,
                          0.381811317
                        ]
                      },
                      {
                        "parameters": [
                          {
                            "min_data_in_leaf": 50,
                            "random_strength": 5,
                            "depth": 10,
                            "learning_rate": 0.05,
                            "iterations": 200
                          }
                        ],
                        "learn": [
                          0.8711632812,
                          0.3873099414
                        ],
                        "iteration": 43,
                        "passed_time": 77.8812223,
                        "remaining_time": 177.002778,
                        "test": [
                          0.8659623306,
                          0.3789323767
                        ]
                      },
                      {
                        "parameters": [
                          {
                            "min_data_in_leaf": 50,
                            "random_strength": 5,
                            "depth": 10,
                            "learning_rate": 0.07,
                            "iterations": 200
                          }
                        ],
                        "learn": [
                          0.9071651898,
                          0.3411736
                        ],
                        "iteration": 44,
                        "passed_time": 80.86875892,
                        "remaining_time": 177.9112696,
                        "test": [
                          0.8609464547,
                          0.3831493206
                        ]
                      },
                      {
                        "parameters": [
                          {
                            "min_data_in_leaf": 50,
                            "random_strength": 5,
                            "depth": 10,
                            "learning_rate": 0.03,
                            "iterations": 250
                          }
                        ],
                        "learn": [
                          0.8625448496,
                          0.3985547491
                        ],
                        "iteration": 45,
                        "passed_time": 84.56105087,
                        "remaining_time": 180.151804,
                        "test": [
                          0.8656698812,
                          0.3801507802
                        ]
                      },
                      {
                        "parameters": [
                          {
                            "min_data_in_leaf": 50,
                            "random_strength": 5,
                            "depth": 10,
                            "learning_rate": 0.05,
                            "iterations": 250
                          }
                        ],
                        "learn": [
                          0.8918362259,
                          0.3612344788
                        ],
                        "iteration": 46,
                        "passed_time": 88.27241637,
                        "remaining_time": 182.1792423,
                        "test": [
                          0.8633671493,
                          0.381562036
                        ]
                      },
                      {
                        "parameters": [
                          {
                            "min_data_in_leaf": 50,
                            "random_strength": 5,
                            "depth": 10,
                            "learning_rate": 0.07,
                            "iterations": 250
                          }
                        ],
                        "learn": [
                          0.9266630176,
                          0.3142427027
                        ],
                        "iteration": 47,
                        "passed_time": 92.03096803,
                        "remaining_time": 184.0619361,
                        "test": [
                          0.8556995685,
                          0.3907895696
                        ]
                      },
                      {
                        "parameters": [
                          {
                            "min_data_in_leaf": 100,
                            "random_strength": 5,
                            "depth": 3,
                            "learning_rate": 0.03,
                            "iterations": 100
                          }
                        ],
                        "learn": [
                          0.8390738915,
                          0.4331811891
                        ],
                        "iteration": 48,
                        "passed_time": 92.65497407,
                        "remaining_time": 179.6371946,
                        "test": [
                          0.8599118228,
                          0.3990935921
                        ]
                      },
                      {
                        "parameters": [
                          {
                            "min_data_in_leaf": 100,
                            "random_strength": 5,
                            "depth": 3,
                            "learning_rate": 0.05,
                            "iterations": 100
                          }
                        ],
                        "learn": [
                          0.8435076975,
                          0.423052119
                        ],
                        "iteration": 49,
                        "passed_time": 93.28212957,
                        "remaining_time": 175.3704036,
                        "test": [
                          0.8614502541,
                          0.3893347356
                        ]
                      },
                      {
                        "parameters": [
                          {
                            "min_data_in_leaf": 100,
                            "random_strength": 5,
                            "depth": 3,
                            "learning_rate": 0.07,
                            "iterations": 100
                          }
                        ],
                        "learn": [
                          0.8449232542,
                          0.419193148
                        ],
                        "iteration": 50,
                        "passed_time": 93.91025966,
                        "remaining_time": 171.2481206,
                        "test": [
                          0.8632074081,
                          0.3855678236
                        ]
                      },
                      {
                        "parameters": [
                          {
                            "min_data_in_leaf": 100,
                            "random_strength": 5,
                            "depth": 3,
                            "learning_rate": 0.03,
                            "iterations": 150
                          }
                        ],
                        "learn": [
                          0.8420374043,
                          0.4251843447
                        ],
                        "iteration": 51,
                        "passed_time": 94.84650468,
                        "remaining_time": 167.8053544,
                        "test": [
                          0.8613691547,
                          0.3908870477
                        ]
                      },
                      {
                        "parameters": [
                          {
                            "min_data_in_leaf": 100,
                            "random_strength": 5,
                            "depth": 3,
                            "learning_rate": 0.05,
                            "iterations": 150
                          }
                        ],
                        "learn": [
                          0.8461993902,
                          0.4183202441
                        ],
                        "iteration": 52,
                        "passed_time": 95.75900256,
                        "remaining_time": 164.4164006,
                        "test": [
                          0.8627773354,
                          0.3858041919
                        ]
                      },
                      {
                        "parameters": [
                          {
                            "min_data_in_leaf": 100,
                            "random_strength": 5,
                            "depth": 3,
                            "learning_rate": 0.07,
                            "iterations": 150
                          }
                        ],
                        "learn": [
                          0.8519014512,
                          0.4094484402
                        ],
                        "iteration": 53,
                        "passed_time": 96.69614091,
                        "remaining_time": 161.1602348,
                        "test": [
                          0.8651709969,
                          0.3800501156
                        ]
                      },
                      {
                        "parameters": [
                          {
                            "min_data_in_leaf": 100,
                            "random_strength": 5,
                            "depth": 3,
                            "learning_rate": 0.03,
                            "iterations": 200
                          }
                        ],
                        "learn": [
                          0.8439799796,
                          0.4215185775
                        ],
                        "iteration": 54,
                        "passed_time": 97.92318177,
                        "remaining_time": 158.4575123,
                        "test": [
                          0.8631164784,
                          0.3871381496
                        ]
                      },
                      {
                        "parameters": [
                          {
                            "min_data_in_leaf": 100,
                            "random_strength": 5,
                            "depth": 3,
                            "learning_rate": 0.05,
                            "iterations": 200
                          }
                        ],
                        "learn": [
                          0.8507521264,
                          0.4118306
                        ],
                        "iteration": 55,
                        "passed_time": 99.15160203,
                        "remaining_time": 155.8096603,
                        "test": [
                          0.8646524522,
                          0.3816739147
                        ]
                      },
                      {
                        "parameters": [
                          {
                            "min_data_in_leaf": 100,
                            "random_strength": 5,
                            "depth": 3,
                            "learning_rate": 0.07,
                            "iterations": 200
                          }
                        ],
                        "learn": [
                          0.8598686322,
                          0.399346797
                        ],
                        "iteration": 56,
                        "passed_time": 100.3730424,
                        "remaining_time": 153.2009594,
                        "test": [
                          0.8664661299,
                          0.3784002208
                        ]
                      },
                      {
                        "parameters": [
                          {
                            "min_data_in_leaf": 100,
                            "random_strength": 5,
                            "depth": 3,
                            "learning_rate": 0.03,
                            "iterations": 250
                          }
                        ],
                        "learn": [
                          0.8457080506,
                          0.4185899829
                        ],
                        "iteration": 57,
                        "passed_time": 101.8950466,
                        "remaining_time": 151.0857587,
                        "test": [
                          0.8640945865,
                          0.384569657
                        ]
                      },
                      {
                        "parameters": [
                          {
                            "min_data_in_leaf": 100,
                            "random_strength": 5,
                            "depth": 3,
                            "learning_rate": 0.05,
                            "iterations": 250
                          }
                        ],
                        "learn": [
                          0.8581149124,
                          0.4020206721
                        ],
                        "iteration": 58,
                        "passed_time": 103.4381729,
                        "remaining_time": 149.0210965,
                        "test": [
                          0.8654806492,
                          0.3799004239
                        ]
                      },
                      {
                        "parameters": [
                          {
                            "min_data_in_leaf": 100,
                            "random_strength": 5,
                            "depth": 3,
                            "learning_rate": 0.07,
                            "iterations": 250
                          }
                        ],
                        "learn": [
                          0.8637618071,
                          0.3944320781
                        ],
                        "iteration": 59,
                        "passed_time": 104.9749196,
                        "remaining_time": 146.9648874,
                        "test": [
                          0.8654978521,
                          0.3789501919
                        ]
                      },
                      {
                        "parameters": [
                          {
                            "min_data_in_leaf": 100,
                            "random_strength": 5,
                            "depth": 5,
                            "learning_rate": 0.03,
                            "iterations": 100
                          }
                        ],
                        "learn": [
                          0.8424838943,
                          0.4269218262
                        ],
                        "iteration": 60,
                        "passed_time": 105.9398886,
                        "remaining_time": 144.1477173,
                        "test": [
                          0.8577934078,
                          0.3962453435
                        ]
                      },
                      {
                        "parameters": [
                          {
                            "min_data_in_leaf": 100,
                            "random_strength": 5,
                            "depth": 5,
                            "learning_rate": 0.05,
                            "iterations": 100
                          }
                        ],
                        "learn": [
                          0.8467579325,
                          0.4184546552
                        ],
                        "iteration": 61,
                        "passed_time": 106.8742119,
                        "remaining_time": 141.3497641,
                        "test": [
                          0.8622219273,
                          0.3872951201
                        ]
                      },
                      {
                        "parameters": [
                          {
                            "min_data_in_leaf": 100,
                            "random_strength": 5,
                            "depth": 5,
                            "learning_rate": 0.07,
                            "iterations": 100
                          }
                        ],
                        "learn": [
                          0.8513083761,
                          0.4113627976
                        ],
                        "iteration": 62,
                        "passed_time": 107.7968443,
                        "remaining_time": 138.5959427,
                        "test": [
                          0.8629837703,
                          0.3840740067
                        ]
                      },
                      {
                        "parameters": [
                          {
                            "min_data_in_leaf": 100,
                            "random_strength": 5,
                            "depth": 5,
                            "learning_rate": 0.03,
                            "iterations": 150
                          }
                        ],
                        "learn": [
                          0.8461655738,
                          0.4195325847
                        ],
                        "iteration": 63,
                        "passed_time": 109.2335215,
                        "remaining_time": 136.5419019,
                        "test": [
                          0.8608850158,
                          0.388835413
                        ]
                      },
                      {
                        "parameters": [
                          {
                            "min_data_in_leaf": 100,
                            "random_strength": 5,
                            "depth": 5,
                            "learning_rate": 0.05,
                            "iterations": 150
                          }
                        ],
                        "learn": [
                          0.8504050793,
                          0.4124425295
                        ],
                        "iteration": 64,
                        "passed_time": 110.6126349,
                        "remaining_time": 134.4368947,
                        "test": [
                          0.863863576,
                          0.3836960638
                        ]
                      },
                      {
                        "parameters": [
                          {
                            "min_data_in_leaf": 100,
                            "random_strength": 5,
                            "depth": 5,
                            "learning_rate": 0.07,
                            "iterations": 150
                          }
                        ],
                        "learn": [
                          0.8592934683,
                          0.4011183594
                        ],
                        "iteration": 65,
                        "passed_time": 112.0001933,
                        "remaining_time": 132.3638648,
                        "test": [
                          0.8653798893,
                          0.3806627444
                        ]
                      },
                      {
                        "parameters": [
                          {
                            "min_data_in_leaf": 100,
                            "random_strength": 5,
                            "depth": 5,
                            "learning_rate": 0.03,
                            "iterations": 200
                          }
                        ],
                        "learn": [
                          0.8491189131,
                          0.4144724607
                        ],
                        "iteration": 66,
                        "passed_time": 113.8417126,
                        "remaining_time": 130.833013,
                        "test": [
                          0.8628756377,
                          0.3846806219
                        ]
                      },
                      {
                        "parameters": [
                          {
                            "min_data_in_leaf": 100,
                            "random_strength": 5,
                            "depth": 5,
                            "learning_rate": 0.05,
                            "iterations": 200
                          }
                        ],
                        "learn": [
                          0.856728157,
                          0.4042027633
                        ],
                        "iteration": 67,
                        "passed_time": 115.6420031,
                        "remaining_time": 129.2469446,
                        "test": [
                          0.865559291,
                          0.3797996955
                        ]
                      },
                      {
                        "parameters": [
                          {
                            "min_data_in_leaf": 100,
                            "random_strength": 5,
                            "depth": 5,
                            "learning_rate": 0.07,
                            "iterations": 200
                          }
                        ],
                        "learn": [
                          0.8747000951,
                          0.3819563805
                        ],
                        "iteration": 68,
                        "passed_time": 117.4998642,
                        "remaining_time": 127.7172437,
                        "test": [
                          0.8630599546,
                          0.3817805729
                        ]
                      },
                      {
                        "parameters": [
                          {
                            "min_data_in_leaf": 100,
                            "random_strength": 5,
                            "depth": 5,
                            "learning_rate": 0.03,
                            "iterations": 250
                          }
                        ],
                        "learn": [
                          0.8514619824,
                          0.4113353934
                        ],
                        "iteration": 69,
                        "passed_time": 119.8118562,
                        "remaining_time": 126.658248,
                        "test": [
                          0.8642199219,
                          0.3827557246
                        ]
                      },
                      {
                        "parameters": [
                          {
                            "min_data_in_leaf": 100,
                            "random_strength": 5,
                            "depth": 5,
                            "learning_rate": 0.05,
                            "iterations": 250
                          }
                        ],
                        "learn": [
                          0.8687587407,
                          0.389239128
                        ],
                        "iteration": 70,
                        "passed_time": 122.0989704,
                        "remaining_time": 125.538378,
                        "test": [
                          0.8647261789,
                          0.379544813
                        ]
                      },
                      {
                        "parameters": [
                          {
                            "min_data_in_leaf": 100,
                            "random_strength": 5,
                            "depth": 5,
                            "learning_rate": 0.07,
                            "iterations": 250
                          }
                        ],
                        "learn": [
                          0.8827665757,
                          0.3715990764
                        ],
                        "iteration": 71,
                        "passed_time": 124.3397816,
                        "remaining_time": 124.3397816,
                        "test": [
                          0.8617132128,
                          0.3830432745
                        ]
                      },
                      {
                        "parameters": [
                          {
                            "min_data_in_leaf": 100,
                            "random_strength": 5,
                            "depth": 7,
                            "learning_rate": 0.03,
                            "iterations": 100
                          }
                        ],
                        "learn": [
                          0.8471488262,
                          0.4212504306
                        ],
                        "iteration": 72,
                        "passed_time": 125.7555476,
                        "remaining_time": 122.3101902,
                        "test": [
                          0.8596685246,
                          0.393191545
                        ]
                      },
                      {
                        "parameters": [
                          {
                            "min_data_in_leaf": 100,
                            "random_strength": 5,
                            "depth": 7,
                            "learning_rate": 0.05,
                            "iterations": 100
                          }
                        ],
                        "learn": [
                          0.852087441,
                          0.411711828
                        ],
                        "iteration": 73,
                        "passed_time": 127.0288628,
                        "remaining_time": 120.1624378,
                        "test": [
                          0.8633990976,
                          0.3848928257
                        ]
                      },
                      {
                        "parameters": [
                          {
                            "min_data_in_leaf": 100,
                            "random_strength": 5,
                            "depth": 7,
                            "learning_rate": 0.07,
                            "iterations": 100
                          }
                        ],
                        "learn": [
                          0.856553917,
                          0.4056391466
                        ],
                        "iteration": 74,
                        "passed_time": 128.2793111,
                        "remaining_time": 118.0169662,
                        "test": [
                          0.8643575452,
                          0.3818111465
                        ]
                      },
                      {
                        "parameters": [
                          {
                            "min_data_in_leaf": 100,
                            "random_strength": 5,
                            "depth": 7,
                            "learning_rate": 0.03,
                            "iterations": 150
                          }
                        ],
                        "learn": [
                          0.8519547549,
                          0.4126605492
                        ],
                        "iteration": 75,
                        "passed_time": 130.2382629,
                        "remaining_time": 116.528972,
                        "test": [
                          0.862207182,
                          0.3863849389
                        ]
                      },
                      {
                        "parameters": [
                          {
                            "min_data_in_leaf": 100,
                            "random_strength": 5,
                            "depth": 7,
                            "learning_rate": 0.05,
                            "iterations": 150
                          }
                        ],
                        "learn": [
                          0.8569013939,
                          0.4048935415
                        ],
                        "iteration": 76,
                        "passed_time": 132.1163138,
                        "remaining_time": 114.9583509,
                        "test": [
                          0.8638832365,
                          0.3818358632
                        ]
                      },
                      {
                        "parameters": [
                          {
                            "min_data_in_leaf": 100,
                            "random_strength": 5,
                            "depth": 7,
                            "learning_rate": 0.07,
                            "iterations": 150
                          }
                        ],
                        "learn": [
                          0.8679404145,
                          0.3905710277
                        ],
                        "iteration": 77,
                        "passed_time": 133.9880067,
                        "remaining_time": 113.3744672,
                        "test": [
                          0.8642174644,
                          0.3804299172
                        ]
                      },
                      {
                        "parameters": [
                          {
                            "min_data_in_leaf": 100,
                            "random_strength": 5,
                            "depth": 7,
                            "learning_rate": 0.03,
                            "iterations": 200
                          }
                        ],
                        "learn": [
                          0.8546187927,
                          0.408392321
                        ],
                        "iteration": 78,
                        "passed_time": 136.5158369,
                        "remaining_time": 112.3231569,
                        "test": [
                          0.8628903831,
                          0.3840284725
                        ]
                      },
                      {
                        "parameters": [
                          {
                            "min_data_in_leaf": 100,
                            "random_strength": 5,
                            "depth": 7,
                            "learning_rate": 0.05,
                            "iterations": 200
                          }
                        ],
                        "learn": [
                          0.8652624776,
                          0.3941799362
                        ],
                        "iteration": 79,
                        "passed_time": 139.0356991,
                        "remaining_time": 111.2285593,
                        "test": [
                          0.8638365429,
                          0.3807383662
                        ]
                      },
                      {
                        "parameters": [
                          {
                            "min_data_in_leaf": 100,
                            "random_strength": 5,
                            "depth": 7,
                            "learning_rate": 0.07,
                            "iterations": 200
                          }
                        ],
                        "learn": [
                          0.8896725549,
                          0.3637758233
                        ],
                        "iteration": 80,
                        "passed_time": 141.4752326,
                        "remaining_time": 110.036292,
                        "test": [
                          0.8630230912,
                          0.3818264483
                        ]
                      },
                      {
                        "parameters": [
                          {
                            "min_data_in_leaf": 100,
                            "random_strength": 5,
                            "depth": 7,
                            "learning_rate": 0.03,
                            "iterations": 250
                          }
                        ],
                        "learn": [
                          0.8584268536,
                          0.4033638859
                        ],
                        "iteration": 81,
                        "passed_time": 144.6074665,
                        "remaining_time": 109.3373527,
                        "test": [
                          0.8638488307,
                          0.3819554505
                        ]
                      },
                      {
                        "parameters": [
                          {
                            "min_data_in_leaf": 100,
                            "random_strength": 5,
                            "depth": 7,
                            "learning_rate": 0.05,
                            "iterations": 250
                          }
                        ],
                        "learn": [
                          0.8827072539,
                          0.3724754391
                        ],
                        "iteration": 82,
                        "passed_time": 147.7556375,
                        "remaining_time": 108.5914926,
                        "test": [
                          0.8619491384,
                          0.382405778
                        ]
                      },
                      {
                        "parameters": [
                          {
                            "min_data_in_leaf": 100,
                            "random_strength": 5,
                            "depth": 7,
                            "learning_rate": 0.07,
                            "iterations": 250
                          }
                        ],
                        "learn": [
                          0.9012274176,
                          0.3491504229
                        ],
                        "iteration": 83,
                        "passed_time": 150.7972692,
                        "remaining_time": 107.7123351,
                        "test": [
                          0.8609538274,
                          0.3841684821
                        ]
                      },
                      {
                        "parameters": [
                          {
                            "min_data_in_leaf": 100,
                            "random_strength": 5,
                            "depth": 10,
                            "learning_rate": 0.03,
                            "iterations": 100
                          }
                        ],
                        "learn": [
                          0.8488405016,
                          0.4192719563
                        ],
                        "iteration": 84,
                        "passed_time": 152.3148386,
                        "remaining_time": 105.7244174,
                        "test": [
                          0.8619884593,
                          0.3911744745
                        ]
                      },
                      {
                        "parameters": [
                          {
                            "min_data_in_leaf": 100,
                            "random_strength": 5,
                            "depth": 10,
                            "learning_rate": 0.05,
                            "iterations": 100
                          }
                        ],
                        "learn": [
                          0.8553499989,
                          0.4082255142
                        ],
                        "iteration": 85,
                        "passed_time": 153.8446755,
                        "remaining_time": 103.7557114,
                        "test": [
                          0.8657362352,
                          0.3818110704
                        ]
                      },
                      {
                        "parameters": [
                          {
                            "min_data_in_leaf": 100,
                            "random_strength": 5,
                            "depth": 10,
                            "learning_rate": 0.07,
                            "iterations": 100
                          }
                        ],
                        "learn": [
                          0.8609765464,
                          0.3999596329
                        ],
                        "iteration": 86,
                        "passed_time": 155.3588811,
                        "remaining_time": 101.7868532,
                        "test": [
                          0.8651587091,
                          0.3806620296
                        ]
                      },
                      {
                        "parameters": [
                          {
                            "min_data_in_leaf": 100,
                            "random_strength": 5,
                            "depth": 10,
                            "learning_rate": 0.03,
                            "iterations": 150
                          }
                        ],
                        "learn": [
                          0.8530320051,
                          0.411090078
                        ],
                        "iteration": 87,
                        "passed_time": 157.6025642,
                        "remaining_time": 100.2925409,
                        "test": [
                          0.8647458394,
                          0.3841750939
                        ]
                      },
                      {
                        "parameters": [
                          {
                            "min_data_in_leaf": 100,
                            "random_strength": 5,
                            "depth": 10,
                            "learning_rate": 0.05,
                            "iterations": 150
                          }
                        ],
                        "learn": [
                          0.8605895215,
                          0.4004468184
                        ],
                        "iteration": 88,
                        "passed_time": 159.8779203,
                        "remaining_time": 98.80096201,
                        "test": [
                          0.8657288625,
                          0.3798864398
                        ]
                      },
                      {
                        "parameters": [
                          {
                            "min_data_in_leaf": 100,
                            "random_strength": 5,
                            "depth": 10,
                            "learning_rate": 0.07,
                            "iterations": 150
                          }
                        ],
                        "learn": [
                          0.8739438133,
                          0.3838421006
                        ],
                        "iteration": 89,
                        "passed_time": 162.1878831,
                        "remaining_time": 97.31272986,
                        "test": [
                          0.8641756859,
                          0.3804276225
                        ]
                      },
                      {
                        "parameters": [
                          {
                            "min_data_in_leaf": 100,
                            "random_strength": 5,
                            "depth": 10,
                            "learning_rate": 0.03,
                            "iterations": 200
                          }
                        ],
                        "learn": [
                          0.8573924469,
                          0.4050895953
                        ],
                        "iteration": 90,
                        "passed_time": 165.2330005,
                        "remaining_time": 96.23460467,
                        "test": [
                          0.8655691213,
                          0.3812599693
                        ]
                      },
                      {
                        "parameters": [
                          {
                            "min_data_in_leaf": 100,
                            "random_strength": 5,
                            "depth": 10,
                            "learning_rate": 0.05,
                            "iterations": 200
                          }
                        ],
                        "learn": [
                          0.8684596955,
                          0.3899968257
                        ],
                        "iteration": 91,
                        "passed_time": 168.2623358,
                        "remaining_time": 95.10479847,
                        "test": [
                          0.8644902533,
                          0.3801375878
                        ]
                      },
                      {
                        "parameters": [
                          {
                            "min_data_in_leaf": 100,
                            "random_strength": 5,
                            "depth": 10,
                            "learning_rate": 0.07,
                            "iterations": 200
                          }
                        ],
                        "learn": [
                          0.8997012415,
                          0.3510032368
                        ],
                        "iteration": 92,
                        "passed_time": 171.2497417,
                        "remaining_time": 93.91114867,
                        "test": [
                          0.8611455169,
                          0.38342293
                        ]
                      },
                      {
                        "parameters": [
                          {
                            "min_data_in_leaf": 100,
                            "random_strength": 5,
                            "depth": 10,
                            "learning_rate": 0.03,
                            "iterations": 250
                          }
                        ],
                        "learn": [
                          0.8606856688,
                          0.4007942428
                        ],
                        "iteration": 93,
                        "passed_time": 174.9675051,
                        "remaining_time": 93.06782187,
                        "test": [
                          0.8664194363,
                          0.3798612432
                        ]
                      },
                      {
                        "parameters": [
                          {
                            "min_data_in_leaf": 100,
                            "random_strength": 5,
                            "depth": 10,
                            "learning_rate": 0.05,
                            "iterations": 250
                          }
                        ],
                        "learn": [
                          0.8878992045,
                          0.3659063611
                        ],
                        "iteration": 94,
                        "passed_time": 178.6793542,
                        "remaining_time": 92.16093004,
                        "test": [
                          0.8625143767,
                          0.3820531338
                        ]
                      },
                      {
                        "parameters": [
                          {
                            "min_data_in_leaf": 100,
                            "random_strength": 5,
                            "depth": 10,
                            "learning_rate": 0.07,
                            "iterations": 250
                          }
                        ],
                        "learn": [
                          0.9167800564,
                          0.3284464313
                        ],
                        "iteration": 95,
                        "passed_time": 182.3520142,
                        "remaining_time": 91.17600711,
                        "test": [
                          0.8567071672,
                          0.388896999
                        ]
                      },
                      {
                        "parameters": [
                          {
                            "min_data_in_leaf": 150,
                            "random_strength": 5,
                            "depth": 3,
                            "learning_rate": 0.03,
                            "iterations": 100
                          }
                        ],
                        "learn": [
                          0.8381486714,
                          0.4334952428
                        ],
                        "iteration": 96,
                        "passed_time": 182.9758818,
                        "remaining_time": 88.65841694,
                        "test": [
                          0.8585921142,
                          0.4003668115
                        ]
                      },
                      {
                        "parameters": [
                          {
                            "min_data_in_leaf": 150,
                            "random_strength": 5,
                            "depth": 3,
                            "learning_rate": 0.05,
                            "iterations": 100
                          }
                        ],
                        "learn": [
                          0.8430182207,
                          0.4226724427
                        ],
                        "iteration": 97,
                        "passed_time": 183.615074,
                        "remaining_time": 86.18666737,
                        "test": [
                          0.8632270685,
                          0.3873610125
                        ]
                      },
                      {
                        "parameters": [
                          {
                            "min_data_in_leaf": 150,
                            "random_strength": 5,
                            "depth": 3,
                            "learning_rate": 0.07,
                            "iterations": 100
                          }
                        ],
                        "learn": [
                          0.8453340651,
                          0.4197557509
                        ],
                        "iteration": 98,
                        "passed_time": 184.2312482,
                        "remaining_time": 83.74147646,
                        "test": [
                          0.8636669714,
                          0.38585658
                        ]
                      },
                      {
                        "parameters": [
                          {
                            "min_data_in_leaf": 150,
                            "random_strength": 5,
                            "depth": 3,
                            "learning_rate": 0.03,
                            "iterations": 150
                          }
                        ],
                        "learn": [
                          0.8412047492,
                          0.4256486018
                        ],
                        "iteration": 99,
                        "passed_time": 185.1576468,
                        "remaining_time": 81.46936461,
                        "test": [
                          0.8605188396,
                          0.3913645602
                        ]
                      },
                      {
                        "parameters": [
                          {
                            "min_data_in_leaf": 150,
                            "random_strength": 5,
                            "depth": 3,
                            "learning_rate": 0.05,
                            "iterations": 150
                          }
                        ],
                        "learn": [
                          0.8461197212,
                          0.4176777765
                        ],
                        "iteration": 100,
                        "passed_time": 186.0778181,
                        "remaining_time": 79.22124929,
                        "test": [
                          0.8652054027,
                          0.3832702021
                        ]
                      },
                      {
                        "parameters": [
                          {
                            "min_data_in_leaf": 150,
                            "random_strength": 5,
                            "depth": 3,
                            "learning_rate": 0.07,
                            "iterations": 150
                          }
                        ],
                        "learn": [
                          0.8517822344,
                          0.4100190721
                        ],
                        "iteration": 101,
                        "passed_time": 186.9935507,
                        "remaining_time": 76.9973444,
                        "test": [
                          0.8652324358,
                          0.3798304264
                        ]
                      },
                      {
                        "parameters": [
                          {
                            "min_data_in_leaf": 150,
                            "random_strength": 5,
                            "depth": 3,
                            "learning_rate": 0.03,
                            "iterations": 200
                          }
                        ],
                        "learn": [
                          0.8432251307,
                          0.4222949777
                        ],
                        "iteration": 102,
                        "passed_time": 188.2186897,
                        "remaining_time": 74.9220027,
                        "test": [
                          0.8614305936,
                          0.3886039227
                        ]
                      },
                      {
                        "parameters": [
                          {
                            "min_data_in_leaf": 150,
                            "random_strength": 5,
                            "depth": 3,
                            "learning_rate": 0.05,
                            "iterations": 200
                          }
                        ],
                        "learn": [
                          0.8506468087,
                          0.411663145
                        ],
                        "iteration": 103,
                        "passed_time": 189.4591764,
                        "remaining_time": 72.868914,
                        "test": [
                          0.8661515625,
                          0.380188017
                        ]
                      },
                      {
                        "parameters": [
                          {
                            "min_data_in_leaf": 150,
                            "random_strength": 5,
                            "depth": 3,
                            "learning_rate": 0.07,
                            "iterations": 200
                          }
                        ],
                        "learn": [
                          0.8602192615,
                          0.3993575787
                        ],
                        "iteration": 104,
                        "passed_time": 190.6712374,
                        "remaining_time": 70.82074533,
                        "test": [
                          0.8662302044,
                          0.3787058919
                        ]
                      },
                      {
                        "parameters": [
                          {
                            "min_data_in_leaf": 150,
                            "random_strength": 5,
                            "depth": 3,
                            "learning_rate": 0.03,
                            "iterations": 250
                          }
                        ],
                        "learn": [
                          0.8445670365,
                          0.4199614022
                        ],
                        "iteration": 105,
                        "passed_time": 192.1780144,
                        "remaining_time": 68.89400515,
                        "test": [
                          0.8623988715,
                          0.3864419988
                        ]
                      },
                      {
                        "parameters": [
                          {
                            "min_data_in_leaf": 150,
                            "random_strength": 5,
                            "depth": 3,
                            "learning_rate": 0.05,
                            "iterations": 250
                          }
                        ],
                        "learn": [
                          0.8571312302,
                          0.4031844812
                        ],
                        "iteration": 106,
                        "passed_time": 193.6839817,
                        "remaining_time": 66.97483481,
                        "test": [
                          0.8666774799,
                          0.3789017853
                        ]
                      },
                      {
                        "parameters": [
                          {
                            "min_data_in_leaf": 150,
                            "random_strength": 5,
                            "depth": 3,
                            "learning_rate": 0.07,
                            "iterations": 250
                          }
                        ],
                        "learn": [
                          0.8637109393,
                          0.3948999333
                        ],
                        "iteration": 107,
                        "passed_time": 195.2107079,
                        "remaining_time": 65.07023595,
                        "test": [
                          0.8654192102,
                          0.3788358084
                        ]
                      },
                      {
                        "parameters": [
                          {
                            "min_data_in_leaf": 150,
                            "random_strength": 5,
                            "depth": 5,
                            "learning_rate": 0.03,
                            "iterations": 100
                          }
                        ],
                        "learn": [
                          0.8447216459,
                          0.4239647649
                        ],
                        "iteration": 108,
                        "passed_time": 196.1619062,
                        "remaining_time": 62.98776804,
                        "test": [
                          0.8616394861,
                          0.3929154236
                        ]
                      },
                      {
                        "parameters": [
                          {
                            "min_data_in_leaf": 150,
                            "random_strength": 5,
                            "depth": 5,
                            "learning_rate": 0.05,
                            "iterations": 100
                          }
                        ],
                        "learn": [
                          0.8480452451,
                          0.4162132793
                        ],
                        "iteration": 109,
                        "passed_time": 197.1060301,
                        "remaining_time": 60.92368202,
                        "test": [
                          0.8632344412,
                          0.3856614848
                        ]
                      },
                      {
                        "parameters": [
                          {
                            "min_data_in_leaf": 150,
                            "random_strength": 5,
                            "depth": 5,
                            "learning_rate": 0.07,
                            "iterations": 100
                          }
                        ],
                        "learn": [
                          0.8518057339,
                          0.4105401229
                        ],
                        "iteration": 110,
                        "passed_time": 198.0193334,
                        "remaining_time": 58.87061264,
                        "test": [
                          0.8646966882,
                          0.3826442116
                        ]
                      },
                      {
                        "parameters": [
                          {
                            "min_data_in_leaf": 150,
                            "random_strength": 5,
                            "depth": 5,
                            "learning_rate": 0.03,
                            "iterations": 150
                          }
                        ],
                        "learn": [
                          0.8478569627,
                          0.4172025796
                        ],
                        "iteration": 111,
                        "passed_time": 199.4244238,
                        "remaining_time": 56.97840681,
                        "test": [
                          0.8622293,
                          0.3874350739
                        ]
                      },
                      {
                        "parameters": [
                          {
                            "min_data_in_leaf": 150,
                            "random_strength": 5,
                            "depth": 5,
                            "learning_rate": 0.05,
                            "iterations": 150
                          }
                        ],
                        "learn": [
                          0.8516631609,
                          0.4109316991
                        ],
                        "iteration": 112,
                        "passed_time": 200.7764496,
                        "remaining_time": 55.08026493,
                        "test": [
                          0.8643796632,
                          0.3827435188
                        ]
                      },
                      {
                        "parameters": [
                          {
                            "min_data_in_leaf": 150,
                            "random_strength": 5,
                            "depth": 5,
                            "learning_rate": 0.07,
                            "iterations": 150
                          }
                        ],
                        "learn": [
                          0.8597564366,
                          0.4001351248
                        ],
                        "iteration": 113,
                        "passed_time": 202.1281399,
                        "remaining_time": 53.19161575,
                        "test": [
                          0.8650382888,
                          0.3801884743
                        ]
                      },
                      {
                        "parameters": [
                          {
                            "min_data_in_leaf": 150,
                            "random_strength": 5,
                            "depth": 5,
                            "learning_rate": 0.03,
                            "iterations": 200
                          }
                        ],
                        "learn": [
                          0.850414823,
                          0.4132158142
                        ],
                        "iteration": 114,
                        "passed_time": 203.9501546,
                        "remaining_time": 51.43090856,
                        "test": [
                          0.8634507063,
                          0.384455473
                        ]
                      },
                      {
                        "parameters": [
                          {
                            "min_data_in_leaf": 150,
                            "random_strength": 5,
                            "depth": 5,
                            "learning_rate": 0.05,
                            "iterations": 200
                          }
                        ],
                        "learn": [
                          0.8575699826,
                          0.4032624266
                        ],
                        "iteration": 115,
                        "passed_time": 205.7605553,
                        "remaining_time": 49.66634093,
                        "test": [
                          0.8644386446,
                          0.3803941506
                        ]
                      },
                      {
                        "parameters": [
                          {
                            "min_data_in_leaf": 150,
                            "random_strength": 5,
                            "depth": 5,
                            "learning_rate": 0.07,
                            "iterations": 200
                          }
                        ],
                        "learn": [
                          0.8742556112,
                          0.3824858008
                        ],
                        "iteration": 116,
                        "passed_time": 207.5382048,
                        "remaining_time": 47.89343188,
                        "test": [
                          0.863330286,
                          0.3805941527
                        ]
                      },
                      {
                        "parameters": [
                          {
                            "min_data_in_leaf": 150,
                            "random_strength": 5,
                            "depth": 5,
                            "learning_rate": 0.03,
                            "iterations": 250
                          }
                        ],
                        "learn": [
                          0.8528018823,
                          0.4100127539
                        ],
                        "iteration": 117,
                        "passed_time": 209.804195,
                        "remaining_time": 46.22804298,
                        "test": [
                          0.8639520481,
                          0.3828031508
                        ]
                      },
                      {
                        "parameters": [
                          {
                            "min_data_in_leaf": 150,
                            "random_strength": 5,
                            "depth": 5,
                            "learning_rate": 0.05,
                            "iterations": 250
                          }
                        ],
                        "learn": [
                          0.8680255285,
                          0.3899852892
                        ],
                        "iteration": 118,
                        "passed_time": 212.0378669,
                        "remaining_time": 44.54577036,
                        "test": [
                          0.8634703668,
                          0.381118423
                        ]
                      },
                      {
                        "parameters": [
                          {
                            "min_data_in_leaf": 150,
                            "random_strength": 5,
                            "depth": 5,
                            "learning_rate": 0.07,
                            "iterations": 250
                          }
                        ],
                        "learn": [
                          0.8820603019,
                          0.3726046171
                        ],
                        "iteration": 119,
                        "passed_time": 214.2092581,
                        "remaining_time": 42.84185163,
                        "test": [
                          0.8629591947,
                          0.3812941054
                        ]
                      },
                      {
                        "parameters": [
                          {
                            "min_data_in_leaf": 150,
                            "random_strength": 5,
                            "depth": 7,
                            "learning_rate": 0.03,
                            "iterations": 100
                          }
                        ],
                        "learn": [
                          0.8472124467,
                          0.420479917
                        ],
                        "iteration": 120,
                        "passed_time": 215.52625,
                        "remaining_time": 40.96779958,
                        "test": [
                          0.8616271983,
                          0.3915381199
                        ]
                      },
                      {
                        "parameters": [
                          {
                            "min_data_in_leaf": 150,
                            "random_strength": 5,
                            "depth": 7,
                            "learning_rate": 0.05,
                            "iterations": 100
                          }
                        ],
                        "learn": [
                          0.8523682883,
                          0.4113001265
                        ],
                        "iteration": 121,
                        "passed_time": 216.8043501,
                        "remaining_time": 39.09586641,
                        "test": [
                          0.8621850639,
                          0.3854277497
                        ]
                      },
                      {
                        "parameters": [
                          {
                            "min_data_in_leaf": 150,
                            "random_strength": 5,
                            "depth": 7,
                            "learning_rate": 0.07,
                            "iterations": 100
                          }
                        ],
                        "learn": [
                          0.8571869698,
                          0.4041402218
                        ],
                        "iteration": 122,
                        "passed_time": 218.0335885,
                        "remaining_time": 37.22524682,
                        "test": [
                          0.8637923069,
                          0.3824856499
                        ]
                      },
                      {
                        "parameters": [
                          {
                            "min_data_in_leaf": 150,
                            "random_strength": 5,
                            "depth": 7,
                            "learning_rate": 0.03,
                            "iterations": 150
                          }
                        ],
                        "learn": [
                          0.8511814217,
                          0.4130167793
                        ],
                        "iteration": 123,
                        "passed_time": 219.9050858,
                        "remaining_time": 35.46856222,
                        "test": [
                          0.8635711266,
                          0.3855235463
                        ]
                      },
                      {
                        "parameters": [
                          {
                            "min_data_in_leaf": 150,
                            "random_strength": 5,
                            "depth": 7,
                            "learning_rate": 0.05,
                            "iterations": 150
                          }
                        ],
                        "learn": [
                          0.8571777993,
                          0.4045793211
                        ],
                        "iteration": 124,
                        "passed_time": 221.7693361,
                        "remaining_time": 33.70893908,
                        "test": [
                          0.8627109814,
                          0.3830027491
                        ]
                      },
                      {
                        "parameters": [
                          {
                            "min_data_in_leaf": 150,
                            "random_strength": 5,
                            "depth": 7,
                            "learning_rate": 0.07,
                            "iterations": 150
                          }
                        ],
                        "learn": [
                          0.8673523545,
                          0.3915510245
                        ],
                        "iteration": 125,
                        "passed_time": 223.588605,
                        "remaining_time": 31.94122929,
                        "test": [
                          0.8646893155,
                          0.3805416128
                        ]
                      },
                      {
                        "parameters": [
                          {
                            "min_data_in_leaf": 150,
                            "random_strength": 5,
                            "depth": 7,
                            "learning_rate": 0.03,
                            "iterations": 200
                          }
                        ],
                        "learn": [
                          0.8546508895,
                          0.4080684429
                        ],
                        "iteration": 126,
                        "passed_time": 226.0249156,
                        "remaining_time": 30.25530367,
                        "test": [
                          0.8646082161,
                          0.382560904
                        ]
                      },
                      {
                        "parameters": [
                          {
                            "min_data_in_leaf": 150,
                            "random_strength": 5,
                            "depth": 7,
                            "learning_rate": 0.05,
                            "iterations": 200
                          }
                        ],
                        "learn": [
                          0.8645907366,
                          0.3951013328
                        ],
                        "iteration": 127,
                        "passed_time": 228.4710323,
                        "remaining_time": 28.55887904,
                        "test": [
                          0.8641044167,
                          0.3807737722
                        ]
                      },
                      {
                        "parameters": [
                          {
                            "min_data_in_leaf": 150,
                            "random_strength": 5,
                            "depth": 7,
                            "learning_rate": 0.07,
                            "iterations": 200
                          }
                        ],
                        "learn": [
                          0.8895076287,
                          0.3637816365
                        ],
                        "iteration": 128,
                        "passed_time": 230.8716423,
                        "remaining_time": 26.84553981,
                        "test": [
                          0.8604401978,
                          0.384775374
                        ]
                      },
                      {
                        "parameters": [
                          {
                            "min_data_in_leaf": 150,
                            "random_strength": 5,
                            "depth": 7,
                            "learning_rate": 0.03,
                            "iterations": 250
                          }
                        ],
                        "learn": [
                          0.8571372484,
                          0.4045249081
                        ],
                        "iteration": 129,
                        "passed_time": 233.8910011,
                        "remaining_time": 25.18826165,
                        "test": [
                          0.8655273428,
                          0.3807239907
                        ]
                      },
                      {
                        "parameters": [
                          {
                            "min_data_in_leaf": 150,
                            "random_strength": 5,
                            "depth": 7,
                            "learning_rate": 0.05,
                            "iterations": 250
                          }
                        ],
                        "learn": [
                          0.879002648,
                          0.3766363026
                        ],
                        "iteration": 130,
                        "passed_time": 236.9267552,
                        "remaining_time": 23.5118154,
                        "test": [
                          0.8629763976,
                          0.3815522002
                        ]
                      },
                      {
                        "parameters": [
                          {
                            "min_data_in_leaf": 150,
                            "random_strength": 5,
                            "depth": 7,
                            "learning_rate": 0.07,
                            "iterations": 250
                          }
                        ],
                        "learn": [
                          0.8984437331,
                          0.3519801578
                        ],
                        "iteration": 131,
                        "passed_time": 239.8520816,
                        "remaining_time": 21.80473469,
                        "test": [
                          0.8588452427,
                          0.3863601736
                        ]
                      },
                      {
                        "parameters": [
                          {
                            "min_data_in_leaf": 150,
                            "random_strength": 5,
                            "depth": 10,
                            "learning_rate": 0.03,
                            "iterations": 100
                          }
                        ],
                        "learn": [
                          0.8510831251,
                          0.4165018391
                        ],
                        "iteration": 132,
                        "passed_time": 241.3660289,
                        "remaining_time": 19.96260389,
                        "test": [
                          0.8633179982,
                          0.3893347289
                        ]
                      },
                      {
                        "parameters": [
                          {
                            "min_data_in_leaf": 150,
                            "random_strength": 5,
                            "depth": 10,
                            "learning_rate": 0.05,
                            "iterations": 100
                          }
                        ],
                        "learn": [
                          0.854721388,
                          0.4083183575
                        ],
                        "iteration": 133,
                        "passed_time": 242.8970582,
                        "remaining_time": 18.12664614,
                        "test": [
                          0.8653307382,
                          0.3824016356
                        ]
                      },
                      {
                        "parameters": [
                          {
                            "min_data_in_leaf": 150,
                            "random_strength": 5,
                            "depth": 10,
                            "learning_rate": 0.07,
                            "iterations": 100
                          }
                        ],
                        "learn": [
                          0.858628032,
                          0.4029032083
                        ],
                        "iteration": 134,
                        "passed_time": 244.3936172,
                        "remaining_time": 16.29290781,
                        "test": [
                          0.8626249668,
                          0.3825902578
                        ]
                      },
                      {
                        "parameters": [
                          {
                            "min_data_in_leaf": 150,
                            "random_strength": 5,
                            "depth": 10,
                            "learning_rate": 0.03,
                            "iterations": 150
                          }
                        ],
                        "learn": [
                          0.8554514478,
                          0.4084868144
                        ],
                        "iteration": 135,
                        "passed_time": 246.6430936,
                        "remaining_time": 14.50841727,
                        "test": [
                          0.864114247,
                          0.3839004905
                        ]
                      },
                      {
                        "parameters": [
                          {
                            "min_data_in_leaf": 150,
                            "random_strength": 5,
                            "depth": 10,
                            "learning_rate": 0.05,
                            "iterations": 150
                          }
                        ],
                        "learn": [
                          0.8609076241,
                          0.3998523727
                        ],
                        "iteration": 136,
                        "passed_time": 248.958817,
                        "remaining_time": 12.72052349,
                        "test": [
                          0.8657141172,
                          0.3799869701
                        ]
                      },
                      {
                        "parameters": [
                          {
                            "min_data_in_leaf": 150,
                            "random_strength": 5,
                            "depth": 10,
                            "learning_rate": 0.07,
                            "iterations": 150
                          }
                        ],
                        "learn": [
                          0.8715867016,
                          0.3866490778
                        ],
                        "iteration": 137,
                        "passed_time": 251.2164595,
                        "remaining_time": 10.92245476,
                        "test": [
                          0.8642150068,
                          0.380020885
                        ]
                      },
                      {
                        "parameters": [
                          {
                            "min_data_in_leaf": 150,
                            "random_strength": 5,
                            "depth": 10,
                            "learning_rate": 0.03,
                            "iterations": 200
                          }
                        ],
                        "learn": [
                          0.8591251032,
                          0.4031803458
                        ],
                        "iteration": 138,
                        "passed_time": 254.2230954,
                        "remaining_time": 9.144715661,
                        "test": [
                          0.8653823469,
                          0.3814993216
                        ]
                      },
                      {
                        "parameters": [
                          {
                            "min_data_in_leaf": 150,
                            "random_strength": 5,
                            "depth": 10,
                            "learning_rate": 0.05,
                            "iterations": 200
                          }
                        ],
                        "learn": [
                          0.8687424057,
                          0.3898431568
                        ],
                        "iteration": 139,
                        "passed_time": 257.3007139,
                        "remaining_time": 7.351448967,
                        "test": [
                          0.8668691694,
                          0.3782193499
                        ]
                      },
                      {
                        "parameters": [
                          {
                            "min_data_in_leaf": 150,
                            "random_strength": 5,
                            "depth": 10,
                            "learning_rate": 0.07,
                            "iterations": 200
                          }
                        ],
                        "learn": [
                          0.8967812887,
                          0.3553206947
                        ],
                        "iteration": 140,
                        "passed_time": 260.2613783,
                        "remaining_time": 5.537476133,
                        "test": [
                          0.8611209413,
                          0.3842554084
                        ]
                      },
                      {
                        "parameters": [
                          {
                            "min_data_in_leaf": 150,
                            "random_strength": 5,
                            "depth": 10,
                            "learning_rate": 0.03,
                            "iterations": 250
                          }
                        ],
                        "learn": [
                          0.8621555321,
                          0.3989076046
                        ],
                        "iteration": 141,
                        "passed_time": 263.959539,
                        "remaining_time": 3.717739987,
                        "test": [
                          0.865431498,
                          0.3805169523
                        ]
                      },
                      {
                        "parameters": [
                          {
                            "min_data_in_leaf": 150,
                            "random_strength": 5,
                            "depth": 10,
                            "learning_rate": 0.05,
                            "iterations": 250
                          }
                        ],
                        "learn": [
                          0.8891196009,
                          0.3650047747
                        ],
                        "iteration": 142,
                        "passed_time": 267.7197701,
                        "remaining_time": 1.872166225,
                        "test": [
                          0.863925015,
                          0.3811521585
                        ]
                      },
                      {
                        "parameters": [
                          {
                            "min_data_in_leaf": 150,
                            "random_strength": 5,
                            "depth": 10,
                            "learning_rate": 0.07,
                            "iterations": 250
                          }
                        ],
                        "learn": [
                          0.9134064492,
                          0.332624482
                        ],
                        "iteration": 143,
                        "passed_time": 271.3795839,
                        "remaining_time": 0,
                        "test": [
                          0.8597397938,
                          0.3851449724
                        ]
                      }
                    ],
                    "meta": {
                      "test_sets": [
                        "test"
                      ],
                      "test_metrics": [
                        {
                          "best_value": "Max",
                          "name": "AUC"
                        },
                        {
                          "best_value": "Min",
                          "name": "Logloss"
                        }
                      ],
                      "learn_metrics": [
                        {
                          "best_value": "Max",
                          "name": "AUC"
                        },
                        {
                          "best_value": "Min",
                          "name": "Logloss"
                        }
                      ],
                      "launch_mode": "Train",
                      "parameters": "parameters",
                      "iteration_count": 144,
                      "learn_sets": [
                        "learn"
                      ],
                      "name": "experiment"
                    }
                  }
                }
              }
            },
            "layout": "IPY_MODEL_a90634cb144543e58be8df9d31de644c"
          }
        }
      }
    }
  },
  "cells": [
    {
      "cell_type": "markdown",
      "metadata": {
        "id": "view-in-github",
        "colab_type": "text"
      },
      "source": [
        "<a href=\"https://colab.research.google.com/github/ainesko/DLS/blob/main/DLS_CatBoost.ipynb\" target=\"_parent\"><img src=\"https://colab.research.google.com/assets/colab-badge.svg\" alt=\"Open In Colab\"/></a>"
      ]
    },
    {
      "cell_type": "markdown",
      "source": [
        "# Первая часть. Исследование"
      ],
      "metadata": {
        "id": "3eZPUXMjEiS7"
      }
    },
    {
      "cell_type": "code",
      "execution_count": 1,
      "metadata": {
        "id": "LbHBuaMbEeeG"
      },
      "outputs": [],
      "source": [
        "import pandas as pd\n",
        "import numpy as np\n",
        "from matplotlib import pyplot as plt"
      ]
    },
    {
      "cell_type": "markdown",
      "metadata": {
        "id": "LOlxdURSEEY3"
      },
      "source": [
        "## Загрузка данных (2 балла)"
      ]
    },
    {
      "cell_type": "markdown",
      "source": [
        "Загрузим данные с диска"
      ],
      "metadata": {
        "id": "F5wCdDeoyHSE"
      }
    },
    {
      "cell_type": "code",
      "source": [
        "def download_from_disk(id):\n",
        "  import gdown\n",
        "  gdown.download(f'https://drive.google.com/uc?id={id}&confirm=t', quiet=False)"
      ],
      "metadata": {
        "id": "V7qy3i23uKEU"
      },
      "execution_count": 2,
      "outputs": []
    },
    {
      "cell_type": "code",
      "source": [
        "download_from_disk('1K-tf97Hjklw_eHFxeup36bBpElSC1hrb')"
      ],
      "metadata": {
        "colab": {
          "base_uri": "https://localhost:8080/"
        },
        "id": "nXqwOZYouMGT",
        "outputId": "49394133-06f5-4271-9bab-d6494aaafc9e"
      },
      "execution_count": 3,
      "outputs": [
        {
          "output_type": "stream",
          "name": "stderr",
          "text": [
            "Downloading...\n",
            "From: https://drive.google.com/uc?id=1K-tf97Hjklw_eHFxeup36bBpElSC1hrb&confirm=t\n",
            "To: /content/train.csv\n",
            "100%|██████████| 664k/664k [00:00<00:00, 52.9MB/s]\n"
          ]
        }
      ]
    },
    {
      "cell_type": "code",
      "source": [
        "download_from_disk('1ZDlKZdX0arZLQfqu9qNy7Oh2BvdeE_1Z')"
      ],
      "metadata": {
        "colab": {
          "base_uri": "https://localhost:8080/"
        },
        "id": "PKj8w8oRulhQ",
        "outputId": "124638b9-7ae4-4da6-9aae-c2b75d09589d"
      },
      "execution_count": 4,
      "outputs": [
        {
          "output_type": "stream",
          "name": "stderr",
          "text": [
            "Downloading...\n",
            "From: https://drive.google.com/uc?id=1ZDlKZdX0arZLQfqu9qNy7Oh2BvdeE_1Z&confirm=t\n",
            "To: /content/test.csv\n",
            "100%|██████████| 218k/218k [00:00<00:00, 58.1MB/s]\n"
          ]
        }
      ]
    },
    {
      "cell_type": "code",
      "source": [
        "download_from_disk('1FMEFDp-SBt5yxka5WAetGpDd7Ry_3szh')"
      ],
      "metadata": {
        "colab": {
          "base_uri": "https://localhost:8080/"
        },
        "id": "c47UcU9Rut90",
        "outputId": "48dfb9f9-9f00-4e3d-8eae-7f79fa147794"
      },
      "execution_count": 5,
      "outputs": [
        {
          "output_type": "stream",
          "name": "stderr",
          "text": [
            "Downloading...\n",
            "From: https://drive.google.com/uc?id=1FMEFDp-SBt5yxka5WAetGpDd7Ry_3szh&confirm=t\n",
            "To: /content/submission.csv\n",
            "100%|██████████| 14.7k/14.7k [00:00<00:00, 23.0MB/s]\n"
          ]
        }
      ]
    },
    {
      "cell_type": "code",
      "metadata": {
        "id": "pw-Brue9EEY3"
      },
      "source": [
        "data = pd.read_csv('./train.csv')"
      ],
      "execution_count": 6,
      "outputs": []
    },
    {
      "cell_type": "code",
      "metadata": {
        "id": "KgnkkF5bEEY9"
      },
      "source": [
        "# Числовые признаки\n",
        "num_cols = [\n",
        "    'ClientPeriod',\n",
        "    'MonthlySpending',\n",
        "    'TotalSpent'\n",
        "]\n",
        "\n",
        "# Категориальные признаки\n",
        "cat_cols = [\n",
        "    'Sex',\n",
        "    'IsSeniorCitizen',\n",
        "    'HasPartner',\n",
        "    'HasChild',\n",
        "    'HasPhoneService',\n",
        "    'HasMultiplePhoneNumbers',\n",
        "    'HasInternetService',\n",
        "    'HasOnlineSecurityService',\n",
        "    'HasOnlineBackup',\n",
        "    'HasDeviceProtection',\n",
        "    'HasTechSupportAccess',\n",
        "    'HasOnlineTV',\n",
        "    'HasMovieSubscription',\n",
        "    'HasContractPhone',\n",
        "    'IsBillingPaperless',\n",
        "    'PaymentMethod'\n",
        "]\n",
        "\n",
        "feature_cols = num_cols + cat_cols\n",
        "target_col = 'Churn'"
      ],
      "execution_count": 7,
      "outputs": []
    },
    {
      "cell_type": "markdown",
      "source": [
        "### 1) Посмотрим на случайные строчки. "
      ],
      "metadata": {
        "id": "cAfFz-k1E4Y-"
      }
    },
    {
      "cell_type": "code",
      "source": [
        "data.sample(10)"
      ],
      "metadata": {
        "colab": {
          "base_uri": "https://localhost:8080/",
          "height": 479
        },
        "id": "B3_yyK9WE7_s",
        "outputId": "24a77058-5e31-499e-c540-dc1104e0e9f2"
      },
      "execution_count": 8,
      "outputs": [
        {
          "output_type": "execute_result",
          "data": {
            "text/plain": [
              "      ClientPeriod  MonthlySpending TotalSpent     Sex  IsSeniorCitizen  \\\n",
              "1927             4            29.65      118.5    Male                0   \n",
              "2540            47            41.90    1875.25  Female                0   \n",
              "3638            72           109.65    7880.25    Male                0   \n",
              "433             58           105.20     6225.4  Female                0   \n",
              "1764            31            79.20     2497.2  Female                0   \n",
              "3419            33           110.45    3655.45  Female                1   \n",
              "943              3            20.00       61.7  Female                0   \n",
              "1798            41            98.80    3959.15  Female                0   \n",
              "555              1            50.15      50.15    Male                0   \n",
              "130             72           110.75     7751.7  Female                0   \n",
              "\n",
              "     HasPartner HasChild HasPhoneService HasMultiplePhoneNumbers  \\\n",
              "1927         No       No              No        No phone service   \n",
              "2540         No       No              No        No phone service   \n",
              "3638        Yes       No             Yes                     Yes   \n",
              "433         Yes      Yes             Yes                     Yes   \n",
              "1764         No       No             Yes                      No   \n",
              "3419         No       No             Yes                     Yes   \n",
              "943          No       No             Yes                      No   \n",
              "1798         No       No             Yes                      No   \n",
              "555          No       No             Yes                      No   \n",
              "130         Yes       No             Yes                     Yes   \n",
              "\n",
              "     HasInternetService HasOnlineSecurityService      HasOnlineBackup  \\\n",
              "1927                DSL                       No                   No   \n",
              "2540                DSL                      Yes                   No   \n",
              "3638        Fiber optic                      Yes                  Yes   \n",
              "433         Fiber optic                       No                  Yes   \n",
              "1764                DSL                       No                  Yes   \n",
              "3419        Fiber optic                       No                  Yes   \n",
              "943                  No      No internet service  No internet service   \n",
              "1798        Fiber optic                       No                  Yes   \n",
              "555                 DSL                       No                  Yes   \n",
              "130         Fiber optic                      Yes                  Yes   \n",
              "\n",
              "      HasDeviceProtection HasTechSupportAccess          HasOnlineTV  \\\n",
              "1927                  Yes                   No                   No   \n",
              "2540                  Yes                  Yes                   No   \n",
              "3638                  Yes                   No                  Yes   \n",
              "433                   Yes                   No                  Yes   \n",
              "1764                  Yes                  Yes                  Yes   \n",
              "3419                  Yes                  Yes                  Yes   \n",
              "943   No internet service  No internet service  No internet service   \n",
              "1798                   No                  Yes                  Yes   \n",
              "555                    No                   No                   No   \n",
              "130                   Yes                   No                  Yes   \n",
              "\n",
              "     HasMovieSubscription HasContractPhone IsBillingPaperless  \\\n",
              "1927                   No   Month-to-month                Yes   \n",
              "2540                   No         Two year                 No   \n",
              "3638                  Yes         Two year                Yes   \n",
              "433                   Yes         One year                Yes   \n",
              "1764                  Yes         Two year                 No   \n",
              "3419                  Yes   Month-to-month                Yes   \n",
              "943   No internet service   Month-to-month                Yes   \n",
              "1798                  Yes         Two year                Yes   \n",
              "555                    No   Month-to-month                Yes   \n",
              "130                   Yes         Two year                Yes   \n",
              "\n",
              "                  PaymentMethod  Churn  \n",
              "1927           Electronic check      1  \n",
              "2540               Mailed check      0  \n",
              "3638           Electronic check      0  \n",
              "433     Credit card (automatic)      0  \n",
              "1764               Mailed check      0  \n",
              "3419           Electronic check      1  \n",
              "943                Mailed check      0  \n",
              "1798  Bank transfer (automatic)      0  \n",
              "555                Mailed check      0  \n",
              "130            Electronic check      0  "
            ],
            "text/html": [
              "\n",
              "  <div id=\"df-4d1c97b3-975a-4b43-8e92-5e118cedad11\">\n",
              "    <div class=\"colab-df-container\">\n",
              "      <div>\n",
              "<style scoped>\n",
              "    .dataframe tbody tr th:only-of-type {\n",
              "        vertical-align: middle;\n",
              "    }\n",
              "\n",
              "    .dataframe tbody tr th {\n",
              "        vertical-align: top;\n",
              "    }\n",
              "\n",
              "    .dataframe thead th {\n",
              "        text-align: right;\n",
              "    }\n",
              "</style>\n",
              "<table border=\"1\" class=\"dataframe\">\n",
              "  <thead>\n",
              "    <tr style=\"text-align: right;\">\n",
              "      <th></th>\n",
              "      <th>ClientPeriod</th>\n",
              "      <th>MonthlySpending</th>\n",
              "      <th>TotalSpent</th>\n",
              "      <th>Sex</th>\n",
              "      <th>IsSeniorCitizen</th>\n",
              "      <th>HasPartner</th>\n",
              "      <th>HasChild</th>\n",
              "      <th>HasPhoneService</th>\n",
              "      <th>HasMultiplePhoneNumbers</th>\n",
              "      <th>HasInternetService</th>\n",
              "      <th>HasOnlineSecurityService</th>\n",
              "      <th>HasOnlineBackup</th>\n",
              "      <th>HasDeviceProtection</th>\n",
              "      <th>HasTechSupportAccess</th>\n",
              "      <th>HasOnlineTV</th>\n",
              "      <th>HasMovieSubscription</th>\n",
              "      <th>HasContractPhone</th>\n",
              "      <th>IsBillingPaperless</th>\n",
              "      <th>PaymentMethod</th>\n",
              "      <th>Churn</th>\n",
              "    </tr>\n",
              "  </thead>\n",
              "  <tbody>\n",
              "    <tr>\n",
              "      <th>1927</th>\n",
              "      <td>4</td>\n",
              "      <td>29.65</td>\n",
              "      <td>118.5</td>\n",
              "      <td>Male</td>\n",
              "      <td>0</td>\n",
              "      <td>No</td>\n",
              "      <td>No</td>\n",
              "      <td>No</td>\n",
              "      <td>No phone service</td>\n",
              "      <td>DSL</td>\n",
              "      <td>No</td>\n",
              "      <td>No</td>\n",
              "      <td>Yes</td>\n",
              "      <td>No</td>\n",
              "      <td>No</td>\n",
              "      <td>No</td>\n",
              "      <td>Month-to-month</td>\n",
              "      <td>Yes</td>\n",
              "      <td>Electronic check</td>\n",
              "      <td>1</td>\n",
              "    </tr>\n",
              "    <tr>\n",
              "      <th>2540</th>\n",
              "      <td>47</td>\n",
              "      <td>41.90</td>\n",
              "      <td>1875.25</td>\n",
              "      <td>Female</td>\n",
              "      <td>0</td>\n",
              "      <td>No</td>\n",
              "      <td>No</td>\n",
              "      <td>No</td>\n",
              "      <td>No phone service</td>\n",
              "      <td>DSL</td>\n",
              "      <td>Yes</td>\n",
              "      <td>No</td>\n",
              "      <td>Yes</td>\n",
              "      <td>Yes</td>\n",
              "      <td>No</td>\n",
              "      <td>No</td>\n",
              "      <td>Two year</td>\n",
              "      <td>No</td>\n",
              "      <td>Mailed check</td>\n",
              "      <td>0</td>\n",
              "    </tr>\n",
              "    <tr>\n",
              "      <th>3638</th>\n",
              "      <td>72</td>\n",
              "      <td>109.65</td>\n",
              "      <td>7880.25</td>\n",
              "      <td>Male</td>\n",
              "      <td>0</td>\n",
              "      <td>Yes</td>\n",
              "      <td>No</td>\n",
              "      <td>Yes</td>\n",
              "      <td>Yes</td>\n",
              "      <td>Fiber optic</td>\n",
              "      <td>Yes</td>\n",
              "      <td>Yes</td>\n",
              "      <td>Yes</td>\n",
              "      <td>No</td>\n",
              "      <td>Yes</td>\n",
              "      <td>Yes</td>\n",
              "      <td>Two year</td>\n",
              "      <td>Yes</td>\n",
              "      <td>Electronic check</td>\n",
              "      <td>0</td>\n",
              "    </tr>\n",
              "    <tr>\n",
              "      <th>433</th>\n",
              "      <td>58</td>\n",
              "      <td>105.20</td>\n",
              "      <td>6225.4</td>\n",
              "      <td>Female</td>\n",
              "      <td>0</td>\n",
              "      <td>Yes</td>\n",
              "      <td>Yes</td>\n",
              "      <td>Yes</td>\n",
              "      <td>Yes</td>\n",
              "      <td>Fiber optic</td>\n",
              "      <td>No</td>\n",
              "      <td>Yes</td>\n",
              "      <td>Yes</td>\n",
              "      <td>No</td>\n",
              "      <td>Yes</td>\n",
              "      <td>Yes</td>\n",
              "      <td>One year</td>\n",
              "      <td>Yes</td>\n",
              "      <td>Credit card (automatic)</td>\n",
              "      <td>0</td>\n",
              "    </tr>\n",
              "    <tr>\n",
              "      <th>1764</th>\n",
              "      <td>31</td>\n",
              "      <td>79.20</td>\n",
              "      <td>2497.2</td>\n",
              "      <td>Female</td>\n",
              "      <td>0</td>\n",
              "      <td>No</td>\n",
              "      <td>No</td>\n",
              "      <td>Yes</td>\n",
              "      <td>No</td>\n",
              "      <td>DSL</td>\n",
              "      <td>No</td>\n",
              "      <td>Yes</td>\n",
              "      <td>Yes</td>\n",
              "      <td>Yes</td>\n",
              "      <td>Yes</td>\n",
              "      <td>Yes</td>\n",
              "      <td>Two year</td>\n",
              "      <td>No</td>\n",
              "      <td>Mailed check</td>\n",
              "      <td>0</td>\n",
              "    </tr>\n",
              "    <tr>\n",
              "      <th>3419</th>\n",
              "      <td>33</td>\n",
              "      <td>110.45</td>\n",
              "      <td>3655.45</td>\n",
              "      <td>Female</td>\n",
              "      <td>1</td>\n",
              "      <td>No</td>\n",
              "      <td>No</td>\n",
              "      <td>Yes</td>\n",
              "      <td>Yes</td>\n",
              "      <td>Fiber optic</td>\n",
              "      <td>No</td>\n",
              "      <td>Yes</td>\n",
              "      <td>Yes</td>\n",
              "      <td>Yes</td>\n",
              "      <td>Yes</td>\n",
              "      <td>Yes</td>\n",
              "      <td>Month-to-month</td>\n",
              "      <td>Yes</td>\n",
              "      <td>Electronic check</td>\n",
              "      <td>1</td>\n",
              "    </tr>\n",
              "    <tr>\n",
              "      <th>943</th>\n",
              "      <td>3</td>\n",
              "      <td>20.00</td>\n",
              "      <td>61.7</td>\n",
              "      <td>Female</td>\n",
              "      <td>0</td>\n",
              "      <td>No</td>\n",
              "      <td>No</td>\n",
              "      <td>Yes</td>\n",
              "      <td>No</td>\n",
              "      <td>No</td>\n",
              "      <td>No internet service</td>\n",
              "      <td>No internet service</td>\n",
              "      <td>No internet service</td>\n",
              "      <td>No internet service</td>\n",
              "      <td>No internet service</td>\n",
              "      <td>No internet service</td>\n",
              "      <td>Month-to-month</td>\n",
              "      <td>Yes</td>\n",
              "      <td>Mailed check</td>\n",
              "      <td>0</td>\n",
              "    </tr>\n",
              "    <tr>\n",
              "      <th>1798</th>\n",
              "      <td>41</td>\n",
              "      <td>98.80</td>\n",
              "      <td>3959.15</td>\n",
              "      <td>Female</td>\n",
              "      <td>0</td>\n",
              "      <td>No</td>\n",
              "      <td>No</td>\n",
              "      <td>Yes</td>\n",
              "      <td>No</td>\n",
              "      <td>Fiber optic</td>\n",
              "      <td>No</td>\n",
              "      <td>Yes</td>\n",
              "      <td>No</td>\n",
              "      <td>Yes</td>\n",
              "      <td>Yes</td>\n",
              "      <td>Yes</td>\n",
              "      <td>Two year</td>\n",
              "      <td>Yes</td>\n",
              "      <td>Bank transfer (automatic)</td>\n",
              "      <td>0</td>\n",
              "    </tr>\n",
              "    <tr>\n",
              "      <th>555</th>\n",
              "      <td>1</td>\n",
              "      <td>50.15</td>\n",
              "      <td>50.15</td>\n",
              "      <td>Male</td>\n",
              "      <td>0</td>\n",
              "      <td>No</td>\n",
              "      <td>No</td>\n",
              "      <td>Yes</td>\n",
              "      <td>No</td>\n",
              "      <td>DSL</td>\n",
              "      <td>No</td>\n",
              "      <td>Yes</td>\n",
              "      <td>No</td>\n",
              "      <td>No</td>\n",
              "      <td>No</td>\n",
              "      <td>No</td>\n",
              "      <td>Month-to-month</td>\n",
              "      <td>Yes</td>\n",
              "      <td>Mailed check</td>\n",
              "      <td>0</td>\n",
              "    </tr>\n",
              "    <tr>\n",
              "      <th>130</th>\n",
              "      <td>72</td>\n",
              "      <td>110.75</td>\n",
              "      <td>7751.7</td>\n",
              "      <td>Female</td>\n",
              "      <td>0</td>\n",
              "      <td>Yes</td>\n",
              "      <td>No</td>\n",
              "      <td>Yes</td>\n",
              "      <td>Yes</td>\n",
              "      <td>Fiber optic</td>\n",
              "      <td>Yes</td>\n",
              "      <td>Yes</td>\n",
              "      <td>Yes</td>\n",
              "      <td>No</td>\n",
              "      <td>Yes</td>\n",
              "      <td>Yes</td>\n",
              "      <td>Two year</td>\n",
              "      <td>Yes</td>\n",
              "      <td>Electronic check</td>\n",
              "      <td>0</td>\n",
              "    </tr>\n",
              "  </tbody>\n",
              "</table>\n",
              "</div>\n",
              "      <button class=\"colab-df-convert\" onclick=\"convertToInteractive('df-4d1c97b3-975a-4b43-8e92-5e118cedad11')\"\n",
              "              title=\"Convert this dataframe to an interactive table.\"\n",
              "              style=\"display:none;\">\n",
              "        \n",
              "  <svg xmlns=\"http://www.w3.org/2000/svg\" height=\"24px\"viewBox=\"0 0 24 24\"\n",
              "       width=\"24px\">\n",
              "    <path d=\"M0 0h24v24H0V0z\" fill=\"none\"/>\n",
              "    <path d=\"M18.56 5.44l.94 2.06.94-2.06 2.06-.94-2.06-.94-.94-2.06-.94 2.06-2.06.94zm-11 1L8.5 8.5l.94-2.06 2.06-.94-2.06-.94L8.5 2.5l-.94 2.06-2.06.94zm10 10l.94 2.06.94-2.06 2.06-.94-2.06-.94-.94-2.06-.94 2.06-2.06.94z\"/><path d=\"M17.41 7.96l-1.37-1.37c-.4-.4-.92-.59-1.43-.59-.52 0-1.04.2-1.43.59L10.3 9.45l-7.72 7.72c-.78.78-.78 2.05 0 2.83L4 21.41c.39.39.9.59 1.41.59.51 0 1.02-.2 1.41-.59l7.78-7.78 2.81-2.81c.8-.78.8-2.07 0-2.86zM5.41 20L4 18.59l7.72-7.72 1.47 1.35L5.41 20z\"/>\n",
              "  </svg>\n",
              "      </button>\n",
              "      \n",
              "  <style>\n",
              "    .colab-df-container {\n",
              "      display:flex;\n",
              "      flex-wrap:wrap;\n",
              "      gap: 12px;\n",
              "    }\n",
              "\n",
              "    .colab-df-convert {\n",
              "      background-color: #E8F0FE;\n",
              "      border: none;\n",
              "      border-radius: 50%;\n",
              "      cursor: pointer;\n",
              "      display: none;\n",
              "      fill: #1967D2;\n",
              "      height: 32px;\n",
              "      padding: 0 0 0 0;\n",
              "      width: 32px;\n",
              "    }\n",
              "\n",
              "    .colab-df-convert:hover {\n",
              "      background-color: #E2EBFA;\n",
              "      box-shadow: 0px 1px 2px rgba(60, 64, 67, 0.3), 0px 1px 3px 1px rgba(60, 64, 67, 0.15);\n",
              "      fill: #174EA6;\n",
              "    }\n",
              "\n",
              "    [theme=dark] .colab-df-convert {\n",
              "      background-color: #3B4455;\n",
              "      fill: #D2E3FC;\n",
              "    }\n",
              "\n",
              "    [theme=dark] .colab-df-convert:hover {\n",
              "      background-color: #434B5C;\n",
              "      box-shadow: 0px 1px 3px 1px rgba(0, 0, 0, 0.15);\n",
              "      filter: drop-shadow(0px 1px 2px rgba(0, 0, 0, 0.3));\n",
              "      fill: #FFFFFF;\n",
              "    }\n",
              "  </style>\n",
              "\n",
              "      <script>\n",
              "        const buttonEl =\n",
              "          document.querySelector('#df-4d1c97b3-975a-4b43-8e92-5e118cedad11 button.colab-df-convert');\n",
              "        buttonEl.style.display =\n",
              "          google.colab.kernel.accessAllowed ? 'block' : 'none';\n",
              "\n",
              "        async function convertToInteractive(key) {\n",
              "          const element = document.querySelector('#df-4d1c97b3-975a-4b43-8e92-5e118cedad11');\n",
              "          const dataTable =\n",
              "            await google.colab.kernel.invokeFunction('convertToInteractive',\n",
              "                                                     [key], {});\n",
              "          if (!dataTable) return;\n",
              "\n",
              "          const docLinkHtml = 'Like what you see? Visit the ' +\n",
              "            '<a target=\"_blank\" href=https://colab.research.google.com/notebooks/data_table.ipynb>data table notebook</a>'\n",
              "            + ' to learn more about interactive tables.';\n",
              "          element.innerHTML = '';\n",
              "          dataTable['output_type'] = 'display_data';\n",
              "          await google.colab.output.renderOutput(dataTable, element);\n",
              "          const docLink = document.createElement('div');\n",
              "          docLink.innerHTML = docLinkHtml;\n",
              "          element.appendChild(docLink);\n",
              "        }\n",
              "      </script>\n",
              "    </div>\n",
              "  </div>\n",
              "  "
            ]
          },
          "metadata": {},
          "execution_count": 8
        }
      ]
    },
    {
      "cell_type": "markdown",
      "source": [
        "### 2) Посмотрим, есть ли в датасете незаполненные значения (nan'ы) с помощью data.isna() или data.info() и, если нужно, заменим их на что-то."
      ],
      "metadata": {
        "id": "7vso03TgFAFQ"
      }
    },
    {
      "cell_type": "code",
      "source": [
        "data.isna().sum()"
      ],
      "metadata": {
        "colab": {
          "base_uri": "https://localhost:8080/"
        },
        "id": "krwf7J1MFIoq",
        "outputId": "da7fd05d-e0f5-4269-d109-06211a09e922"
      },
      "execution_count": 9,
      "outputs": [
        {
          "output_type": "execute_result",
          "data": {
            "text/plain": [
              "ClientPeriod                0\n",
              "MonthlySpending             0\n",
              "TotalSpent                  0\n",
              "Sex                         0\n",
              "IsSeniorCitizen             0\n",
              "HasPartner                  0\n",
              "HasChild                    0\n",
              "HasPhoneService             0\n",
              "HasMultiplePhoneNumbers     0\n",
              "HasInternetService          0\n",
              "HasOnlineSecurityService    0\n",
              "HasOnlineBackup             0\n",
              "HasDeviceProtection         0\n",
              "HasTechSupportAccess        0\n",
              "HasOnlineTV                 0\n",
              "HasMovieSubscription        0\n",
              "HasContractPhone            0\n",
              "IsBillingPaperless          0\n",
              "PaymentMethod               0\n",
              "Churn                       0\n",
              "dtype: int64"
            ]
          },
          "metadata": {},
          "execution_count": 9
        }
      ]
    },
    {
      "cell_type": "code",
      "source": [
        "data.info()"
      ],
      "metadata": {
        "colab": {
          "base_uri": "https://localhost:8080/"
        },
        "id": "R4inzGO7FQB5",
        "outputId": "c298e76d-e40e-4855-ad4e-50384027738a"
      },
      "execution_count": 10,
      "outputs": [
        {
          "output_type": "stream",
          "name": "stdout",
          "text": [
            "<class 'pandas.core.frame.DataFrame'>\n",
            "RangeIndex: 5282 entries, 0 to 5281\n",
            "Data columns (total 20 columns):\n",
            " #   Column                    Non-Null Count  Dtype  \n",
            "---  ------                    --------------  -----  \n",
            " 0   ClientPeriod              5282 non-null   int64  \n",
            " 1   MonthlySpending           5282 non-null   float64\n",
            " 2   TotalSpent                5282 non-null   object \n",
            " 3   Sex                       5282 non-null   object \n",
            " 4   IsSeniorCitizen           5282 non-null   int64  \n",
            " 5   HasPartner                5282 non-null   object \n",
            " 6   HasChild                  5282 non-null   object \n",
            " 7   HasPhoneService           5282 non-null   object \n",
            " 8   HasMultiplePhoneNumbers   5282 non-null   object \n",
            " 9   HasInternetService        5282 non-null   object \n",
            " 10  HasOnlineSecurityService  5282 non-null   object \n",
            " 11  HasOnlineBackup           5282 non-null   object \n",
            " 12  HasDeviceProtection       5282 non-null   object \n",
            " 13  HasTechSupportAccess      5282 non-null   object \n",
            " 14  HasOnlineTV               5282 non-null   object \n",
            " 15  HasMovieSubscription      5282 non-null   object \n",
            " 16  HasContractPhone          5282 non-null   object \n",
            " 17  IsBillingPaperless        5282 non-null   object \n",
            " 18  PaymentMethod             5282 non-null   object \n",
            " 19  Churn                     5282 non-null   int64  \n",
            "dtypes: float64(1), int64(3), object(16)\n",
            "memory usage: 825.4+ KB\n"
          ]
        }
      ]
    },
    {
      "cell_type": "markdown",
      "source": [
        "Как мы видим, нет nan'ов, но тип данных в столбце TotalSpent не числовой, как мы ожидали.\n",
        "\n",
        "Попробуем удалить пробелы и изменить тип данных на числовой."
      ],
      "metadata": {
        "id": "J2ttycG3FTtF"
      }
    },
    {
      "cell_type": "code",
      "source": [
        "data = data.replace(' ', np.nan)\n",
        "data = data.dropna(axis=0)\n",
        "data.TotalSpent = data.TotalSpent.astype(float) "
      ],
      "metadata": {
        "id": "300agNaCFho_"
      },
      "execution_count": 11,
      "outputs": []
    },
    {
      "cell_type": "code",
      "source": [
        "data.info()"
      ],
      "metadata": {
        "colab": {
          "base_uri": "https://localhost:8080/"
        },
        "id": "2XwGaGjvFtX0",
        "outputId": "e4b95920-64dd-4724-bbc9-da6e8bb9f4f3"
      },
      "execution_count": 12,
      "outputs": [
        {
          "output_type": "stream",
          "name": "stdout",
          "text": [
            "<class 'pandas.core.frame.DataFrame'>\n",
            "Int64Index: 5273 entries, 0 to 5281\n",
            "Data columns (total 20 columns):\n",
            " #   Column                    Non-Null Count  Dtype  \n",
            "---  ------                    --------------  -----  \n",
            " 0   ClientPeriod              5273 non-null   int64  \n",
            " 1   MonthlySpending           5273 non-null   float64\n",
            " 2   TotalSpent                5273 non-null   float64\n",
            " 3   Sex                       5273 non-null   object \n",
            " 4   IsSeniorCitizen           5273 non-null   int64  \n",
            " 5   HasPartner                5273 non-null   object \n",
            " 6   HasChild                  5273 non-null   object \n",
            " 7   HasPhoneService           5273 non-null   object \n",
            " 8   HasMultiplePhoneNumbers   5273 non-null   object \n",
            " 9   HasInternetService        5273 non-null   object \n",
            " 10  HasOnlineSecurityService  5273 non-null   object \n",
            " 11  HasOnlineBackup           5273 non-null   object \n",
            " 12  HasDeviceProtection       5273 non-null   object \n",
            " 13  HasTechSupportAccess      5273 non-null   object \n",
            " 14  HasOnlineTV               5273 non-null   object \n",
            " 15  HasMovieSubscription      5273 non-null   object \n",
            " 16  HasContractPhone          5273 non-null   object \n",
            " 17  IsBillingPaperless        5273 non-null   object \n",
            " 18  PaymentMethod             5273 non-null   object \n",
            " 19  Churn                     5273 non-null   int64  \n",
            "dtypes: float64(2), int64(3), object(15)\n",
            "memory usage: 865.1+ KB\n"
          ]
        }
      ]
    },
    {
      "cell_type": "markdown",
      "source": [
        "## Анализ данных (3 балла)\n",
        "\n",
        "1) Для численных призанков постройте гистограмму (*plt.hist(...)*) или boxplot (*plt.boxplot(...)*). Для категориальных посчитайте количество каждого значения для каждого признака. Для каждой колонки надо сделать *data.value_counts()* и построить bar диаграммы *plt.bar(...)* или круговые диаграммы *plt.pie(...)* (хорошо, елси вы сможете это сделать на одном гарфике с помощью *plt.subplots(...)*). \n",
        "\n",
        "2) Посмотрите на распределение целевой переменной и скажите, являются ли классы несбалансированными.\n",
        "\n",
        "3) (Если будет желание) Поиграйте с разными библиотеками для визуализации - *sns*, *pandas_visual_analysis*, etc.\n",
        "\n",
        "Второй пункт очень важен, потому что существуют задачи классификации с несбалансированными классами. Например, это может значить, что в датасете намного больше примеров 0 класса. В таких случаях нужно 1) не использовать accuracy как метрику 2) использовать методы борьбы с imbalanced dataset (обычно если датасет сильно несбалансирован, т.е. класса 1 в 20 раз меньше класса 0)."
      ],
      "metadata": {
        "id": "lEVh9o3DGCiN"
      }
    },
    {
      "cell_type": "markdown",
      "source": [
        "### 1) Для численных признаков строим гистограммы, а для категориальных круговые диаграммы."
      ],
      "metadata": {
        "id": "egPS1P0gGbO3"
      }
    },
    {
      "cell_type": "code",
      "source": [
        "for col in num_cols:\n",
        "  plt.hist(data[col])\n",
        "  plt.xlabel(col)  \n",
        "  plt.show()"
      ],
      "metadata": {
        "colab": {
          "base_uri": "https://localhost:8080/",
          "height": 803
        },
        "id": "tj9HijD1F6T8",
        "outputId": "8de39954-861c-4288-9683-41a67204c8db"
      },
      "execution_count": 13,
      "outputs": [
        {
          "output_type": "display_data",
          "data": {
            "text/plain": [
              "<Figure size 432x288 with 1 Axes>"
            ],
            "image/png": "[encoded data removed]"
          },
          "metadata": {
            "needs_background": "light"
          }
        },
        {
          "output_type": "display_data",
          "data": {
            "text/plain": [
              "<Figure size 432x288 with 1 Axes>"
            ],
            "image/png": "[encoded data removed]"
          },
          "metadata": {
            "needs_background": "light"
          }
        },
        {
          "output_type": "display_data",
          "data": {
            "text/plain": [
              "<Figure size 432x288 with 1 Axes>"
            ],
            "image/png": "[encoded data removed]"
          },
          "metadata": {
            "needs_background": "light"
          }
        }
      ]
    },
    {
      "cell_type": "code",
      "source": [
        "for col in cat_cols:\n",
        "  plt.pie(data[col].value_counts())\n",
        "  x = data[col].value_counts()\n",
        "  plt.pie(labels=x.index, x=x)\n",
        "  plt.xlabel(col)\n",
        "  plt.show()"
      ],
      "metadata": {
        "colab": {
          "base_uri": "https://localhost:8080/",
          "height": 1000
        },
        "id": "To5xuPg9GtVN",
        "outputId": "db960bde-b8c2-495d-8d04-7e51f2250dc0"
      },
      "execution_count": 14,
      "outputs": [
        {
          "output_type": "display_data",
          "data": {
            "text/plain": [
              "<Figure size 432x288 with 1 Axes>"
            ],
            "image/png": "[encoded data removed]"
          },
          "metadata": {}
        },
        {
          "output_type": "display_data",
          "data": {
            "text/plain": [
              "<Figure size 432x288 with 1 Axes>"
            ],
            "image/png": "[encoded data removed]"
          },
          "metadata": {}
        },
        {
          "output_type": "display_data",
          "data": {
            "text/plain": [
              "<Figure size 432x288 with 1 Axes>"
            ],
            "image/png": "[encoded data removed]"
          },
          "metadata": {}
        },
        {
          "output_type": "display_data",
          "data": {
            "text/plain": [
              "<Figure size 432x288 with 1 Axes>"
            ],
            "image/png": "[encoded data removed]"
          },
          "metadata": {}
        },
        {
          "output_type": "display_data",
          "data": {
            "text/plain": [
              "<Figure size 432x288 with 1 Axes>"
            ],
            "image/png": "[encoded data removed]"
          },
          "metadata": {}
        },
        {
          "output_type": "display_data",
          "data": {
            "text/plain": [
              "<Figure size 432x288 with 1 Axes>"
            ],
            "image/png": "[encoded data removed]"
          },
          "metadata": {}
        },
        {
          "output_type": "display_data",
          "data": {
            "text/plain": [
              "<Figure size 432x288 with 1 Axes>"
            ],
            "image/png": "[encoded data removed]"
          },
          "metadata": {}
        },
        {
          "output_type": "display_data",
          "data": {
            "text/plain": [
              "<Figure size 432x288 with 1 Axes>"
            ],
            "image/png": "[encoded data removed]"
          },
          "metadata": {}
        },
        {
          "output_type": "display_data",
          "data": {
            "text/plain": [
              "<Figure size 432x288 with 1 Axes>"
            ],
            "image/png": "[encoded data removed]"
          },
          "metadata": {}
        },
        {
          "output_type": "display_data",
          "data": {
            "text/plain": [
              "<Figure size 432x288 with 1 Axes>"
            ],
            "image/png": "[encoded data removed]"
          },
          "metadata": {}
        },
        {
          "output_type": "display_data",
          "data": {
            "text/plain": [
              "<Figure size 432x288 with 1 Axes>"
            ],
            "image/png": "[encoded data removed]"
          },
          "metadata": {}
        },
        {
          "output_type": "display_data",
          "data": {
            "text/plain": [
              "<Figure size 432x288 with 1 Axes>"
            ],
            "image/png": "[encoded data removed]"
          },
          "metadata": {}
        },
        {
          "output_type": "display_data",
          "data": {
            "text/plain": [
              "<Figure size 432x288 with 1 Axes>"
            ],
            "image/png": "[encoded data removed]"
          },
          "metadata": {}
        },
        {
          "output_type": "display_data",
          "data": {
            "text/plain": [
              "<Figure size 432x288 with 1 Axes>"
            ],
            "image/png": "[encoded data removed]"
          },
          "metadata": {}
        },
        {
          "output_type": "display_data",
          "data": {
            "text/plain": [
              "<Figure size 432x288 with 1 Axes>"
            ],
            "image/png": "[encoded data removed]"
          },
          "metadata": {}
        },
        {
          "output_type": "display_data",
          "data": {
            "text/plain": [
              "<Figure size 432x288 with 1 Axes>"
            ],
            "image/png": "[encoded data removed]"
          },
          "metadata": {}
        }
      ]
    },
    {
      "cell_type": "markdown",
      "source": [
        "### 2) Посмотрите на распределение целевой переменной и скажите, являются ли классы несбалансированными."
      ],
      "metadata": {
        "id": "P75hEqi-Iuq5"
      }
    },
    {
      "cell_type": "code",
      "source": [
        "plt.pie(data[target_col].value_counts())\n",
        "plt.xlabel(target_col)\n",
        "plt.show()"
      ],
      "metadata": {
        "colab": {
          "base_uri": "https://localhost:8080/",
          "height": 262
        },
        "id": "4Aqo8vL5HMJ8",
        "outputId": "d63bb4cb-5091-4e13-bbe2-af31182d154d"
      },
      "execution_count": 15,
      "outputs": [
        {
          "output_type": "display_data",
          "data": {
            "text/plain": [
              "<Figure size 432x288 with 1 Axes>"
            ],
            "image/png": "[encoded data removed]"
          },
          "metadata": {}
        }
      ]
    },
    {
      "cell_type": "markdown",
      "source": [
        "Классы не являются сбалансированными."
      ],
      "metadata": {
        "id": "jyvrM4CVKvlz"
      }
    },
    {
      "cell_type": "markdown",
      "source": [
        "## Применение линейных моделей (3 балла)\n"
      ],
      "metadata": {
        "id": "MPA661wcP0vv"
      }
    },
    {
      "cell_type": "code",
      "source": [
        "from sklearn.linear_model import LogisticRegression, LogisticRegressionCV\n",
        "from sklearn.model_selection import train_test_split, GridSearchCV\n",
        "from sklearn.preprocessing import StandardScaler, RobustScaler, LabelEncoder, OneHotEncoder\n",
        "from sklearn.pipeline import make_pipeline"
      ],
      "metadata": {
        "id": "Clzmnt0CKuVW"
      },
      "execution_count": 16,
      "outputs": []
    },
    {
      "cell_type": "markdown",
      "source": [],
      "metadata": {
        "id": "fqBzW7XvQh_C"
      }
    },
    {
      "cell_type": "markdown",
      "source": [
        "### 1) Обработаем данные для того, чтобы к ним можно было применить LogisticRegression. Т.е. отнормируем числовые признаки, а категориальные закодируем с помощью one-hot-encoding'а."
      ],
      "metadata": {
        "id": "Yo-DKWjLQBAB"
      }
    },
    {
      "cell_type": "code",
      "source": [
        "dum = pd.get_dummies(data[cat_cols])\n",
        "X = pd.concat((data[num_cols], dum), axis=1)\n",
        "y = data[target_col]"
      ],
      "metadata": {
        "id": "Twq8Fvz5P_iJ"
      },
      "execution_count": 17,
      "outputs": []
    },
    {
      "cell_type": "markdown",
      "source": [
        "### 2) Разделим на  train/valid. Используем LogisticRegressionCV."
      ],
      "metadata": {
        "id": "AnwAebtyRs3h"
      }
    },
    {
      "cell_type": "code",
      "source": [
        "X_train, X_test, y_train, y_test = train_test_split(X, y, train_size=0.8, random_state=42)\n",
        "\n",
        "scaler = StandardScaler()\n",
        "X_train[num_cols] = scaler.fit_transform(X_train[num_cols])\n",
        "X_test[num_cols] = scaler.transform(X_test[num_cols])"
      ],
      "metadata": {
        "id": "6UH6hlxBRpaj"
      },
      "execution_count": 18,
      "outputs": []
    },
    {
      "cell_type": "code",
      "source": [
        "C = [100, 10, 1, 0.1, 0.01, 0.001]\n",
        "model = LogisticRegressionCV(Cs=C, random_state=777, refit=True, scoring='roc_auc')\n",
        "model.fit(X_train, y_train)"
      ],
      "metadata": {
        "colab": {
          "base_uri": "https://localhost:8080/"
        },
        "id": "w87iR_0AR9PE",
        "outputId": "e84322ae-c5e0-4a0c-cb26-fa7520a5486f"
      },
      "execution_count": 19,
      "outputs": [
        {
          "output_type": "execute_result",
          "data": {
            "text/plain": [
              "LogisticRegressionCV(Cs=[100, 10, 1, 0.1, 0.01, 0.001], random_state=777,\n",
              "                     scoring='roc_auc')"
            ]
          },
          "metadata": {},
          "execution_count": 19
        }
      ]
    },
    {
      "cell_type": "code",
      "source": [
        "best_C = model.C_[0] \n",
        "y_train_predicted = model.predict_proba(X_train)[:, 1]\n",
        "y_test_predicted = model.predict_proba(X_test)[:, 1]"
      ],
      "metadata": {
        "id": "RL77muMBi7Lk"
      },
      "execution_count": 20,
      "outputs": []
    },
    {
      "cell_type": "markdown",
      "source": [
        "### Укажем какое лучшее качество и с какими параметрами нам удалось получить"
      ],
      "metadata": {
        "id": "H3b2KRzYjpM4"
      }
    },
    {
      "cell_type": "code",
      "source": [
        "from sklearn.metrics import roc_auc_score\n",
        "\n",
        "roc_auc_score(y_test, model.predict_proba(X_test)[:, 1])"
      ],
      "metadata": {
        "colab": {
          "base_uri": "https://localhost:8080/"
        },
        "id": "o87uydUHjAwW",
        "outputId": "a773dcad-1541-4d88-a2fe-2b9388a3a158"
      },
      "execution_count": 21,
      "outputs": [
        {
          "output_type": "execute_result",
          "data": {
            "text/plain": [
              "0.8439820712432178"
            ]
          },
          "metadata": {},
          "execution_count": 21
        }
      ]
    },
    {
      "cell_type": "code",
      "source": [
        "best_C"
      ],
      "metadata": {
        "colab": {
          "base_uri": "https://localhost:8080/"
        },
        "id": "cf6FxV8kjUwH",
        "outputId": "0ddf9f19-b50a-48f2-db80-ce5364ffa08b"
      },
      "execution_count": 22,
      "outputs": [
        {
          "output_type": "execute_result",
          "data": {
            "text/plain": [
              "10.0"
            ]
          },
          "metadata": {},
          "execution_count": 22
        }
      ]
    },
    {
      "cell_type": "markdown",
      "source": [
        "## Применение градиентного бустинга (2 балла)\n"
      ],
      "metadata": {
        "id": "GbePyftpkJ2b"
      }
    },
    {
      "cell_type": "code",
      "source": [
        "#!pip install catboost"
      ],
      "metadata": {
        "colab": {
          "base_uri": "https://localhost:8080/"
        },
        "id": "vRDbSBNJkvFJ",
        "outputId": "cc1bf29f-e868-4d68-f6fe-fbf240387110"
      },
      "execution_count": 25,
      "outputs": [
        {
          "output_type": "stream",
          "name": "stdout",
          "text": [
            "Looking in indexes: https://pypi.org/simple, https://us-python.pkg.dev/colab-wheels/public/simple/\n",
            "Collecting catboost\n",
            "  Downloading catboost-1.1.1-cp37-none-manylinux1_x86_64.whl (76.6 MB)\n",
            "\u001b[K     |████████████████████████████████| 76.6 MB 1.2 MB/s \n",
            "\u001b[?25hRequirement already satisfied: numpy>=1.16.0 in /usr/local/lib/python3.7/dist-packages (from catboost) (1.21.6)\n",
            "Requirement already satisfied: six in /usr/local/lib/python3.7/dist-packages (from catboost) (1.15.0)\n",
            "Requirement already satisfied: scipy in /usr/local/lib/python3.7/dist-packages (from catboost) (1.7.3)\n",
            "Requirement already satisfied: plotly in /usr/local/lib/python3.7/dist-packages (from catboost) (5.5.0)\n",
            "Requirement already satisfied: matplotlib in /usr/local/lib/python3.7/dist-packages (from catboost) (3.2.2)\n",
            "Requirement already satisfied: graphviz in /usr/local/lib/python3.7/dist-packages (from catboost) (0.10.1)\n",
            "Requirement already satisfied: pandas>=0.24.0 in /usr/local/lib/python3.7/dist-packages (from catboost) (1.3.5)\n",
            "Requirement already satisfied: pytz>=2017.3 in /usr/local/lib/python3.7/dist-packages (from pandas>=0.24.0->catboost) (2022.6)\n",
            "Requirement already satisfied: python-dateutil>=2.7.3 in /usr/local/lib/python3.7/dist-packages (from pandas>=0.24.0->catboost) (2.8.2)\n",
            "Requirement already satisfied: pyparsing!=2.0.4,!=2.1.2,!=2.1.6,>=2.0.1 in /usr/local/lib/python3.7/dist-packages (from matplotlib->catboost) (3.0.9)\n",
            "Requirement already satisfied: cycler>=0.10 in /usr/local/lib/python3.7/dist-packages (from matplotlib->catboost) (0.11.0)\n",
            "Requirement already satisfied: kiwisolver>=1.0.1 in /usr/local/lib/python3.7/dist-packages (from matplotlib->catboost) (1.4.4)\n",
            "Requirement already satisfied: typing-extensions in /usr/local/lib/python3.7/dist-packages (from kiwisolver>=1.0.1->matplotlib->catboost) (4.1.1)\n",
            "Requirement already satisfied: tenacity>=6.2.0 in /usr/local/lib/python3.7/dist-packages (from plotly->catboost) (8.1.0)\n",
            "Installing collected packages: catboost\n",
            "Successfully installed catboost-1.1.1\n"
          ]
        }
      ]
    },
    {
      "cell_type": "code",
      "source": [
        "import catboost"
      ],
      "metadata": {
        "id": "6ivlatptjz_v"
      },
      "execution_count": 26,
      "outputs": []
    },
    {
      "cell_type": "code",
      "source": [
        "cat_feat = np.array([data.columns.get_loc(c) for c in cat_cols])"
      ],
      "metadata": {
        "id": "SXOHPanjltQz"
      },
      "execution_count": 27,
      "outputs": []
    },
    {
      "cell_type": "code",
      "source": [
        "X_origin = data[feature_cols]\n",
        "y = data[target_col]\n",
        "\n",
        "\n",
        "X_train_origin, X_test_origin, y_train, y_test = train_test_split(X_origin.values, y.values, train_size=0.8)\n",
        "\n",
        "boosting_model = catboost.CatBoostClassifier(n_estimators=400, cat_features=cat_feat, verbose=False)\n",
        "\n",
        "boosting_model.fit(X_train_origin, y_train)\n",
        "\n",
        "y_train_predicted = boosting_model.predict_proba(X_train_origin)[:, 1]\n",
        "y_test_predicted = boosting_model.predict_proba(X_test_origin)[:, 1]"
      ],
      "metadata": {
        "id": "Bt7tKYiHvKRk"
      },
      "execution_count": 28,
      "outputs": []
    },
    {
      "cell_type": "code",
      "source": [
        "from sklearn.metrics import roc_curve"
      ],
      "metadata": {
        "id": "ngvgdZuevglQ"
      },
      "execution_count": 29,
      "outputs": []
    },
    {
      "cell_type": "code",
      "source": [
        "train_auc = roc_auc_score(y_train, y_train_predicted)\n",
        "test_auc = roc_auc_score(y_test, y_test_predicted)\n",
        "plt.figure(figsize=(10,7))\n",
        "plt.plot(*roc_curve(y_train, y_train_predicted)[:2], label='train AUC={:.3f}'.format(train_auc))\n",
        "plt.plot(*roc_curve(y_test, y_test_predicted)[:2], label='test AUC={:.3f}'.format(test_auc))\n",
        "legend_box = plt.legend(fontsize='large', framealpha=1).get_frame()\n",
        "legend_box.set_facecolor(\"white\")\n",
        "legend_box.set_edgecolor(\"black\")\n",
        "plt.plot(np.linspace(0,1,100), np.linspace(0,1,100))\n",
        "plt.show()"
      ],
      "metadata": {
        "colab": {
          "base_uri": "https://localhost:8080/",
          "height": 428
        },
        "id": "MimgSCnBvWjU",
        "outputId": "428e3582-b89e-4dd0-d75f-121e48692222"
      },
      "execution_count": 30,
      "outputs": [
        {
          "output_type": "display_data",
          "data": {
            "text/plain": [
              "<Figure size 720x504 with 1 Axes>"
            ],
            "image/png": "[encoded data removed]"
          },
          "metadata": {
            "needs_background": "light"
          }
        }
      ]
    },
    {
      "cell_type": "code",
      "source": [
        "cat = catboost.CatBoostClassifier(cat_features=cat_cols,\n",
        "        logging_level=\"Silent\",\n",
        "        eval_metric=\"AUC:hints=skip_train~false\",\n",
        "        grow_policy=\"Lossguide\",\n",
        "        metric_period=1000,\n",
        "        random_seed=10,) \n",
        "\n",
        "\n",
        "PARAMS = {\n",
        "    \"n_estimators\": [100, 150, 200, 250],\n",
        "    \"learning_rate\": [0.03, 0.05, 0.07],\n",
        "    \"max_depth\": [3, 5, 7, 10],\n",
        "    \"random_strength\": [5],  \n",
        "    \"min_data_in_leaf\": [50, 100, 150], \n",
        "}\n",
        "\n",
        "\n",
        "cat.grid_search(PARAMS, data[feature_cols], data[target_col], cv=5, plot=True, refit=True)"
      ],
      "metadata": {
        "colab": {
          "base_uri": "https://localhost:8080/",
          "height": 1000,
          "referenced_widgets": [
            "f7a68e63c37f4c13886befcb6baf18dc"
          ]
        },
        "id": "TIcMVS-xlYML",
        "outputId": "51654a8f-0396-41d2-ba9e-006963e1893a"
      },
      "execution_count": 31,
      "outputs": [
        {
          "output_type": "display_data",
          "data": {
            "text/plain": [
              "MetricVisualizer(layout=Layout(align_self='stretch', height='500px'))"
            ],
            "application/vnd.jupyter.widget-view+json": {
              "version_major": 2,
              "version_minor": 0,
              "model_id": "f7a68e63c37f4c13886befcb6baf18dc"
            }
          },
          "metadata": {}
        },
        {
          "output_type": "stream",
          "name": "stdout",
          "text": [
            "0:\tloss: 0.8603566\tbest: 0.8603566 (0)\ttotal: 618ms\tremaining: 1m 28s\n",
            "1:\tloss: 0.8612856\tbest: 0.8612856 (1)\ttotal: 1.27s\tremaining: 1m 29s\n",
            "2:\tloss: 0.8645197\tbest: 0.8645197 (2)\ttotal: 1.88s\tremaining: 1m 28s\n",
            "3:\tloss: 0.8617869\tbest: 0.8645197 (2)\ttotal: 2.8s\tremaining: 1m 38s\n",
            "4:\tloss: 0.8627233\tbest: 0.8645197 (2)\ttotal: 3.72s\tremaining: 1m 43s\n",
            "5:\tloss: 0.8659206\tbest: 0.8659206 (5)\ttotal: 4.62s\tremaining: 1m 46s\n",
            "6:\tloss: 0.8631263\tbest: 0.8659206 (5)\ttotal: 5.83s\tremaining: 1m 54s\n",
            "7:\tloss: 0.8641241\tbest: 0.8659206 (5)\ttotal: 7.05s\tremaining: 1m 59s\n",
            "8:\tloss: 0.8661368\tbest: 0.8661368 (8)\ttotal: 8.26s\tremaining: 2m 3s\n",
            "9:\tloss: 0.8638636\tbest: 0.8661368 (8)\ttotal: 9.8s\tremaining: 2m 11s\n",
            "10:\tloss: 0.8651169\tbest: 0.8661368 (8)\ttotal: 11.3s\tremaining: 2m 17s\n",
            "11:\tloss: 0.8657067\tbest: 0.8661368 (8)\ttotal: 12.8s\tremaining: 2m 21s\n",
            "12:\tloss: 0.8601404\tbest: 0.8661368 (8)\ttotal: 13.8s\tremaining: 2m 19s\n",
            "13:\tloss: 0.8625193\tbest: 0.8661368 (8)\ttotal: 14.8s\tremaining: 2m 17s\n",
            "14:\tloss: 0.8660459\tbest: 0.8661368 (8)\ttotal: 15.8s\tremaining: 2m 15s\n",
            "15:\tloss: 0.8621089\tbest: 0.8661368 (8)\ttotal: 17.2s\tremaining: 2m 17s\n",
            "16:\tloss: 0.8638095\tbest: 0.8661368 (8)\ttotal: 18.5s\tremaining: 2m 18s\n",
            "17:\tloss: 0.8667930\tbest: 0.8667930 (17)\ttotal: 19.9s\tremaining: 2m 19s\n",
            "18:\tloss: 0.8636965\tbest: 0.8667930 (17)\ttotal: 21.8s\tremaining: 2m 23s\n",
            "19:\tloss: 0.8652668\tbest: 0.8667930 (17)\ttotal: 23.6s\tremaining: 2m 26s\n",
            "20:\tloss: 0.8640504\tbest: 0.8667930 (17)\ttotal: 25.4s\tremaining: 2m 29s\n",
            "21:\tloss: 0.8644214\tbest: 0.8667930 (17)\ttotal: 27.7s\tremaining: 2m 33s\n",
            "22:\tloss: 0.8639865\tbest: 0.8667930 (17)\ttotal: 30s\tremaining: 2m 37s\n",
            "23:\tloss: 0.8624185\tbest: 0.8667930 (17)\ttotal: 32.3s\tremaining: 2m 41s\n",
            "24:\tloss: 0.8610226\tbest: 0.8667930 (17)\ttotal: 33.6s\tremaining: 2m 39s\n",
            "25:\tloss: 0.8627282\tbest: 0.8667930 (17)\ttotal: 34.9s\tremaining: 2m 38s\n",
            "26:\tloss: 0.8630501\tbest: 0.8667930 (17)\ttotal: 36.1s\tremaining: 2m 36s\n",
            "27:\tloss: 0.8624579\tbest: 0.8667930 (17)\ttotal: 38.1s\tremaining: 2m 37s\n",
            "28:\tloss: 0.8643993\tbest: 0.8667930 (17)\ttotal: 40s\tremaining: 2m 38s\n",
            "29:\tloss: 0.8633794\tbest: 0.8667930 (17)\ttotal: 41.9s\tremaining: 2m 39s\n",
            "30:\tloss: 0.8635121\tbest: 0.8667930 (17)\ttotal: 44.4s\tremaining: 2m 41s\n",
            "31:\tloss: 0.8652816\tbest: 0.8667930 (17)\ttotal: 47s\tremaining: 2m 44s\n",
            "32:\tloss: 0.8589902\tbest: 0.8667930 (17)\ttotal: 49.5s\tremaining: 2m 46s\n",
            "33:\tloss: 0.8638144\tbest: 0.8667930 (17)\ttotal: 52.6s\tremaining: 2m 50s\n",
            "34:\tloss: 0.8634581\tbest: 0.8667930 (17)\ttotal: 55.8s\tremaining: 2m 53s\n",
            "35:\tloss: 0.8555398\tbest: 0.8667930 (17)\ttotal: 58.9s\tremaining: 2m 56s\n",
            "36:\tloss: 0.8612733\tbest: 0.8667930 (17)\ttotal: 1m\tremaining: 2m 54s\n",
            "37:\tloss: 0.8644264\tbest: 0.8667930 (17)\ttotal: 1m 1s\tremaining: 2m 52s\n",
            "38:\tloss: 0.8662105\tbest: 0.8667930 (17)\ttotal: 1m 3s\tremaining: 2m 50s\n",
            "39:\tloss: 0.8638685\tbest: 0.8667930 (17)\ttotal: 1m 5s\tremaining: 2m 50s\n",
            "40:\tloss: 0.8659525\tbest: 0.8667930 (17)\ttotal: 1m 7s\tremaining: 2m 50s\n",
            "41:\tloss: 0.8661122\tbest: 0.8667930 (17)\ttotal: 1m 11s\tremaining: 2m 53s\n",
            "42:\tloss: 0.8648147\tbest: 0.8667930 (17)\ttotal: 1m 14s\tremaining: 2m 55s\n",
            "43:\tloss: 0.8659623\tbest: 0.8667930 (17)\ttotal: 1m 17s\tremaining: 2m 57s\n",
            "44:\tloss: 0.8609465\tbest: 0.8667930 (17)\ttotal: 1m 20s\tremaining: 2m 57s\n",
            "45:\tloss: 0.8656699\tbest: 0.8667930 (17)\ttotal: 1m 24s\tremaining: 3m\n",
            "46:\tloss: 0.8633671\tbest: 0.8667930 (17)\ttotal: 1m 28s\tremaining: 3m 2s\n",
            "47:\tloss: 0.8556996\tbest: 0.8667930 (17)\ttotal: 1m 32s\tremaining: 3m 4s\n",
            "48:\tloss: 0.8599118\tbest: 0.8667930 (17)\ttotal: 1m 32s\tremaining: 2m 59s\n",
            "49:\tloss: 0.8614503\tbest: 0.8667930 (17)\ttotal: 1m 33s\tremaining: 2m 55s\n",
            "50:\tloss: 0.8632074\tbest: 0.8667930 (17)\ttotal: 1m 33s\tremaining: 2m 51s\n",
            "51:\tloss: 0.8613692\tbest: 0.8667930 (17)\ttotal: 1m 34s\tremaining: 2m 47s\n",
            "52:\tloss: 0.8627773\tbest: 0.8667930 (17)\ttotal: 1m 35s\tremaining: 2m 44s\n",
            "53:\tloss: 0.8651710\tbest: 0.8667930 (17)\ttotal: 1m 36s\tremaining: 2m 41s\n",
            "54:\tloss: 0.8631165\tbest: 0.8667930 (17)\ttotal: 1m 37s\tremaining: 2m 38s\n",
            "55:\tloss: 0.8646525\tbest: 0.8667930 (17)\ttotal: 1m 39s\tremaining: 2m 35s\n",
            "56:\tloss: 0.8664661\tbest: 0.8667930 (17)\ttotal: 1m 40s\tremaining: 2m 33s\n",
            "57:\tloss: 0.8640946\tbest: 0.8667930 (17)\ttotal: 1m 41s\tremaining: 2m 31s\n",
            "58:\tloss: 0.8654806\tbest: 0.8667930 (17)\ttotal: 1m 43s\tremaining: 2m 29s\n",
            "59:\tloss: 0.8654979\tbest: 0.8667930 (17)\ttotal: 1m 44s\tremaining: 2m 26s\n",
            "60:\tloss: 0.8577934\tbest: 0.8667930 (17)\ttotal: 1m 45s\tremaining: 2m 24s\n",
            "61:\tloss: 0.8622219\tbest: 0.8667930 (17)\ttotal: 1m 46s\tremaining: 2m 21s\n",
            "62:\tloss: 0.8629838\tbest: 0.8667930 (17)\ttotal: 1m 47s\tremaining: 2m 18s\n",
            "63:\tloss: 0.8608850\tbest: 0.8667930 (17)\ttotal: 1m 49s\tremaining: 2m 16s\n",
            "64:\tloss: 0.8638636\tbest: 0.8667930 (17)\ttotal: 1m 50s\tremaining: 2m 14s\n",
            "65:\tloss: 0.8653799\tbest: 0.8667930 (17)\ttotal: 1m 52s\tremaining: 2m 12s\n",
            "66:\tloss: 0.8628756\tbest: 0.8667930 (17)\ttotal: 1m 53s\tremaining: 2m 10s\n",
            "67:\tloss: 0.8655593\tbest: 0.8667930 (17)\ttotal: 1m 55s\tremaining: 2m 9s\n",
            "68:\tloss: 0.8630600\tbest: 0.8667930 (17)\ttotal: 1m 57s\tremaining: 2m 7s\n",
            "69:\tloss: 0.8642199\tbest: 0.8667930 (17)\ttotal: 1m 59s\tremaining: 2m 6s\n",
            "70:\tloss: 0.8647262\tbest: 0.8667930 (17)\ttotal: 2m 2s\tremaining: 2m 5s\n",
            "71:\tloss: 0.8617132\tbest: 0.8667930 (17)\ttotal: 2m 4s\tremaining: 2m 4s\n",
            "72:\tloss: 0.8596685\tbest: 0.8667930 (17)\ttotal: 2m 5s\tremaining: 2m 2s\n",
            "73:\tloss: 0.8633991\tbest: 0.8667930 (17)\ttotal: 2m 7s\tremaining: 2m\n",
            "74:\tloss: 0.8643575\tbest: 0.8667930 (17)\ttotal: 2m 8s\tremaining: 1m 58s\n",
            "75:\tloss: 0.8622072\tbest: 0.8667930 (17)\ttotal: 2m 10s\tremaining: 1m 56s\n",
            "76:\tloss: 0.8638832\tbest: 0.8667930 (17)\ttotal: 2m 12s\tremaining: 1m 54s\n",
            "77:\tloss: 0.8642175\tbest: 0.8667930 (17)\ttotal: 2m 13s\tremaining: 1m 53s\n",
            "78:\tloss: 0.8628904\tbest: 0.8667930 (17)\ttotal: 2m 16s\tremaining: 1m 52s\n",
            "79:\tloss: 0.8638365\tbest: 0.8667930 (17)\ttotal: 2m 19s\tremaining: 1m 51s\n",
            "80:\tloss: 0.8630231\tbest: 0.8667930 (17)\ttotal: 2m 21s\tremaining: 1m 50s\n",
            "81:\tloss: 0.8638488\tbest: 0.8667930 (17)\ttotal: 2m 24s\tremaining: 1m 49s\n",
            "82:\tloss: 0.8619491\tbest: 0.8667930 (17)\ttotal: 2m 27s\tremaining: 1m 48s\n",
            "83:\tloss: 0.8609538\tbest: 0.8667930 (17)\ttotal: 2m 30s\tremaining: 1m 47s\n",
            "84:\tloss: 0.8619885\tbest: 0.8667930 (17)\ttotal: 2m 32s\tremaining: 1m 45s\n",
            "85:\tloss: 0.8657362\tbest: 0.8667930 (17)\ttotal: 2m 33s\tremaining: 1m 43s\n",
            "86:\tloss: 0.8651587\tbest: 0.8667930 (17)\ttotal: 2m 35s\tremaining: 1m 41s\n",
            "87:\tloss: 0.8647458\tbest: 0.8667930 (17)\ttotal: 2m 37s\tremaining: 1m 40s\n",
            "88:\tloss: 0.8657289\tbest: 0.8667930 (17)\ttotal: 2m 39s\tremaining: 1m 38s\n",
            "89:\tloss: 0.8641757\tbest: 0.8667930 (17)\ttotal: 2m 42s\tremaining: 1m 37s\n",
            "90:\tloss: 0.8655691\tbest: 0.8667930 (17)\ttotal: 2m 45s\tremaining: 1m 36s\n",
            "91:\tloss: 0.8644903\tbest: 0.8667930 (17)\ttotal: 2m 48s\tremaining: 1m 35s\n",
            "92:\tloss: 0.8611455\tbest: 0.8667930 (17)\ttotal: 2m 51s\tremaining: 1m 33s\n",
            "93:\tloss: 0.8664194\tbest: 0.8667930 (17)\ttotal: 2m 54s\tremaining: 1m 33s\n",
            "94:\tloss: 0.8625144\tbest: 0.8667930 (17)\ttotal: 2m 58s\tremaining: 1m 32s\n",
            "95:\tloss: 0.8567072\tbest: 0.8667930 (17)\ttotal: 3m 2s\tremaining: 1m 31s\n",
            "96:\tloss: 0.8585921\tbest: 0.8667930 (17)\ttotal: 3m 2s\tremaining: 1m 28s\n",
            "97:\tloss: 0.8632271\tbest: 0.8667930 (17)\ttotal: 3m 3s\tremaining: 1m 26s\n",
            "98:\tloss: 0.8636670\tbest: 0.8667930 (17)\ttotal: 3m 4s\tremaining: 1m 23s\n",
            "99:\tloss: 0.8605188\tbest: 0.8667930 (17)\ttotal: 3m 5s\tremaining: 1m 21s\n",
            "100:\tloss: 0.8652054\tbest: 0.8667930 (17)\ttotal: 3m 6s\tremaining: 1m 19s\n",
            "101:\tloss: 0.8652324\tbest: 0.8667930 (17)\ttotal: 3m 6s\tremaining: 1m 16s\n",
            "102:\tloss: 0.8614306\tbest: 0.8667930 (17)\ttotal: 3m 8s\tremaining: 1m 14s\n",
            "103:\tloss: 0.8661516\tbest: 0.8667930 (17)\ttotal: 3m 9s\tremaining: 1m 12s\n",
            "104:\tloss: 0.8662302\tbest: 0.8667930 (17)\ttotal: 3m 10s\tremaining: 1m 10s\n",
            "105:\tloss: 0.8623989\tbest: 0.8667930 (17)\ttotal: 3m 12s\tremaining: 1m 8s\n",
            "106:\tloss: 0.8666775\tbest: 0.8667930 (17)\ttotal: 3m 13s\tremaining: 1m 6s\n",
            "107:\tloss: 0.8654192\tbest: 0.8667930 (17)\ttotal: 3m 15s\tremaining: 1m 5s\n",
            "108:\tloss: 0.8616395\tbest: 0.8667930 (17)\ttotal: 3m 16s\tremaining: 1m 2s\n",
            "109:\tloss: 0.8632344\tbest: 0.8667930 (17)\ttotal: 3m 17s\tremaining: 1m\n",
            "110:\tloss: 0.8646967\tbest: 0.8667930 (17)\ttotal: 3m 18s\tremaining: 58.9s\n",
            "111:\tloss: 0.8622293\tbest: 0.8667930 (17)\ttotal: 3m 19s\tremaining: 57s\n",
            "112:\tloss: 0.8643797\tbest: 0.8667930 (17)\ttotal: 3m 20s\tremaining: 55.1s\n",
            "113:\tloss: 0.8650383\tbest: 0.8667930 (17)\ttotal: 3m 22s\tremaining: 53.2s\n",
            "114:\tloss: 0.8634507\tbest: 0.8667930 (17)\ttotal: 3m 23s\tremaining: 51.4s\n",
            "115:\tloss: 0.8644386\tbest: 0.8667930 (17)\ttotal: 3m 25s\tremaining: 49.7s\n",
            "116:\tloss: 0.8633303\tbest: 0.8667930 (17)\ttotal: 3m 27s\tremaining: 47.9s\n",
            "117:\tloss: 0.8639520\tbest: 0.8667930 (17)\ttotal: 3m 29s\tremaining: 46.2s\n",
            "118:\tloss: 0.8634704\tbest: 0.8667930 (17)\ttotal: 3m 32s\tremaining: 44.5s\n",
            "119:\tloss: 0.8629592\tbest: 0.8667930 (17)\ttotal: 3m 34s\tremaining: 42.8s\n",
            "120:\tloss: 0.8616272\tbest: 0.8667930 (17)\ttotal: 3m 35s\tremaining: 41s\n",
            "121:\tloss: 0.8621851\tbest: 0.8667930 (17)\ttotal: 3m 36s\tremaining: 39.1s\n",
            "122:\tloss: 0.8637923\tbest: 0.8667930 (17)\ttotal: 3m 38s\tremaining: 37.2s\n",
            "123:\tloss: 0.8635711\tbest: 0.8667930 (17)\ttotal: 3m 39s\tremaining: 35.5s\n",
            "124:\tloss: 0.8627110\tbest: 0.8667930 (17)\ttotal: 3m 41s\tremaining: 33.7s\n",
            "125:\tloss: 0.8646893\tbest: 0.8667930 (17)\ttotal: 3m 43s\tremaining: 31.9s\n",
            "126:\tloss: 0.8646082\tbest: 0.8667930 (17)\ttotal: 3m 46s\tremaining: 30.3s\n",
            "127:\tloss: 0.8641044\tbest: 0.8667930 (17)\ttotal: 3m 48s\tremaining: 28.6s\n",
            "128:\tloss: 0.8604402\tbest: 0.8667930 (17)\ttotal: 3m 50s\tremaining: 26.8s\n",
            "129:\tloss: 0.8655273\tbest: 0.8667930 (17)\ttotal: 3m 53s\tremaining: 25.2s\n",
            "130:\tloss: 0.8629764\tbest: 0.8667930 (17)\ttotal: 3m 56s\tremaining: 23.5s\n",
            "131:\tloss: 0.8588452\tbest: 0.8667930 (17)\ttotal: 3m 59s\tremaining: 21.8s\n",
            "132:\tloss: 0.8633180\tbest: 0.8667930 (17)\ttotal: 4m 1s\tremaining: 20s\n",
            "133:\tloss: 0.8653307\tbest: 0.8667930 (17)\ttotal: 4m 2s\tremaining: 18.1s\n",
            "134:\tloss: 0.8626250\tbest: 0.8667930 (17)\ttotal: 4m 4s\tremaining: 16.3s\n",
            "135:\tloss: 0.8641142\tbest: 0.8667930 (17)\ttotal: 4m 6s\tremaining: 14.5s\n",
            "136:\tloss: 0.8657141\tbest: 0.8667930 (17)\ttotal: 4m 8s\tremaining: 12.7s\n",
            "137:\tloss: 0.8642150\tbest: 0.8667930 (17)\ttotal: 4m 11s\tremaining: 10.9s\n",
            "138:\tloss: 0.8653823\tbest: 0.8667930 (17)\ttotal: 4m 14s\tremaining: 9.14s\n",
            "139:\tloss: 0.8668692\tbest: 0.8668692 (139)\ttotal: 4m 17s\tremaining: 7.35s\n",
            "140:\tloss: 0.8611209\tbest: 0.8668692 (139)\ttotal: 4m 20s\tremaining: 5.54s\n",
            "141:\tloss: 0.8654315\tbest: 0.8668692 (139)\ttotal: 4m 23s\tremaining: 3.72s\n",
            "142:\tloss: 0.8639250\tbest: 0.8668692 (139)\ttotal: 4m 27s\tremaining: 1.87s\n",
            "143:\tloss: 0.8597398\tbest: 0.8668692 (139)\ttotal: 4m 31s\tremaining: 0us\n",
            "Estimating final quality...\n"
          ]
        },
        {
          "output_type": "execute_result",
          "data": {
            "text/plain": [
              "{'params': {'min_data_in_leaf': 150,\n",
              "  'random_strength': 5,\n",
              "  'depth': 10,\n",
              "  'iterations': 200,\n",
              "  'learning_rate': 0.05},\n",
              " 'cv_results': defaultdict(list,\n",
              "             {'iterations': [0, 199],\n",
              "              'test-AUC-mean': [0.7629785381761519, 0.8479992580187814],\n",
              "              'test-AUC-std': [0.02171828578558322, 0.01637364581443502],\n",
              "              'train-AUC-mean': [0.7640767779263223, 0.8720332624969892],\n",
              "              'train-AUC-std': [0.010971892756214597, 0.003172766745973225],\n",
              "              'test-Logloss-mean': [0.6691499939976799, 0.4104357804947922],\n",
              "              'test-Logloss-std': [0.0008737061014064334,\n",
              "               0.018047542771016015],\n",
              "              'train-Logloss-mean': [0.6689416305164967, 0.38319419460813486],\n",
              "              'train-Logloss-std': [0.0009895410636006161,\n",
              "               0.003676698767844807]})}"
            ]
          },
          "metadata": {},
          "execution_count": 31
        }
      ]
    },
    {
      "cell_type": "code",
      "source": [
        "cat_boosting_model = catboost.CatBoostClassifier(n_estimators=200, cat_features=cat_feat, verbose=False)\n",
        "\n",
        "cat_boosting_model.fit(X_train_origin, y_train)\n",
        "\n",
        "y_train_predicted = cat_boosting_model.predict_proba(X_train_origin)[:, 1]\n",
        "y_test_predicted = cat_boosting_model.predict_proba(X_test_origin)[:, 1]"
      ],
      "metadata": {
        "id": "sWFYSeSFBox9"
      },
      "execution_count": 33,
      "outputs": []
    },
    {
      "cell_type": "code",
      "source": [
        "train_auc = roc_auc_score(y_train, y_train_predicted)\n",
        "test_auc = roc_auc_score(y_test, y_test_predicted)\n",
        "plt.figure(figsize=(10,7))\n",
        "plt.plot(*roc_curve(y_train, y_train_predicted)[:2], label='train AUC={:.3f}'.format(train_auc))\n",
        "plt.plot(*roc_curve(y_test, y_test_predicted)[:2], label='test AUC={:.3f}'.format(test_auc))\n",
        "legend_box = plt.legend(fontsize='large', framealpha=1).get_frame()\n",
        "legend_box.set_facecolor(\"white\")\n",
        "legend_box.set_edgecolor(\"black\")\n",
        "plt.plot(np.linspace(0,1,100), np.linspace(0,1,100))\n",
        "plt.show()"
      ],
      "metadata": {
        "colab": {
          "base_uri": "https://localhost:8080/",
          "height": 428
        },
        "id": "KDg-MNJ9B98s",
        "outputId": "f5638314-e5f2-4225-85bf-e2373733be00"
      },
      "execution_count": 35,
      "outputs": [
        {
          "output_type": "display_data",
          "data": {
            "text/plain": [
              "<Figure size 720x504 with 1 Axes>"
            ],
            "image/png": "[encoded data removed]"
          },
          "metadata": {
            "needs_background": "light"
          }
        }
      ]
    },
    {
      "cell_type": "markdown",
      "source": [
        "# Предсказания"
      ],
      "metadata": {
        "id": "v3ocKA66-YQZ"
      }
    },
    {
      "cell_type": "code",
      "source": [
        "best_model = cat"
      ],
      "metadata": {
        "id": "5DcRaNiaxBHs"
      },
      "execution_count": 36,
      "outputs": []
    },
    {
      "cell_type": "code",
      "source": [
        "X_test = pd.read_csv('/kaggle/input/advanced-dls-spring-2021/test.csv')\n",
        "submission = pd.read_csv('/kaggle/input/advanced-dls-spring-2021/submission.csv')\n",
        "submission['Churn'] = best_model.predict_proba(X_test)[:, 1]\n",
        "submission.to_csv('./submission.csv', index=False)"
      ],
      "metadata": {
        "id": "HsZt5bhY-eru"
      },
      "execution_count": null,
      "outputs": []
    },
    {
      "cell_type": "markdown",
      "source": [
        "# Kaggle (5 баллов)\n"
      ],
      "metadata": {
        "id": "PojrhKABQm37"
      }
    },
    {
      "cell_type": "markdown",
      "source": [
        "Score \n",
        "\n",
        "![image.png](data:image/png;base64,iVBORw0KGgoAAAANSUhEUgAABloAAAB+CAYAAABMIMxhAAAMamlDQ1BJQ0MgUHJvZmlsZQAASImVVwdYU8kWnluSkJDQAqFICb0JIr1ICaFFEJAONkISSCgxJgQVe1lUcO0iihVdFVFwLYAsKiJ2F8XeFwsqyrpYUBSVNyEBXfeV753vmzv/PXPmP+XO3HsHAM1erkSSi2oBkCfOl8aFBzNTUtOYpKdAHWgBXUAEZlyeTMKKjY0CUAb7v8v7GwBR9FedFFz/HP+vosMXyHgAIOMhzuDLeHkQNwGAb+RJpPkAEBV6y6n5EgWeC7GuFAYI8RoFzlLi3QqcocSNAzYJcWyILwOgRuVypVkAaNyDemYBLwvyaHyG2EXMF4kB0BwOcQBPyOVDrIh9eF7eZAUug9gO2ksghvEA74zvOLP+xp8xxM/lZg1hZV4DohYikklyudP/z9L8b8nLlQ/6sIGNKpRGxCnyhzW8lTM5UoGpEHeJM6JjFLWGuFfEV9YdAJQilEckKu1RY56MDesHGBC78LkhkRAbQxwmzo2OUukzMkVhHIjhakGnifI5CRAbQLxYIAuNV9lslU6OU/lCazOlbJZKf5YrHfCr8PVAnpPIUvG/EQo4Kn5Mo1CYkAwxBWKrAlFSNMQaEDvLcuIjVTajCoXs6EEbqTxOEb8VxHECcXiwkh8ryJSGxansi/Nkg/liW4UiTrQKH8gXJkQo64O18LgD8cNcsMsCMStxkEcgS4kazIUvCAlV5o49F4gT41U8vZL84DjlXJwiyY1V2eMWgtxwhd4CYndZQbxqLp6UDxenkh/PlOTHJijjxAuzuaNjlfHgK0AUYIMQwARy2DLAZJANRK1ddV3wTjkSBrhACrKAADipNIMzkgdGxPAaDwrBnxAJgGxoXvDAqAAUQP2XIa3y6gQyB0YLBmbkgKcQ54FIkAvv5QOzxEPeksATqBH9wzsXNh6MNxc2xfi/1w9qv2lYUBOl0sgHPTI1By2JocQQYgQxjGiPG+EBuB8eBa9BsLni3rjPYB7f7AlPCW2ER4TrhHbC7Umi+dIfohwD2iF/mKoWGd/XAreBnB54MO4P2SEzzsCNgBPuDv2w8EDo2QNq2aq4FVVh/sD9twy+exoqO7ILGSXrk4PIdj/O1HDQ8BhiUdT6+/ooY80Yqjd7aORH/+zvqs+HfeSPlthi7CB2BjuBncMasTrAxI5j9dhF7KgCD62uJwOra9Bb3EA8OZBH9A9/g09WUUmZS5VLp8tn5Vi+YFq+YuOxJ0umS0VZwnwmC34dBEyOmOc8nOnq4uoKgOJbo3x9vWUMfEMQxvlvugVwj/uL+/v7G7/pIj8BcMgcbv/2bzrbK/A1Ad/TZ1fy5NICpQ5XXAjwLaEJd5ohMAWWwA7m4wo8gR8IAqFgNIgBCSAVTITRC+E6l4KpYCaYB4pACVgB1oINYAvYDnaDfeAAqAON4AQ4DS6Ay+A6uAtXTwd4CbrBe9CHIAgJoSF0xBAxQ6wRR8QV8UYCkFAkColDUpF0JAsRI3JkJrIAKUFWIRuQbUgl8ityBDmBnEPakNvIQ6QTeYN8QjGUiuqiJqgNOgL1RlloJJqATkCz0CloIboQXYaWoRXoXrQWPYFeQK+j7ehLtAcDmDrGwMwxJ8wbY2MxWBqWiUmx2VgxVopVYNVYA3zOV7F2rAv7iBNxOs7EneAKjsATcR4+BZ+NL8U34LvxWrwFv4o/xLvxrwQawZjgSPAlcAgphCzCVEIRoZSwk3CYcArupQ7CeyKRyCDaEr3gXkwlZhNnEJcSNxFriE3ENuJjYg+JRDIkOZL8STEkLimfVERaT9pLOk66Quog9aqpq5mpuaqFqaWpidXmq5Wq7VE7pnZF7ZlaH1mLbE32JceQ+eTp5OXkHeQG8iVyB7mPok2xpfhTEijZlHmUMko15RTlHuWturq6hbqP+lh1kfpc9TL1/epn1R+qf6TqUB2obOp4qpy6jLqL2kS9TX1Lo9FsaEG0NFo+bRmtknaS9oDWq0HXcNbgaPA15miUa9RqXNF4pUnWtNZkaU7ULNQs1TyoeUmzS4usZaPF1uJqzdYq1zqidVOrR5uuPVI7RjtPe6n2Hu1z2s91SDo2OqE6fJ2FOtt1Tuo8pmN0SzqbzqMvoO+gn6J36BJ1bXU5utm6Jbr7dFt1u/V09Nz1kvSm6ZXrHdVrZ2AMGwaHkctYzjjAuMH4pG+iz9IX6C/Rr9a/ov/BYJhBkIHAoNigxuC6wSdDpmGoYY7hSsM6w/tGuJGD0VijqUabjU4ZdQ3THeY3jDeseNiBYXeMUWMH4zjjGcbbjS8a95iYmoSbSEzWm5w06TJlmAaZZpuuMT1m2mlGNwswE5mtMTtu9oKpx2Qxc5llzBZmt7mxeYS53Hybeat5n4WtRaLFfIsai/uWFEtvy0zLNZbNlt1WZlZjrGZaVVndsSZbe1sLrddZn7H+YGNrk2yzyKbO5rmtgS3HttC2yvaeHc0u0G6KXYXdNXuivbd9jv0m+8sOqIOHg9Ch3OGSI+ro6Shy3OTYNpww3Ge4eHjF8JtOVCeWU4FTldNDZ4ZzlPN85zrnVyOsRqSNWDnizIivLh4uuS47XO6O1Bk5euT8kQ0j37g6uPJcy12vudHcwtzmuNW7vXZ3dBe4b3a/5UH3GOOxyKPZ44unl6fUs9qz08vKK91ro9dNb13vWO+l3md9CD7BPnN8Gn0++nr65vse8P3Lz8kvx2+P3/NRtqMEo3aMeuxv4c/13+bfHsAMSA/YGtAeaB7IDawIfBRkGcQP2hn0jGXPymbtZb0KdgmWBh8O/sD2Zc9iN4VgIeEhxSGtoTqhiaEbQh+EWYRlhVWFdYd7hM8Ib4ogRERGrIy4yTHh8DiVnO7RXqNnjW6JpEbGR26IfBTlECWNahiDjhk9ZvWYe9HW0eLouhgQw4lZHXM/1jZ2SuxvY4ljY8eWj30aNzJuZtyZeHr8pPg98e8TghOWJ9xNtEuUJzYnaSaNT6pM+pAckrwquT1lRMqslAupRqmi1Po0UlpS2s60nnGh49aO6xjvMb5o/I0JthOmTTg30Whi7sSjkzQncScdTCekJ6fvSf/MjeFWcHsyOBkbM7p5bN463kt+EH8Nv1PgL1gleJbpn7kq83mWf9bqrE5hoLBU2CViizaIXmdHZG/J/pATk7Mrpz83ObcmTy0vPe+IWEecI26ZbDp52uQ2iaOkSNI+xXfK2ind0kjpThkimyCrz9eFP/UX5Xbyn+QPCwIKygt6pyZNPThNe5p42sXpDtOXTH9WGFb4ywx8Bm9G80zzmfNmPpzFmrVtNjI7Y3bzHMs5C+d0zA2fu3seZV7OvN/nu8xfNf/dguQFDQtNFs5d+Pin8J+qijSKpEU3F/kt2rIYXyxa3LrEbcn6JV+L+cXnS1xKSks+L+UtPf/zyJ/Lfu5flrmsdbnn8s0riCvEK26sDFy5e5X2qsJVj1ePWV27hrmmeM27tZPWnit1L92yjrJOvq69LKqsfr3V+hXrP28QbrheHlxes9F445KNHzbxN13ZHLS5eovJlpItn7aKtt7aFr6ttsKmonQ7cXvB9qc7knac+cX7l8qdRjtLdn7ZJd7Vvjtud0ulV2XlHuM9y6vQKnlV597xey/vC9lXX+1Uva2GUVOyH+yX73/xa/qvNw5EHmg+6H2w+pD1oY2H6YeLa5Ha6bXddcK69vrU+rYjo480N/g1HP7N+bddjeaN5Uf1ji4/Rjm28Fj/8cLjPU2Spq4TWSceN09qvnsy5eS1lrEtraciT509HXb65BnWmeNn/c82nvM9d+S89/m6C54Xai96XDz8u8fvh1s9W2sveV2qv+xzuaFtVNuxK4FXTlwNuXr6GufahevR19tuJN64dXP8zfZb/FvPb+fefn2n4E7f3bn3CPeK72vdL31g/KDiD/s/ato9248+DHl48VH8o7uPeY9fPpE9+dyx8Cntaekzs2eVz12fN3aGdV5+Me5Fx0vJy76uoj+1/9z4yu7Vob+C/rrYndLd8Vr6uv/N0reGb3e9c3/X3BPb8+B93vu+D8W9hr27P3p/PPMp+dOzvqmfSZ/Lvth/afga+fVef15/v4Qr5Q78CmCwoZmZALzZBQAtFQA6PLdRxinPggOCKM+vAwj8J6w8Lw6IJwDVsFP8xrObANgPm81cyA2b4hc+IQigbm5DTSWyTDdXJRcVnoQIvf39b00AIDUA8EXa39+3qb//yw4Y7G0AmqYoz6AKIcIzw9YABbpukFgPfhDl+fS7HH/sgSICd/Bj/y88Oo/hSkXmKwAAAIplWElmTU0AKgAAAAgABAEaAAUAAAABAAAAPgEbAAUAAAABAAAARgEoAAMAAAABAAIAAIdpAAQAAAABAAAATgAAAAAAAACQAAAAAQAAAJAAAAABAAOShgAHAAAAEgAAAHigAgAEAAAAAQAABlqgAwAEAAAAAQAAAH4AAAAAQVNDSUkAAABTY3JlZW5zaG902upWBAAAAAlwSFlzAAAWJQAAFiUBSVIk8AAAAddpVFh0WE1MOmNvbS5hZG9iZS54bXAAAAAAADx4OnhtcG1ldGEgeG1sbnM6eD0iYWRvYmU6bnM6bWV0YS8iIHg6eG1wdGs9IlhNUCBDb3JlIDYuMC4wIj4KICAgPHJkZjpSREYgeG1sbnM6cmRmPSJodHRwOi8vd3d3LnczLm9yZy8xOTk5LzAyLzIyLXJkZi1zeW50YXgtbnMjIj4KICAgICAgPHJkZjpEZXNjcmlwdGlvbiByZGY6YWJvdXQ9IiIKICAgICAgICAgICAgeG1sbnM6ZXhpZj0iaHR0cDovL25zLmFkb2JlLmNvbS9leGlmLzEuMC8iPgogICAgICAgICA8ZXhpZjpQaXhlbFlEaW1lbnNpb24+MTI2PC9leGlmOlBpeGVsWURpbWVuc2lvbj4KICAgICAgICAgPGV4aWY6UGl4ZWxYRGltZW5zaW9uPjE2MjY8L2V4aWY6UGl4ZWxYRGltZW5zaW9uPgogICAgICAgICA8ZXhpZjpVc2VyQ29tbWVudD5TY3JlZW5zaG90PC9leGlmOlVzZXJDb21tZW50PgogICAgICA8L3JkZjpEZXNjcmlwdGlvbj4KICAgPC9yZGY6UkRGPgo8L3g6eG1wbWV0YT4K2OLlFgAAABxpRE9UAAAAAgAAAAAAAAA/AAAAKAAAAD8AAAA/AAAstg23cgQAACyCSURBVHgB7J0JvFXj+sef05xKdNG9uFLK0KBUQkiX5EpJKiUJFeL63wiVMruVkjIkM5Exs5CpJBkaTRXRJBkSiqbT/H9/77FWa6+z99n7NNA5fZ/P55y11rveNX332sN6fu/zPFkbN27cZBgEIAABCEAAAhCAAAQgAAEIQAACEIAABCAAAQhAAAIQgEC+CWQhtOSbGRtAAAIQgAAEIAABCEAAAhCAAAQgAAEIQAACEIAABCAAAU8gX0LLpk0Ev3DfQAACEIAABCAAAQhAAAIQgAAEIAABCEAAAhCAAAQgAIGAQNaGDRtQTwIaTCEAAQhAAAIQgAAEIAABCEAAAhCAAAQgAAEIQAACEIBAPghkrZfQQqRKPpDRFQIQgAAEIAABCEAAAhCAAAQgAAEIQAACEIAABCAAAQjkEMhav379Zpll8xx8IAABCEAAAhCAAAQgAAEIQAACEIAABCAAAQhAAAIQgAAE0hDIWrduXY68gsiSBhWrIQABCEAAAhCAAAQgAAEIQAACEIAABCAAAQhAAAIQgEAigaw1a9eSOiyRCUsQgAAEIAABCEAAAhCAAAQgAAEIQAACEIAABCAAAQhAICMCWdnZ2ZuCnuFM0BCdEvESpcE8BCAAAQhAAAIQgAAEIAABCEAAAhCAAAQgAAEIQAACELCslatW5egraYSUPEUYQEIAAhCAAAQgAAEIQAACEIAABCAAAQhAAAIQgAAEIACBnZBA1vLly72GEgopaQSXnZARlwwBCEAAAhCAAAQgAAEIQAACEIAABCAAAQhAAAIQgAAEkhLI+vXXXzdJWwmFFnVDbEkKi0YIQAACEIAABCAAAQhAAAIQgAAEIAABCEAAAhCAAAQgECWQtX/lqgkay0eTJvn1FfesEO3HPAQgAAEIQAACEIAABCAAAQhAAAIQgAAEIAABCEAAAhCAQIwAQksMCIsQgAAEIAABCEAAAhCAAAQgAAEIQAACEIAABCAAAQhAIFMCCC2ZkqIfBCAAAQhAAAIQgAAEIAABCEAAAhCAAAQgAAEIQAACEIgRQGiJAWERAhCAAAQgAAEIQAACEIAABCAAAQhAAAIQgAAEIAABCGRKAKElU1L0gwAEIAABCEAAAhCAAAQgAAEIQAACEIAABCAAAQhAAAIxAggtMSAsQgACEIAABCAAAQhAAAIQgAAEIAABCEAAAhCAAAQgAIFMCSC0ZEqKfhCAAAQgAAEIQAACEIAABCAAAQhAAAIQgAAEIAABCEAgRgChJQaERQhAAAIQgAAEIAABCEAAAhCAAAQgAAEIQAACEIAABCCQKQGElkxJ0Q8CEIAABCAAAQhAAAIQgAAEIAABCEAAAhCAAAQgAAEIxAggtMSAsAgBCEAAAhCAAAQgAAEIQAACEIAABCAAAQhAAAIQgAAEMiWA0JIpKfpBAAIQgAAEIAABCEAAAhCAAAQgAAEIQAACEIAABCAAgRgBhJYYEBYhAAEIQAACEIAABCAAAQhAAAIQgAAEIAABCEAAAhCAQKYEEFoyJUU/CEAAAhCAAAQgAAEIQAACEIAABCAAAQhAAAIQgAAEIBAjgNASA8IiBCAAAQhAAAIQgAAEIAABCEAAAhCAAAQgAAEIQAACEMiUAEJLpqToBwEIQAACEIAABCAAAQhAAAIQgAAEIAABCEAAAhCAAARiBBBaYkBYhAAEIAABCEAAAhCAAAQgAAEIQAACEIAABCAAAQhAAAKZEkBoyZQU/SAAAQhAAAIQgAAEIFCACGzctMk2bNhgGzdutA0bN9kmN1XbJvcn6z5rkJUuWtL2LVXxj6vKsoPKVbKDd93fKpXd28oWK/1HOxMIQAACEIAABCAAAQhAAAIQyIsAQktedFgHAQhAAAIQgAAEIACBAkRAwsq69Rts/R8CS16nLqElL5MAc2DZSlavwsFWfbcD8urKOghAAAIQgAAEIAABCEAAAjs1AYSWnfrl5+IhAAEIQAACEIAABAo6AUWorFu33tauX++jVzK9nnRCS3Q/El2a7HWE1d+jupUh0iWKhnkIQAACEIAABCAAAQhAAAKG0MJNAAEIQAACEIAABCAAgQJIQALL2nXrbO3adZaTDCx/F5EfoSXYs1KNnbDnEfbvvRsiuARQmEIAAhCAAAQgAAEIQAACOz0BhJad/hYAAAQgAAEIQAACEIBAQSMggWWNBJY/6q2kOv+iRYta0SJFrGjRIlYkq4hlFcmyrCz398cGKzdk28KVP7j6LZtsydqltnDFjzZ7xQL7LvunVLv07RWKl7d2+za1BnvWzLMfKyEAAQhAAAIQgAAEIAABCOwMBBBadoZXmWuEAAQgAAEIQAACECgUBDa4gvZr1qz1NVhSXVDxYsWsWLGi7q9YKKik6puqXQLMrGVzbeKST+yz379K1c1q73qgnbn/yVaxVIWUfVgBAQhAAAIQgAAEIAABCECgsBNAaCnsrzDXBwEIQAACEIAABCBQKAisdXVYstesSXotilIpUby4+3PiipvflrYke6lNWDzdxi6ZZKs35j6+0omdW6mlNdijxrY8LPuCAAQgAAEIQAACEIAABCBQYAggtBSYl4oThQAEIAABCEAAAhDYWQlkuygWpQtLZiVLlLCSJYonW7VN21a5KJcxi963VxZPSLrftnufaM32PSbpOhohAAEIQAACEIAABCAAAQgUZgIILYX51eXaIAABCEAAAhCAAAQKPIHV2Wts3fr1ua5DKcJKlizhaq+kjmDZsGGDrV271tY5kUZ/Wt7o0o8FtV0U/VLE13ApasVdRIz+SjjhRrVdUtlPLsLlgbnP29crF+bqcuTuh9qF1VrnaqcBAhCAAAQgAAEIQAACEIBAYSaA0FKYX12uDQIQgAAEIAABCECgQBNY5USW9UlEllIlS/o0YckuTkLK6tWr/Z/ElS0xCS6lS5f2fxJiktmY7963Ud+9mWtVtTKVrE+NzrnaaYAABCAAAQhAAAIQgAAEIFBYCSC0FNZXluuCAAQgAAEIQAACECjQBJJFshQpkmWlS5ZyESe5xQ9Fq6xcudL/bcsLL1OmjOkvWZTLghXf26DZI2z1hsTaLUS2bMtXgH1BAAIQgAAEIAABCEAAAjs6AYSWHf0V4vwgAAEIQAACEIAABHY6AslqshR1kSWlS5dKmipsxYoVtnz58u3KqVy5cla2bNlcx1iw8gefSuy77J8S1p1S8VhrU6lJQhsLEIAABCAAAQhAAAIQgAAECiMBhJbC+KpyTRCAAAQgAAEIQAACBZbA2nXrLXtNYoSIRJZdnMiimipRU2qw3377zddfibZvr3mlFCtfvryv5RI9xsr1q23ArIcsLracU+lUa1yxXrQr8xCAAAQgAAEIQAACEIAABAodAYSWQveSckEQgAAEIAABCEAAAgWVwAZXX2XlqtUJp690Ybu4einxoveqw7Js2bKEvn/Wwm677ebrt0SPp8iWQV8+nCuN2M2HdreKpSpEuzIPAQhAAAIQgAAEIAABCECgUBFAaClULycXAwEIQAACEIAABCBQkAmsWp1t612tlaiVcSJLvCaLarH8/vvv0W5/+vyuu+7qa7dED+xrtnzparZs3ByRU63MftanRpdoN+YhAAEIQAACEIAABCAAAQgUKgIILYXq5eRiIAABCEAAAhCAAAQKKoG1Lg2YarNErVTJklaieLFoky92/1eLLMEJJRNbxi+eZo9883LQxU8vqtzWGuxZM6GNBQhAAAIQgAAEIAABCEAAAoWFAEJLYXkluQ4IQAACEIAABCAAgQJLYNOmTbbCpQzTNLDixYpZ6VIlg0U/3Zp0YfPmzbNp06b5+ir77befLV261Na4WjCrVq2yfffd1xo0aGBFXC2Y/FqyNGL9Zz5oX69cGO6qQvHydmOti6xMsdJhGzMQgAAEIAABCEAAAhCAAAQKCwGElsLySnIdEIAABCAAAQhAAAIFlsCatWttzdp1CedftswuCXVZVPj+559/TuiTycKSJUts1qxZVrFiRatfv75peY899rDs7GxbsWKFbXR1YaZPn24zZsywOnXq2GGHHWalSpXKZNdhH+2vePHi4fJP2Uut12e3hcuaaV7xWGtdqUlCGwsQgAAEIAABCEAAAhCAAAQKAwGElsLwKnINEIAABCAAAQhAAAIFloCPZlm5yjbHspiVLFHC/W0WLnRxElkktuTHFi9e7AWUjh07+u1/+uknq169uq/vsmDBAvvxxx/tb3/7m5Vwx1M0y3vvvWczZ860Pn365OcwXmSR2BK1574Za68snhA2lS5a0u6qe5VlZWWFbcxAAAIQgAAEIAABCEAAAhAoDAQQWgrDq8g1QAACEIAABCAAAQgUWAJrXSRLtotoCUxCRDkXzRI1RZ4sX7482pR2fv369fbVV19ZvXr1TOm9NmzY4KNXlCps0aJFtmzZMi+yqN6L1uu43377rY94+eWXX6xVq1ZpjxHtUK5cOStbtmy0yS6e2t9Wb1wTtp3zzxbW+B/1w2VmIAABCEAAAhCAAAQgAAEIFAYCCC2F4VXkGiAAAQhAAAIQgAAECiwB1WZR+q7A4tEsEkgUiZIfU+2VwYMHW7t27axu3bpeRJHAohovn3/+uY9ukcBy3HHH+WiUlStX+lRiOoYEmiFDhtjAgQOtfPny+Tms7bXXXla0aNFwm5HzXrVxP08Ol6uV2c/61OgSLjMDAQhAAAIQgAAEIAABCECgMBBAaNlOr+Iq98B89z332vz58/0ROp3d0RUYPTzl0da7B+ixb4+1555/wWbPnm0LF35rNWvWsFq1atlJTU90D8GNkm47ePAQW/DNN0nXpWps6vZ3aovmuVZr5OLYce/Y9GnTbfKUqT6lxBFHNLB67uG8UaNjrWrVA3JtQ8OOS2DOnLnufnrepQuZ6e6nhfbLL79a5cr7u9exqh1wQBVrdVpL22effXbcC+DMCgyB/v1vtu9/+CE83+rVD7GLL+oWLkdn5s2bb7fdfkeCQ1HrGx51lHXo0D7alXkIQAACOwUBiSgrV2cnXKuiWaLptSSISAjJ1JSKbNSoUb4ey7hx4+zwww+3tS5iZu+997Yf3Oe1BBcJO0pD9ttvv9nBBx9sxYoVM0WkqG6LRB39HlWtFtVsyY+VKVPGdt1113CTJa5WS89YrZbrql9g+5flN0gIiRkIQAACEIAABCAAgQJFQL/hX3ttjL308mj7+uuvvc/twAOrWe3ah9r5Xbv4391bc0Fffz3HpfSdaNNcHcVJkyb739cNDq9vdevVtSYnHG8VKlTYot1/8cWX1vaM9v7Z4pRTmtmVV15ulfbbL899LVr0nT355FM28f0PbO7cub6WY506ta32oYdap04dMx6YlV9fuZ5pJk58P2Tw+ecz3PNJHTuiQQPvY8/Lz57nBW3HlQgt2wHu5MlT7MqevbxYEux+QP//Wfv27YLFhKlElksv7WGvvvpaQnt04Yy2baxv36sSHly1vuVpre2zzz6Ldk07Lweo3khR0xu40znn+Tzd0fbo/L33DDeJNNiOTWDx4p+sZ6/eNmHCe2lP9IILulq3Cy+w3XffPW1fOkAgFYGjGh6b8NnRuPFx9vBDD+TqLmdeq9PbhgJ00OHvf/+7jX75BV+YOWhjCgEIQGBnIZC9Zq2tjdRdKe4Ej9KlSoaXL0FEdVYyNaUXU52Vk08+2X+/T5o0yUew6LO2SpUqXkTRoIsXX3zRf3afeuqp/kFNQosEHQ3OWLJkiU8zJnGmQ4cOmR467FexYkVf7yVoGPrl4/bZ719ZrXLV/F/18lVsn3J7BquZQgACEIAABCAAAQhAoMAQWLp0mZ17Xpc8/bE339zf2p3Rdouuaczrb9jFF1+Sclv9rn9s5CN+EHXKTklWyP/cqlVrPyA7WP2y88XUqlkzWMw1/fjjT+z01qmvQ7UeB98y0OQHysu2xFd+zTXX2VNPPZ1yt/+5+CK7/PLLEgaopez8J61AaNmGoDU68JbBt9qIEY/m2msqoUUPz716X2XPPvt8uI3eMHXrHuYVUQkggdV3+bVHjXoy4Qa67vobbbpTN9OZohoCiwstn376mZ3VsVM4UlLHP/LII6yMG005bdrH9uWXXwab2qBBN1vbNq3DZWZ2LAL6ADz/gm5OSf8l4xPbb79/2osvPO+cMbtlvA0dIRAlkInQoi/089wPEY1GiNvrY16xgw46KN7MMgQgAIGdgkA8bZhEFoktgSmSRQJIOtNvyi+++MKLKi1btvSj6EqVKuUjVu666y6rVq2aH32mgvf6zNVUUTMScSpVquRrtCjdmEap/fjjjz6iZcaMGdajRw9fxyXd8aPrFdGiyJbAflz1s2WtK2Kli+YISDp22V1KB6uZQgACEIAABCAAAQhAoEAQUBre9md2TBBZjjnmaJ8FaOrUaQkixvDhw+zkf5+Ur+tS5EifvteE2yjyvF69w5zPdpV99NGkcJCrfms//dQTVqNG9bBvuplHHnnUrr/hpoRueQktM2fOsnbtO4T+Ym2oa9UArfHj303Yj4Sfo49umNCmhS3xlSvq/rIeVyQEJOi4BxxwgM2aNcumuCxMgXXqdLbdcP21weJfPkVo2UYvgUKvOnc5P7zhtVupecGNl0poGTZsuN06ZGh4Fs84IaV+/c0FQpVmRyKIHnhlw++6041Q/HfYP9OZLu7cxr0z3nd/8onHvJASbNu2bXubOm2aX1TUzU033WDFIrm1o29yiTAffpA+UiLYN9M/j4AiWU5o0jThAzDToytt0yOPPOQ/LDPdhn4QCAhkIrToy1xf6nFT5Eu6kQ/xbViGAAQgUFgIbHTh8CvcQ1PUypUtY1mRhp9//tmn+Io05ZqVyDJ06FD3edrYF6Nv2LChF1GKFy9uI0eOtG+++cZHRSt1WE03Yk1CSIkSJXy9lgkTJlizZs38PiW8aICNhB1tqwcZPeiozkt+TNvuscce4Sab3NzyFSvDZc2UdQN6irjjYRCAAAQgAAEIQAACECgoBB548CHr12+AP11Fc7z80vNhmjCluho58jHToHiZxJDJkz60XTIcYKQsIHUO2+wTHjhwgCnDUWCqo3hVn77hYH35cOVvzsS+++47O+bYxrm6phJaFLVzbKPGoY/xNFd+oN//bgqvRZHv99xznw297Xa/z2rVqrpUaq8k+JO31Ff+vCurcfkVPf1+NThcgpL80YFJADrn3M7hIPPx77ztB44F6//KKULLNqI/8rHH7dprr/d7k9N6wIB+NnPmTLv4P//n2252y+3anZFwND24Hlb38PCmHfX0ky6H9uY3VNBZD8enNG/p++nG0g1UsmTOiMCgT17TaJiXIlUktASmB+nader5Rd28498Z6x/Mg/XBtHfvPvb0qGf84ltvvk69lgDMDjLVh7nCFpOlC9M91eSEE1yUVB379delLlXIS6YwxLj16dPb55GMt7MMgXQE0gktTzzxlPW9evOIjGB/115ztYtyOSdYZAoBCEBgpyOwzj0src5eE163isiXKV0qXFbuZ9VLSWVK8fXOO++4XNC1vbAhceONN97wdVhat27to1b0e1RCzAsvvGA9e/b0he532WUX23fffX3Reo1I+/XXX73wUrZsWZ/eUenD9CAXRLacc845XsBJdR7J2vfaay+//2Cd6tDoegKLR+4E7UwhAAEIQAACEIAABCCwIxJQNMvhDY4K/bhvvjHGRY1XzXWq8g/LTyy75uq+1rnzuX4+3T8NkNdAedlZZ51p/7spR7CJbif/X8OjG/nf6RJyPvt0ekLK3mjf6HzX8y+0sWPH+aaTTmrqnhne9POphJZHJRhdd4Pvc4KrCXPP3XclHZwt0Unikyzu+94SX7n2c9ZZneyDDz/UrKtn/qZLf1zZz0f/ve/qxXQ8O8ef1L/fTXbmmTtGzV+EluirtBXzwc2jN8GZZ7bzN/mYMa/nKbRIgWveoqU/qkKgRj46IuUZDBx0i1cK1SG/I8Cl8gUO+KeefNxU4D6wOXPm2olNcyJklDtQOQSTmZzzCtuSbU2ewWT7pm3rCUTFtOjeFD6nMLq4KVWd6ghF7VBXxOqlF5/zTVofTRkX7ZfXfIsWzX3hr2XLfrNhw+5K6NqxYwevML/uRJ5p06bbTDdKdvfddrPqLsyxbZs2VrHiXmF/FcgaOvQ20xdIYCqwfvrprYLFcKp7OJ6zUYJikyYn2OjRr5hS4wVWs1ZNO63lqcGin0phf+65zan71Ni2bWufVuX777+3hx4a4fsF/xo2PMqOP/5fwaKfin+8xlLLli2sVq1aPoXLSy+NDvur0HD37jkCbNC4YsUKu+22O4JFP1VRr6AmkoqfjXnt9XB9hb9VyFVsXs6wBx7I+XILOvbocVk42iBo03Tu3Hmmc/56ztfudZ7tP6/23Wcf/wNBr2F+a/bkJbToy1FfknFL9aMh2u+TTz61N998yxZ++613NCpMtPahtaxGzRp2yB+Fm6P94/MaDTL6lVed6D3LFi1aZCXcCGuly1GBOv1Q0GsRN40c16iMqF12WfeEFDhap8/kdWvXhd3atDndF5NWw9bed+FO/5hRKp958+b7ND5KJ6nlZLZ/5f2t41kdkq2iDQIQ2EEJrHEjwdZEPkv0OVWqZInwbPUwt2zZsnA5OqOBOJ988omdffbZ/jNKIsann37qBRMVx1TaMNVr2XPPPW3OnDmu1l9f69Wrl1WuXNlKly7tB9YoskX7L1++vN+1vneVfkzfKRqllp2d7X8P6Huqe/fu0cOnnd/NfcfrOIHFa9GULFHcSrqoGgwCEIAABCAAAQhAAAIFgcC7707wg5x1rq1anWZDbr0l6Wn/8MMPXgzRyqivLWnnSKN8W1f1udq3DB0y2BRFksyig+FTCRHR7aL+aflilI5M9U9kqYSWCy68yN56623f59lnn7Z6dev6+fi/aBROTeerGf3yi2GXLfGVa+P6hx/po1Xyyqqk55RDqtfyx2rW7GS7a1iiTy08iT95BqFlGwFXQfoKFf7mRgfuE+4xeiPHVT11kpIoRVHWs+cVdlG3nHnfEPunFGTnde7qW//730vssksze9iVg7ZNm5x0D/FoFu1MIxjr1T/C7zdVAWutvPfe++3mgYN8P6mYUj+xHYdAsrRMcvzeMmhgypPsdtF/QgU76PTRh+97wePMDh197segPdNp8EWgmkAtTj0tYbMHH7zfnn3m2aTRNOqoc9U5y+QsOuLIo8MwQLUpJHPqlI80m2B33DEsDFUMVgRiZPSLQeviYqIcSq3bnOFFh2BbTR984D4vpqiuSLNmzV29pM21knQeE959JxQwdK7NW5yWIEzl9Bnn+uzi02VFc2Am+6K4dchtuYSpCy7oalf1zhHD4nk0k+1DglGzU1pEL8Pen/huGMKqFbqeu4ffY0OciJWXqY7TFVf0SBrdlmy7VEJLNBovul26VHWqR6DPRuUfTWWHHVbH7r/vnpR1AyR2/Lf7Zak299spxPbEE5sk9IkK4MEKvd7//Oe+waKfVq5SLWH59tuH2qlOpJJt7X0X3XH0h1a0Pdl8o0bH2iMjEsW2ZP1ogwAEdhwCq1w0iyJHAotHeSjyWJ+JcVPb4MGD7e677w4/q7UfRUsrKkaRLkoNpkgWRblIgLnxxhvdCLku/vNvHyeu6wFQESx60Jo3b55vl9gsUUUizYIFC/w+JLgMGDDARowYkUt0jp9XdFkj7CTkBBaP3lEkzS6uHg0GAQhAAAIQgAAEIACBgkBg8OAhdtfwu/2pBn6nVOcd9at9/tnHGUWHa6Dphd0u9ruUP0h+oWQWHVAvP5l8UKlMQsgJTU7y/jX1G/v2G35Aajqh5eRmLUI/1+wvZ/rnglTHkP9PfkDZzBmfhf6yLfGVax+vu2ibjc5/pQFjyTI/qY8GaNeoeahm8xS9fIc/8R9Cy3aEnU5oGTfuHevS9QJ/Br16XmnduuXMJzulaEhUfpS6szudGxafVk47jZKP23GNj7eFC7/1zcny2ulhvo2r4xJEOHzw/gT7xz/+Ed8Ny38hgZq16uRyxMyc8al39Kc6LSnx9933QMJqCX61ax9q0S+EhA5pFvISWuTICe6hVLu5wzmrFVEhGzTIOZDuuTeha7KwzJantU4oQibHzsfTp/jc8ukc3q+4aIf/+++lCcfQQiC0aP79D1w4YsfE9FbRL7yXnUO/e8yhP3TorWHkTDqR5NtvF1mj4xIjZHTc7SG0RD8PdIy87D8XX+TFlrz6BOuSCS23OQatTm/rU9AE/TRVisKXX3ohHD0dXad5RWt07nx+GCYaXx9dluCkgmsHHFAl2mxRYTphRZKFeBjvnyG0ZHLfScC7smdvl+pn82iQJKef0ITQkoCDBQgUCAIr3QPCBieGBFbGRYAULVokWPQPRBI64jZ79myrXr26KT2XBBNFtowfP95HJB5++OE+IlTRLBL8x4wZ46NW9Jmp32/a5sADD/SDGvQbTw9c+uzV545qtGgQggQbCTfax+LFi13k53MudcB1tv/++8dPJeWyhJ7oQ9+GDRttpYvQCaxokSJWJsN81cE2TCEAAQhAAAIQgAAEIPBXEYj6yr6aPcv7nVKdiwraq+a1LJU/Nr5ttI6KokO0nX7PR03ZLlSfWSb/yrvjx0VX55q/+ppr7fHHn/TtivqQT/mxx59IG9ESFVrSXevprduGA5jHvDY6zPaR62RcQzpfebJtkrVF/T47UikEhJZkr9Y2akt380QdenlFk+h0NAL9zjtzUjFpNPjjjz+a9iynTp1qbc840/fLa5uoo1hO6ttvG2L169fzoxlnzfrCNBpfKqQsk3Q/viP//jQCSitSvUaOihscVGlBxo3NybcYtOVnGv3yyM92eQktmexH95+iMJTCJPr+CLaN1/TQyFvlx4yaUqUpZZosL6FF3I4/oalPjxLdXvNRoUXL8f0E56mUKMc1PiFhH4q0ePaZp8McmemElkv+r3uutGP+mNs4oiUq1mr/gdWvV89+cZFt8+fPD5rC6cT3xptGPaezuNAiZ55SkU2dNi1hU3F7ZfSLKR11iri55JL/5oq0SthJbCEeqRf93It21Q8Q1baKRicF66MRK8nuu+j6YJstjWjJ9L7TZ65ExPwYQkt+aNEXAjsGgeUrVyWkyYwXiFd9FgkgcfvWpVT8wA0EkDCiyBOZ0iFKJJF4ooc0RaZIQCniBI1q1ar5ApISWBTNrHalY9TnoqJO9H2mCBNtE0ShzJ0716dtVBoxbdO0aVOfEtMfLIN/iqyRqBPYRnduK9z1BqZzL1cm8cExWMcUAhCAAAQgAAEIQAACOxoB+ZDkO5FvY8bnn+R5esPvvsduueVW3+dulxno3xlmBooKNEo7dv1117gBVof4lL5Tpky1Sy+7PBxoHR2snOxkov6R4//V2JRpRpaJ0BL1gz3/3DMmX1cyi6YO0/pnRj3pfMq5648H26bzlQf98prqWUZCUODH2pFqiSO05PXKbeW6dDePRijWrdcgfIM888xTJqdn3JR+p/G/Nqe3iee8i/cPlqPFg0Y9/WTKcCv1V2TDgJtTp5lSHxUWuubqPgn5ttWO/bUEFI2kqKSotTy1hav5MSTalK95OYOVbiRqEhR++eWXsOnKKy+3c2L1X+SwkaNGIYPx1GHaUGmaerh6F/vtV8lFWk20HpdfGd7/wY6jKcSCL7FgXdyRnCw9VPRDPfrFoH1EU4cpWkZRM8ksLrTE34PaRin8NFI3KA4W7Ed1bvRlGFheQks0tV/QP5hu64iW6OeBjiEx5NVXXnIpDyv4Q6oWzU3/6xcc3k+H33WnnXxyTg2nhBWxhbjQElsdLj7x+Eg76qgjw+X4zGuvjbH/OKElamKs16OWq68ze/ZXPoVhUHMq6Ddt6qTwOuL3jH4APeGE6eA1mTNnrrU/86yEezkaJbi9hZZM7zsJ6/EUb3rPneQcnXvvnRNReO9999vtt98ZYLD4+yNcwQwEILDDEvh9RWJasHJly1hW5Gwlckg8ya/pN+awYcO8UCKhRQMwZsyY4UP+FdUiEaRq1aq+dppEmSZNmrjo5oW2dOlSL4ZrvmLFij6Spa7Lx6wImpo1a7rfkrkjo1Odm4QUfdcEpqtYHrveXd31YhCAAAQgAAEIQAACECgIBIJsMsrYosiNvCw6qD0/ta71O/6KK3v52q+p9i8/x+WuJu955yVmX4n2137+fXLzUIyIDqTNRGh59NGRdt31N/pdypc3fPgwK+aeIeIWFYa0Ll1KtXS+8vj+ky336zfAHnjwIb+qS+fz7Grnq95RDKFlO74Smdw80foSeqOMePgBq+fEFj2cyuSIveSS7gkj5pWfTsJJXjZp0mTvTFSfvKJZgn2oMHb//jfnGoEerNeDcr9+N1nj4xqFI/WDdUz/WgIq9n5aq8SR7/rAveSSnLyO2+rs4s50fZDpAy2ZJRNa5DBXLsig4K62e/HFl+yyHlck7EJFyh+4Pydl2LBhw+3WIUMT1kfzPUqoiaZW0jEmT/ogvEdTCS0//bTE1YBpmLDf6EJcaNE6FT+PF0mPbqP5M9q2sYEDByQ0pxJaJGQptVYQLZawkVvY1kLL0qXL/IjkZb8ts6W/5jjSqlY9IDysIj2annRyuKyZTOtBxe+NhJ1EFlRTpUmTEyItibPx10tr4wJ0NEw22FoF6FSILplIkuyY0bSN2kd0NEqyfWyriJb83HfxNG8S4cUiasPucu+PWze/PxBaonSYh0DBIBAXWuLCg9KCbanpe0ZRKUodJuFEwroiZBS9otRgq1atsipVqvgUZGpTlMzuu+8eRsQ0bNjQCzOLFi3yNV8OOuggO/bYY/N1OvFUs+muN187pzMEIAABCEAAAhCAAAT+RAJBZotM/KyTJ0+xdu07+LPr2/cq69qlc0Znqkwfb7891okH1yYMEI1urOPLJ3fIIQdHmxPmo/60eHaYTIQW+ZCObdQ4HBytmsrXXXtNWGtGxejlJxsxIjHj0pNPPGbKPJLKMvGVp9pW7UqDpnRosmR+Rr/iL/yH0LId4Wdy8yTLw68b5YgjGrjCpPPDmhZyBCoVhEwORTkW87Iz2p1pCimTRUf4J9smqrJqvY51zDFH+zfPlClTwvotWnd2x7NcMdXrNYvtIAQ0Qv/EpolRB9vjdYo70/MrtKRy2gcjAgKc0bRnyZzqgTqu907tOvXC94W2v6jbhaY6M4HFHfdBRMtVfa42FRlPZcmEFhUkbnh0o4Tjxbef9NEHLk3KngnNqYSWF1962S5zIZ+pLC+hRdvoSy5q06Z9HI5UCNqVhm3vvfcOFsOp2C1yI5jnu8+Y77//wRdBftVFk2jkdNQuvqibKYoincXvjVT99dny2qujfR7RZH3i90K1alVNdXniplycqhsQ2EEHH2QHurQ4T496xnr3ThzJoGtQOp2oSWy6996ckNmgffq0Kc7BuFtSsUYhsvE6MM8++3ywqZ/e7uoLnfpHfaFtcd8pxFihxoGJ3Vtvjkmoj4XQEtBhCoGCSyCd8LA1QkuUivYjYV9h9h999JEL/T/M5syZ4wf2SGTR53/ZsmV9SoI99tjDCzJdu3b1UTCq0aLvEm3bqlWr6G7TziO0pEVEBwhAAAIQgAAEIACBAkIg8Fmk8lVEL+O99yZap3NyBiffdNMN1vGsHNEl2ifZfDxCRGnQFVWuFL8TJ76f4JO6847brHnzU3LtJupLU1akF154LiEaJROhRTv9/PPPXQ3nsxOOqcH/5dxzwyQnJAV+avmxgww4Y99+0w3mqpzrnIKGTHzlQd/4dNw7461Ll/PDZvmX8hKbwo5/4gxCy3aEnenNI7Xy0kt7JK3ToNPTDfvwQ/fbqS1zHKtxZ3L8Ej748ENXS6WTb5ZgMvLREfEu4XJ8FLtEFDnpoybB5rzOXcM3UNShGO3H/F9DIJ4PUWeRbPT71p5d3JmeX6ElWiA+ei5t27ZPiKSSQzma61IpyBQhE1jnzue6FHZ9vcMoXsPildEvWY0a1YOuuWqrSGg5++yO1rxFy7BP+/btcokuyYQWbfD006Os91V9w22jM32u6mXnn9812uTnkwkt+uJpdNy/wi8ihZ2WLl0qLB6mDdMJLbkOlKQhLrQo9cuIR0bmut4km/qmLRVa9ENAIx36uhEYcfFGX/LPjHrK14CKHlejqw88aPNrp3UtnHChnKOZWrJ0W5luG+QcTRbRksk+op+LyYSW/N53eaWV0/koeiWeQo2IlkxeKfpAYMciEBdatlXqsLyucpNLRda/f3/fRbXOJKKoyKZSLM6aNcskyigNqB6cVMdFAw0ksqhmV6dOOb8v89p/sI7UYQEJphCAAAQgAAEIQAAChYGA0vYrfb9s/ryv87ykaAaXdLVUgh09//wLdvkVPf2ifGMjRjyYq8TEoyMfS0hhHxc2FNV+VsdObnDVJL+fuJ9MjZkKLeqrDEgqdp/KVMu7SuUqYSr6zz/7OIx6SbZNpr7y+LZxH0kwCDve769eRmjZjq9Afm4eiS3jnTKnN9WXrg6BL3DuQsCOdPUMpHpqBHqtQw/zZ3vDDddZJ+csTmVRx3U87U58m5sHDgpHdvd3qcFUhyWZyUGr3H4yOUpHv/xism60/QUE5DCpcsCBuY48d87sMIVWrpWuQYVtZ7t7TY6Q4K9y5f1tzz0TIzKCbbdWaElV70NqtFTpqEW/sOK1Q+TEf3f8OIuP5o9GwgT7iju8ldproUuNEnzh6Ivr7bdeN11b1FIJLXkVKH/0kYddSpVjorvx88mElg7ufRatv/G4qyEydMjtCYLTthZaogJsrpNM0bClQkvjxsf5vJypvpD1maYRHVGTI08RSlHTF/b/bsrJCRptTzWfSXq3VNuqKJyKw20PoWVL7jt95l93/Q0+LDbVOcfbEVriRFiGwI5PYLkrDq/v8cDKuuLwRf5IH6s2pfrS58G2NkUF9uvXz+rUqeMjmZUiVinCNBJN9dZq165tkydP9iPnlixZYi1btrSvvvrKOnZM/fszfo6qA7PXXnuFzRvdda5w1xuYfnuUc9eLQQACEIAABCAAAQhAoCAQ0GDfIP379GmTfdrdVOetGiKqJSIb8fCDdpwrxZDOogONld1DkTPJLJo+q1u3C6xXzyvDbs88+5zL9NLbL1944fnWu1eOcBN2cDP5EVq03ffff29PuYHHH37wkc1fsMAPwDrEZRbp0KG9H6yl+seqRyuL+vN8Q+xffnzlwaZ6Djm99RlhAEB+IoSCffxZ0/8HAAD//3VWb1UAACIrSURBVO3dCZxO5R7A8b+ZMWNtkS1LIW32QmXJzr25WRK6LbIkDEKkUlotqXsLLW5FWqUSQiVE0YLiRgshS5cSUckyxjLu8390Tue873nnnamZZt7xez4fzjnP+7znnPf7rvP8z/N/8lWoWPmYeMqy5cvtVqkSxTy1rP4Rgblz35G+/W6ydx3zwCi56qrOf2Q39j4rVqyQTp2vtutPPTlBWrVqGbivjz76WK7r0tXe1rBhA3nxhecC2zmVnTr9U1asXGk3V322Qk4++WTnprBlm7bt5csvv7L1X335uRQqVDCsDRU5I9Dzxt6ycOEi38EfHT9W2rS53Ffn3XjwoX/Jk08+7a2Saa9NlTp16vjqnI169S+VH374wdmU4cPvkBt6dHe3vSv6OtHXi7fceecw6XlDD2+VXQ/d72mnnSYrPl3mttu+fbvUb9DI3daV9997V24efIt89tkqt/6WWwZLv77J7rau9OqdLAsWvOur827cNfxOufbaq+W886t5q+WZSU9Ls2ZNfXVpaWnmPXyN+37x3Wg2zjvvPJkz5w1JiI/33fT88y/IvfeN8NV5N5o3byaTJj4l3vei3t6rV08Zdvtttmm0fXj3513/6MPFUqZMGUlNTQ17jNquYsWK0rjxpXLO2WdLtWpVpW27Dt67S9/kPjJ06BBfXdBG6HPYpEljeXbyJNt08uTnZMTIUWF3Gzv2YWnfrq1bf+zYMal01jnutq7UrVtHXnt1qq8uvY1Jz0yWUaMe8DXR5zgxKdFXF7TRuFEjKV++nHz11Rq5vE27oCbp1o0377e2v73fsvJ1N+316XLrrbene2znxkaNLpXnn5vsbLJEAIEYENh/IEWOmu8XpxQuWFDi4+OcTdm9e7ccOnTI3c7KlQkTJtjvgfLly0tCQoL89NNPUq9ePXn77bflbPO98OOPP9rDrV+/XsqVKyfffPONJCf7v2fTO5/ExETR73SnHD2aJvtTUpxNiY+Lk8L8lnQ9WEEAAQQQQAABBBDI3QLD7hgur7zyqj3JN+fMkqpVq0Q84X79B5jf1XPt7U7fTMTG5oYU8zu5StUaton2z8yZ/UbE5nv27JFaFxzvu6tTu7ZMm/aKbXvk6FGpVau27N+/325r30zhwoXD9vPWW2+7dfp7/ZJLLpaiRYvKA6NHuvWZWbn22uvl46VLzd8QlWX+vOOPOdL9M9tX/t1330m79lfav4t0nzcPGigDBvSPtPscr89HoCX7noNoLx79g/bN317cFStUkEsvbRjxZAYPGSozZx5/k32++r/2DRDUuMOVndzO59dff1VqX3hhUDO3rlr1WvYNqG+8L7/4vdPabeBZGTRosMyaPcfWzHvnLTnnHH+nqKcpq3+xgH5464d4aIn0wb9p02bTqX6F++Gr99PXwKpVK8MCBc4+QzvTMxtoada0iTzzzERnd3a5des2adTYH9CoUaOGzHpjuq/d1ddcJ8uWLXfrBg0cIOPGP+pu64oGX84880xfXXod3mecUV4WzH9HtIM/I4GWN96YZYM7vgOEbNx33z1yfZfrfLXRgiQL350vlSpVzFSgJTQYpQcMChA4X+arVq2WKzp09J1X6Lnu3btXatT0f15kRaBFfZP79pd58+b7jq8b+gWsX8ROada8lWzevNnZtK/JT5Z/bIK6hdw6DXj94/J2snXrVrfurrvulKs6d7I/YkLfB5HeA+6dQ1aCHBe/v0j09eItFSud7d2UjAZaMvu6C3r99OjRTUqXLi2jR4/xnQOBFh8HGwjEhMCBg6ly5MgR91wLFkiS/Cbo4ZRff/3V913t1GfFcvr06fazNH/+/DJkyBDzHf2M1DZ/qB08eND8AfmKdOnSRbZt2yannHKKrFmzRvSPnOHDh2f40Pq74qSTTnLbHzaPM8U8XqdocKeQebwUBBBAAAEEEEAAAQRiQcDbL3THsNvkxht7Bp62NxCif7sv/fiDwHbeyg0bvpFWf7vMVrVr20bGjXvEe3PYelB/rl6gde55VcPaZrRi4zfrJM5cDKVl0Xvv278FdF3PJ9KF+dq/2LxFK22WoSBItL5yu6Pf/tN+845mgIDTT6QXe2tfZG4uBFqy8dmJ9uLRN8CFtS9y/4BetvQjKVWqZNgZ6SgC7eTWcv31XeS+e+8Oa6MVH3zwoVzftbu9LaMdbpe1biNff/21vc+7C+bJWWdVsuuh/2nn5kUX13cjiNFGv4Ten+3sFdDI96WNmrrPj3M07ZAfNGiA1DdXqGpnvr7m3jEd3vffPzKsrY7sGDnifueuYcs/G2jRHXpH2Rw1kXYdfeUNoGib/v37yZDBg3TVLa+++prcPuxOdzt0JSg4o23SC7Q4I8OCRntoQEgDQ07RIETTZi19Zjpi7NRTTzWjWN50mtnAwOL3F/qu4A3qKHfu4P2SCB3R0rv3jXL7bbfapqH7CPqiXrv2a2n9jzbOru3SCbS8/voMGXrr8dExTgMNYJQoUcLZlNnmcQwceLO7rStZEWjR/eiPjL9fdrlvRJTW64iaN80oICeQ8sjYcfLYY0/oTW7p2LGD/OuhB91t9R4Qcp5vzJwuNWvWkJ9//sV8ptZ12+rK3/7WSh5//FFfAHHx4iU2MHnaacVMB+Kp5t/JoqMOTz/99MCA1ZLF79nRLt4d/9FAS2Zed/v27ZNL6jV0vyP0+Dfd1E8G33z8/fH4ExPk4YfHuqeV0c999w6sIIBAjgukmu/l1EOH3fNINEGPAp5RePr9/ssvv7i3Z+XKpk2bZOrUqXb/3bp1Ew281K1bV1aakc56RVuTJk1sICZfvnyy3Ix41+V9992X4VPQAE1BM0LHKQdTD8mhw78/1qTE/JJkRr1QEEAAAQQQQAABBBCIBQFv/6z2y7y3aIEUKFAg7NRffGmK3H33vba+y3XXmj644+thDT0V3uCM9uV9+slS+/vb08Rd/eabjdKy1d/ttmZXmfv28Yvi9QKu0Its3Tt5VpxsRU6VjqDRMnvWTPeYzz77vNw/4vgIF2//lHMfZ6kZXLTPSosGlNQlvRKtr9y5r47KucaMlPn8889tlfYNPTjmATcQ5LTLbct8jGjJvqckIy8eTXOj6W60hHYoap2+ifWF5UTv9M2jb6LQoleNt7+io/sCzMhoFt2HN32Upun5z4THfZ3E2kbfqCNGjpYXXnhRNyVSp7a9kf9yTECH6elwvUhFryx1hg+GttEPwrffmmMCB6eE3uRuZ0WgRXemAYrKlc+Sd96ZH9bxrrfPnj1Tqlfzp/L6+eefbVBSbw8qGnzUIGRoiRRo8aakykig5YExD8rTT0/y7V7fi9oR1fDSJr56HVkxZsxoty40SOLcoM/HB0ved82zM9CyevXn5vPhSufQdnn11f+UPr17mU6wAvLe+4vlttuG+W7XjawKtOi+vvjii7DUZFp/xRXt5ZGH/6WrsmXLFhvQshue/3QobNNmTeT777+XKVP8qcT0B4gGjZyrLvrfNFC8w2B1NxqA0CswypYta0f86eeet1xwQS2ZMX2arQoa0ZJVgZbMvu4effRxGTtuvHuq+prR4JlzJQmBFpeGFQRiViB0lEe8ST9Z2HwuO0UvSti5c6ezmaVL3beOUOnQoYO50KeUzJ071wSta4qmCtPbGjdubC4mmCOHTXBEfwvq8q677srwOZQsWdKkQYt32+9POWj361SEjt5x6lkigAACCCCAAAIIIJBbBbTv5LVpr9vT69ypo8k0MdL3m3fp0mWmH/f3/qnQ7CuaGlhTrP9sLqbq3q2rL8uHd8qGrl2vl+EmBb+OAveWXbt2mXS+/d209sl9ept047d4m0Rdf2nKy+Z3/T22XVAfnN6g51mn7iXuvpxsLG6FWdF+Mu0v09K69WXyhLnINVrJSF+5XiR+Q89e8uGHH9ndBV1AG+04OXU7gZZslM/Ii2f9hg3miuvW7lloh2DHKzvYP0TXmT90p02b7l5FH9qB697JrLxvOkq79zg+ZC0zVzXv2LHTpOFp6x5DOy07dbpSqpx/vo3Krlu3Xha8u9AN4OgxX57yosnh/fubzXserOeswBMT/iP//nf6wwuDznD2rBlSvXr1oJvcuqwKtLg7DFjxdrqH3nzDDTfaoYuh9bodaTRYpECL5rp0IvbRAi2h71E9ngYpRo8aoas2hdn48Y/Zdec/7bTXznstkQIt995zl+gXp1OyM9CieTrPPjs8QOscO9IyKwMteowXXnxJ7rkn/GpotVRTLd55pmxFlP/0B4X+sHDKzp0/SrPmLSMGFZ123uULzz/rpm7MzkBLZl53+uOp7kX1vKcpofMcEWjx8bCBQEwKpJkLZfbtP+A796JFCks+T41+HmiQIzuKztPSsGFDO7JQR87o8HwNXOvcgA0aNLAXRKxevdrO96XnMHDgwAydhqYjK168uNv2mFnbu+94rminskjhQhJnRslQEEAAAQQQQAABBBCIFYFvv/1WmjRt4Z6u9v1oCnm9wOjTT1eIjmZxSlBWIh3p4rTxjkbR+3z0sZl3+7quzt3the4tWzSXc889x6b3XbN2ra+fWPtw9SJgb7YS987prGQk0KJ3905joRd+9u3bRyqYlP27zd8MminEmStab3vdzBMTNDAg9DSi9ZVrRiXNYuK9gFYzeyQlRU45rCPvb+jRPd02oeeRXdsEWrJL1uw32ovHObT+Mdute890Owb1zXnP3cPdq7ad++pSR7PofBvO0C9vJ6+3XaR17Zjsk9zXndslUjt9A+sk4Zqih5J7Bbyvu2hnqcGGUSPvtx/e0dr+2UCLDjV86qmJEQ+jI6Wee/YZd4RHaMOglFHaRkfIvPjCc6HN7XZQoCV05Fi0QIuOEtLRQt6yfNnHUrLk8bRbBw4cMPPMNHODldpOXTWdlX7RBgVadJ4OTdWnHVFOyc5Aix5DR6Tdc2/k1HB6TvHxCe7oOb1PVgda9LNKR5w4E8LpMZziDUJoervk5H7OTRGXOtF9jx7dwm7XETx69YNegRGtjBo5Qq655niQR9tmV6Als6+7kWYU4TOTn3VPXz9/P1jyni8ND4EWl4cVBGJaYN+BFNE/KJwSOtJDR6PqXC3ZUSZOnCi9evUy6Wc/sJ+ZxYoVEw2s6B9LzjHLlStnR9VoGrBu3bpl6DR0bhbdh1NCR+5oMKdIod/TijntWCKAAAIIIIAAAgggkNsFli//RP559bXpnmbz5s3kyf88ETYipcv13dyRGrqD9evW+PqGPvtsldzYq0/U/gzN/DFhwmOZDrLoMTMaaNGRJZrG35kzXO8bWrSv4qUXn8tQkEXv6+2z1BTuV13V2bdL7WOrWq2mry4jG5EuwM7IfbOyDYGWrNQM2ZdG9nreePxK66AXj7e5Th6k8xPofBXezkFNNXP55f8Im2Dbe1/vG7xJk8by7GR/iiNv20jrOvGpdoJr9FQjsN6iEck6tS+Ufv36mlx7pbw3sZ5LBTR4NmPGTHnedK5r+jlv0Y6PKlXOlw4mZVMnM8zRm9bD2y50PXSicp2ASiPGQUWDfjrk0VsmPv2knQPj9mF3uEFBvV3Pp3v3bnZUQqF0Ol10vorqNS7w7tKu6/wd2okdVIICLUs//tD3OtYvjtDJwpw5WrzzHjn7v+WWwdKvb7KzaZf6paORfm957NFx9r0bFGhRixbmqgRvufqa63zz1Xjnqgndh6Z6C51MzZuj09mvM0eLs/2uGZ02YuQo+d//tjpVdtm+fTu57dah5qqBQb73/82DBsqAAf19bYM2Gjdp5tunDuvUHxRBRTvu9LUReg4a6Fm0cIH7etSRLZpWUUfreYu+XurXryc6RDfU0NtOr8rW4bivmPl9vJ+p2kZ/CNSpU1uG3X6rnGmuxvCWjAZanInnnPuOHz9W2ra53G7+2dddUKq8hx4aI506+tO/hQZa9IfcpIlPOafEEgEEYkQgdO6S/CY9gAZbnKJBmB07djibWbqcPHmyNG3aVNaaq+M0LWH9+vVNCoCnpUKFCnbulsqVK4tekLBkyRLzmdvCfHbWydDxNRWZk9JR75ByMFU02OKU0LlonHqWCCCAAAIIIIAAAgjEgoD2wTzyyFiZ+8483+lqf4POq6rZgrwX1zqNtJ8puW9/e7G9t9/HuV2X27dvN0GUJ016sP+682o7t2s/cUMz8lwvZk5vlIfTPmjpDbS8OWeWVK1aJaiZrdMLZvUi0Dlz3vJlO9LH2bRpY+lv+opD+1Ui7szcEK2v/IC5CK1qtcxf4E+gJT31E/y2bdu+sx2DOjQsaFKl7ObRNENbNm8x+bgP2zeLdyLT7D42+896Ae3Y/sF00OiyfLnydiSGDqvLzhIp0OJ0jOvVuZs2bxa94rVsmTJhEf6gc9OOpgYNG4cFjlZ9tsKdsyLoftSFC+zdu1e+/fZ/xj1ezjjjDHcy+vCWOV9jX78mWLh7909mQvryUq5c2UydlH6e7TSvf02TmHYsTSpVrGhGTZ2aqX3QGAEEEMhOAZ0PRecv8ZaiJq2W97taPwv1uzOriwZVkpOTzVV1H8qaNWvsqDk9rgZd9LtCl3pVmf4Rp/802BKtaEBcv9+don+c7Q1Jj6bz0GT0Qg9nPywRQAABBBBAAAEEEMhtAikpKbJ161bzmznFXlys2U+8v+ODzlcvZNK0vEWKFAm62Ven+9d0ZZqBpGKlipJgMqfkVNFzWb9+g714NbN9Mzl1zn/1cRnR8leLczwETgCBaIGWjBJoJ/n277eboZDFZdKkyfKwuVrAWzI62Zb3PqwjgAACCCCQ2wRC04clJSZKUuLv6SU1GLNz584sP22do6Vdu3Yya9YsG1TRdLbVqlWTWrVqSUUTmJ49e7ZoOjE99imnnGJGkHaMeg4lS5b0BVFSDx2WVDN61CmkDXMkWCKAAAIIIIAAAggggEBeEiDQkpeeTR4LArlEIKsCLZpKT1NqRSo66VdGJtuKdH/qEUAAAQQQyA0Ch0ww4qAnGKFXwemoFm/RFJo6yiSryhGTymvq1Kl2jpaFCxfKnj17bDrPjRs3SgWTOkxH/82cOVPat28vq1atslfcderUKd3DFy1aNOzKPB3NoqNanFLABJESPUEkp54lAggggAACCCCAAAIIIBDLAgRaYvnZ49wRyKUCWRVoeWDMgyZXfPCcQ1d17iRjxozOpQKcFgIIIIAAAhkX0EDEPg1IeO4SOqpFb9q1a5dNM+Bp9odXNQWB7q9ly5Z25EqiCYCULVtWfvzxR1m6dKlJIXvErjdq1MgGYXRUTefO/skqvQfXHNTFixf3VpmRLP7RLJq4tEhIWjTfHdhAAAEEEEAAAQQQQAABBGJUgEBLjD5xnDYCuVkgqwItoZOsO4+5T59eMmTI4BzNTemcC0sEEEAAAQSyQkDTa2lgwls0KBFnRrc4RXM5a3AkK8r8+fOlZs2abvBG5+TTiTdLly5t52ypV6+erFy50o5uWb16teholW7dukU8tAZZvBN+pv0WPPLeQdOhaQCJggACCCCAAAIIIIAAAgjkNQECLXntGeXxIJALBPQq2REj/aNNBg0cYPK+V83w2enVvVNenipff/21/PrrXjOxblGpcn4V0ylUQ6pWrZLh/dAQAQQQQACBWBCwo1rMJJreNFv5ExKkYIEk3+nrJJS//PKLr+6PbEyZMkWaN28umqZMU4PpaJbvv//ejmTRiTn1+7dMmTI2eOLMD9OlS5fAQ+n8LRqo8ZaUg2aSTzMqxil6nCKFCtrjOXUsEUAAAQQQQAABBBBAAIG8IkCgJa88kzwOBBBAAAEEEEAAgZgWOGRGrBxM/X3ieH0wBZKSJDF/gu9x7d+/31yE8KuvLrMbc+fOlRYtWsiGDRvsfCyaGmzdunV20vv169fLRRddJIsWLbLpwEqUKCFffPGFJCcnhx3mpJNOsnO7eG84dPiIeRyp3irzOMzcLCa9GAUBBBBAAAEEEEAAAQQQyIsCBFry4rPKY0IAAQQQQAABBBCISYEDKQfliAl6eEthM1okPj7OWyV/JtiSaoIga9eutanD1qxZY0ejaKBlyZIlcsEFF8i2bdvsSJZixYrJ5s2bRUe0xMfHS79+/XznEBRkOXo0TfabUTfekmDuW6hgAW8V6wgggAACCCCAAAIIIIBAnhIg0JKnnk4eDAIIIIAAAggggEAsCxxNM4EKk0LMW+Li8plARUHffC16+x9NIzZjxgxp27atlCxZUiZOnCitW7eWTZs2ydSpU6Vv376SaOZRGT16tAwdOlR0fpYVK1aIBl30NqcEpQvTeVkOmCBLWtoxp5ldFjYpw+Lj/IEiXwM2EEAAAQQQQAABBBBAAIEYFyDQEuNPIKePAAIIIIAAAgggkLcEglJvaaBCR4XoXCfectikG9uzZ4/oMiPl0KFD8vLLL0vPnj1FU4KNGzdOevfuLfPmzZMvv/zSpgzT1GHnnnuu6FJHrSxevFiqV68unTt3tiNdTj75ZN/E93pcnVtGR+NooMhbglKfeW9nHQEEEEAAAQQQQAABBBDICwIEWvLCs8hjQAABBBBAAAEEEMhTAjpXi87Z4i0abClogi1xIcEWbbNv3z7Zu3evt3ng+saNG6VSpUpy+umn26DN/PnzpUGDBnbUSqlSpWTLli3yySef2EDLd999J2XKlLFzt1x88cXSsGFDKVKkSNh+dSRLSkCQRedk0blZKAgggAACCCCAAAIIIIBAXhcg0JLXn2EeHwIIIIAAAggggEBMCqQcTJXDR474zl3TiBVMKhA2Z4s20nlWdO4W/RepaGCla9euNu2Yzruyfft2KV26tOzYscMuV65cKbt27ZLixYvLggULTBqwNLnwwgulVatWUqBA+DwrOidLSurBsHRh+RMSpGCBpEinQT0CCCCAAAIIIIAAAgggkKcECLTkqaeTB4MAAggggAACCCCQlwQOmGDLkZBgiz6+9FJyaXBE52/Rf96UYrt377aT27dp00Y2bNhggyk6akVTiOlolrlz59oUYVu3brUjV3SUTK1atcwomoKBpEEpzrRhggmyFCLIEmhGJQIIIIAAAggggAACCORNAQItefN55VEhgAACCCCAAAII5BGBoJEt+tB01EiSSc0VlErMeeg6ykXnZdGAy/Lly+Wss86yqcNSU1Nl586dNqCi875ocEbb6UgWva1w4cLOLsKWmios1aQ2Cx1tow0ZyRLGRQUCCCCAAAIIIIAAAgicAAIEWk6AJ5mHiAACCCCAAAIIIBDbAkFztjiPKCkxUZIS8zub2bpMPXRYUk1AJqgwJ0uQCnUIIIAAAggggAACCCBwIggQaDkRnmUeIwIIIIAAAggggEDMC0RK1aUPTEelaKAjMX+CXc/KB3vMjGDRYx8yo2J0Paikl8osqD11CCCAAAIIIIAAAggggEBeEiDQkpeeTR4LAggggAACCCCAQJ4WOGpSfGnariMmJVikoum7EhLi7Vwp+SI1ilKv4RSdG+bIkaOBKcKcuyfEx9v0ZfFxcU4VSwQQQAABBBBAAAEEEEDghBMg0HLCPeU8YAQQQAABBBBAAIFYF9DRJZrGK9IIE+fxxZtAiAZB4uPjzFwucZIvLp8d8eIEYDSgovs4lnZM0o6lydGj5p8J5ujcLukVHUGj6cp0FA0FAQQQQAABBBBAAAEEEDjRBQi0nOivAB4/AggggAACCCCAQEwKHE/pddhMYm8CLn/RI9AATeJvARYNtlAQQAABBBBAAAEEEEAAAQRMOucKFSv7/i5btny5dSlVohg+CCCAAAIIIIAAAgggkMsFNOByWOdQMam+0sxolOwocWZUTKJJSZY/G+aAyY7zZZ8IIIAAAggggAACCCCAwF8pQKDlr9TmWAgggAACCCCAAAIIZKOApvw6bOZV0Tlc/mzQRYMrOgdLfjPfi6YgoyCAAAIIIIAAAggggAACCAQLEGgJdqEWAQQQQAABBBBAAIGYFkgzI1008KIBl6NmDpZjZql1ofO6aAqwOPMvn87lYuZw0QCLBla0joIAAggggAACCCCAAAIIIBBdgEBLdCNaIIAAAggggAACCCCAAAIIIIAAAggggAACCCCAAAKBAgRaAlmoRAABBBBAAAEEEEAAAQQQQAABBBBAAAEEEEAAAQSiCxBoiW5ECwQQQAABBBBAAAEEEEAAAQQQQAABBBBAAAEEEEAgUIBASyALlQgggAACCCCAAAIIIIAAAggggAACCCCAAAIIIIBAdAECLdGNaIEAAggggAACCCCAAAIIIIAAAggggAACCCCAAAIIBAoQaAlkoRIBBBBAAAEEEEAAAQQQQAABBBBAAAEEEEAAAQQQiC5AoCW6ES0QQAABBBBAAAEEEEAAAQQQQAABBBBAAAEEEEAAgUABAi2BLFQigAACCCCAAAIIIIAAAggggAACCCCAAAIIIIAAAtEFCLREN6IFAggggAACCCCAAAIIIIAAAggggAACCCCAAAIIIBAoQKAlkIVKBBBAAAEEEEAAAQQQQAABBBBAAAEEEEAAAQQQQCC6AIGW6Ea0QAABBBBAAAEEEEAAAQQQQAABBBBAAAEEEEAAAQQCBQi0BLJQiQACCCCAAAIIIIAAAggggAACCCCAAAIIIIAAAghEFyDQEt2IFggggAACCCCAAAIIIIAAAggggAACCCCAAAIIIIBAoACBlkAWKhFAAAEEEEAAAQQQQAABBBBAAAEEEEAAAQQQQACB6AIEWqIb0QIBBBBAAAEEEEAAAQQQQAABBBBAAAEEEEAAAQQQCBQg0BLIQiUCCCCAAAIIIIAAAggggAACCCCAAAIIIIAAAgggEF0gLNCyedOG6PfKxha/7tufjXtn1wgggAACCCCAAAIIIIAAAggggAACCCCAAAIIIIBA1gkQaMk6S/aEAAIIIIAAAggggAACCCCAAAIIIIAAAggggAACJ5hArgu0nGD+PFwEEEAAAQQQQAABBBBAAAEEEEAAAQQQQAABBBCIYQECLTH85HHqCCCAAAIIIIAAAggggAACCCCAAAIIIIAAAgggkLMCBFpy1p+jI4AAAggggAACCCCAAAIIIIAAAggggAACCCCAQAwLEGiJ4SePU0cAAQQQQAABBBBAAAEEEEAAAQQQQAABBBBAAIGcFSDQkrP+HB0BBBBAAAEEEEAAAQQQQAABBBBAAAEEEEAAAQRiWIBASww/eZw6AggggAACCCCAAAIIIIAAAggggAACCCCAAAII5KwAgZac9efoCCCAAAIIIIAAAggggAACCCCAAAIIIIAAAgggEMMCBFpi+Mnj1BFAAAEEEEAAAQQQQAABBBBAAAEEEEAAAQQQQCBnBQi05Kw/R0cAAQQQQAABBBBAAAEEEEAAAQQQQAABBBBAAIEYFiDQEsNPHqeOAAIIIIAAAggggAACCCCAAAIIIIAAAggggAACOStAoCVn/Tk6AggggAACCCCAAAIIIIAAAggggAACCCCAAAIIxLAAgZYYfvI4dQQQQAABBBBAAAEEEEAAAQQQQAABBBBAAAEEEMhZAQItOevP0RFAAAEEEEAAAQQQQAABBBBAAAEEEEAAAQQQQCCGBQi0xPCTx6kjgAACCCCAAAIIIIAAAggggAACCCCAAAIIIIBAzgoQaMlZf46OAAIIIIAAAggggAACCCCAAAIIIIAAAggggAACMSxAoCWGnzxOHQEEEEAAAQQQQAABBBBAAAEEEEAAAQQQQAABBHJW4P8a/6kh6ZPT7wAAAABJRU5ErkJggg==)"
      ],
      "metadata": {
        "id": "5FYiXl-BQoSV"
      }
    }
  ]
}